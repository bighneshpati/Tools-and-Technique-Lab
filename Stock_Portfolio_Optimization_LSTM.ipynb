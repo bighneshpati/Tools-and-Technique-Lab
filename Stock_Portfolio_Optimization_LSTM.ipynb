{
  "cells": [
    {
      "cell_type": "code",
      "execution_count": null,
      "metadata": {
        "colab": {
          "base_uri": "https://localhost:8080/"
        },
        "id": "ZpsjjbzURW7X",
        "outputId": "b65eb92c-c040-4a0d-c1e8-98c9822fe06f"
      },
      "outputs": [
        {
          "name": "stdout",
          "output_type": "stream",
          "text": [
            "Collecting yfinance\n",
            "  Downloading yfinance-0.1.70-py2.py3-none-any.whl (26 kB)\n",
            "Collecting lxml>=4.5.1\n",
            "  Downloading lxml-4.8.0-cp37-cp37m-manylinux_2_17_x86_64.manylinux2014_x86_64.manylinux_2_24_x86_64.whl (6.4 MB)\n",
            "\u001b[K     |████████████████████████████████| 6.4 MB 37.5 MB/s \n",
            "\u001b[?25hRequirement already satisfied: multitasking>=0.0.7 in /usr/local/lib/python3.7/dist-packages (from yfinance) (0.0.10)\n",
            "Requirement already satisfied: pandas>=0.24.0 in /usr/local/lib/python3.7/dist-packages (from yfinance) (1.3.5)\n",
            "Collecting requests>=2.26\n",
            "  Downloading requests-2.27.1-py2.py3-none-any.whl (63 kB)\n",
            "\u001b[K     |████████████████████████████████| 63 kB 1.8 MB/s \n",
            "\u001b[?25hRequirement already satisfied: numpy>=1.15 in /usr/local/lib/python3.7/dist-packages (from yfinance) (1.21.5)\n",
            "Requirement already satisfied: python-dateutil>=2.7.3 in /usr/local/lib/python3.7/dist-packages (from pandas>=0.24.0->yfinance) (2.8.2)\n",
            "Requirement already satisfied: pytz>=2017.3 in /usr/local/lib/python3.7/dist-packages (from pandas>=0.24.0->yfinance) (2018.9)\n",
            "Requirement already satisfied: six>=1.5 in /usr/local/lib/python3.7/dist-packages (from python-dateutil>=2.7.3->pandas>=0.24.0->yfinance) (1.15.0)\n",
            "Requirement already satisfied: idna<4,>=2.5 in /usr/local/lib/python3.7/dist-packages (from requests>=2.26->yfinance) (2.10)\n",
            "Requirement already satisfied: charset-normalizer~=2.0.0 in /usr/local/lib/python3.7/dist-packages (from requests>=2.26->yfinance) (2.0.12)\n",
            "Requirement already satisfied: urllib3<1.27,>=1.21.1 in /usr/local/lib/python3.7/dist-packages (from requests>=2.26->yfinance) (1.24.3)\n",
            "Requirement already satisfied: certifi>=2017.4.17 in /usr/local/lib/python3.7/dist-packages (from requests>=2.26->yfinance) (2021.10.8)\n",
            "Installing collected packages: requests, lxml, yfinance\n",
            "  Attempting uninstall: requests\n",
            "    Found existing installation: requests 2.23.0\n",
            "    Uninstalling requests-2.23.0:\n",
            "      Successfully uninstalled requests-2.23.0\n",
            "  Attempting uninstall: lxml\n",
            "    Found existing installation: lxml 4.2.6\n",
            "    Uninstalling lxml-4.2.6:\n",
            "      Successfully uninstalled lxml-4.2.6\n",
            "\u001b[31mERROR: pip's dependency resolver does not currently take into account all the packages that are installed. This behaviour is the source of the following dependency conflicts.\n",
            "google-colab 1.0.0 requires requests~=2.23.0, but you have requests 2.27.1 which is incompatible.\n",
            "datascience 0.10.6 requires folium==0.2.1, but you have folium 0.8.3 which is incompatible.\u001b[0m\n",
            "Successfully installed lxml-4.8.0 requests-2.27.1 yfinance-0.1.70\n"
          ]
        }
      ],
      "source": [
        "!pip install yfinance\n",
        "import numpy as np\n",
        "import pandas as pd\n",
        "import datetime as dt\n",
        "from pandas_datareader import data as wb\n",
        "import plotly.graph_objects as go\n",
        "import matplotlib.pyplot as plt\n",
        "import seaborn as sn\n",
        "import yfinance as yf"
      ]
    },
    {
      "cell_type": "markdown",
      "metadata": {
        "id": "gQ6_JQBZRW7d"
      },
      "source": [
        "### Importing Data"
      ]
    },
    {
      "cell_type": "code",
      "execution_count": null,
      "metadata": {
        "colab": {
          "background_save": true
        },
        "id": "d_cNCCifRW7e",
        "outputId": "a3266ee2-11b4-4a09-894e-89521b7452f4"
      },
      "outputs": [
        {
          "data": {
            "text/plain": [
              "['RELIANCE.NS',\n",
              " 'INFY.NS',\n",
              " 'KOTAKBANK.NS',\n",
              " 'ASIANPAINT.NS',\n",
              " 'TITAN.NS',\n",
              " 'ITC.NS']"
            ]
          },
          "execution_count": null,
          "metadata": {},
          "output_type": "execute_result"
        }
      ],
      "source": [
        "stocks = input().split()\n",
        "assets = [stock.upper() + '.NS' for stock in stocks]\n",
        "assets\n",
        "\n",
        "# RELIANCE INFY KOTAKBANK ASIANPAINT TITAN ITC"
      ]
    },
    {
      "cell_type": "code",
      "execution_count": null,
      "metadata": {
        "colab": {
          "background_save": true
        },
        "id": "JutsjNfEFQb7",
        "outputId": "8ceb156d-54bd-4f55-e80d-3e41f7b6bc52"
      },
      "outputs": [
        {
          "data": {
            "text/plain": [
              "['ASIANPAINT.NS',\n",
              " 'INFY.NS',\n",
              " 'ITC.NS',\n",
              " 'KOTAKBANK.NS',\n",
              " 'RELIANCE.NS',\n",
              " 'TITAN.NS']"
            ]
          },
          "execution_count": null,
          "metadata": {},
          "output_type": "execute_result"
        }
      ],
      "source": [
        "assets.sort()\n",
        "assets"
      ]
    },
    {
      "cell_type": "code",
      "execution_count": null,
      "metadata": {
        "colab": {
          "background_save": true
        },
        "id": "62jMnr4wRW7h",
        "outputId": "293ce8a5-6efa-42d3-9730-c3876942154d"
      },
      "outputs": [
        {
          "data": {
            "text/plain": [
              "5.0"
            ]
          },
          "execution_count": null,
          "metadata": {},
          "output_type": "execute_result"
        }
      ],
      "source": [
        "years = float(input('No. of years data you want to analyze: '))\n",
        "years"
      ]
    },
    {
      "cell_type": "code",
      "execution_count": null,
      "metadata": {
        "colab": {
          "background_save": true
        },
        "id": "qA3ZYTSERW7h",
        "outputId": "a06a95fa-82dc-42fd-d919-1e93e4010f2c"
      },
      "outputs": [
        {
          "data": {
            "text/plain": [
              "datetime.datetime(2017, 3, 31, 4, 51, 23, 390838)"
            ]
          },
          "execution_count": null,
          "metadata": {},
          "output_type": "execute_result"
        }
      ],
      "source": [
        "endDate = dt.datetime.now()\n",
        "startDate = endDate - dt.timedelta(days= 365 * years)\n",
        "startDate"
      ]
    },
    {
      "cell_type": "code",
      "execution_count": null,
      "metadata": {
        "colab": {
          "background_save": true
        },
        "id": "HQviCwZs_auX"
      },
      "outputs": [],
      "source": [
        "yf.pdr_override()"
      ]
    },
    {
      "cell_type": "code",
      "execution_count": null,
      "metadata": {
        "colab": {
          "background_save": true
        },
        "id": "tyTl1Ml6RW7i",
        "outputId": "41998628-7b7c-4e42-9631-d228d35592a4"
      },
      "outputs": [
        {
          "name": "stdout",
          "output_type": "stream",
          "text": [
            "[*********************100%***********************]  6 of 6 completed\n"
          ]
        }
      ],
      "source": [
        "pf_data = wb.get_data_yahoo(assets, start=startDate, end=endDate)['Adj Close']"
      ]
    },
    {
      "cell_type": "code",
      "execution_count": null,
      "metadata": {
        "colab": {
          "background_save": true
        },
        "id": "0BSP4Rp-RW7i",
        "outputId": "e31f8083-9c6d-48cf-ebd8-abf159b2c897"
      },
      "outputs": [
        {
          "data": {
            "text/html": [
              "\n",
              "  <div id=\"df-36e7b738-f26a-47e9-8561-8c40782f0a4f\">\n",
              "    <div class=\"colab-df-container\">\n",
              "      <div>\n",
              "<style scoped>\n",
              "    .dataframe tbody tr th:only-of-type {\n",
              "        vertical-align: middle;\n",
              "    }\n",
              "\n",
              "    .dataframe tbody tr th {\n",
              "        vertical-align: top;\n",
              "    }\n",
              "\n",
              "    .dataframe thead th {\n",
              "        text-align: right;\n",
              "    }\n",
              "</style>\n",
              "<table border=\"1\" class=\"dataframe\">\n",
              "  <thead>\n",
              "    <tr style=\"text-align: right;\">\n",
              "      <th></th>\n",
              "      <th>ASIANPAINT.NS</th>\n",
              "      <th>INFY.NS</th>\n",
              "      <th>ITC.NS</th>\n",
              "      <th>KOTAKBANK.NS</th>\n",
              "      <th>RELIANCE.NS</th>\n",
              "      <th>TITAN.NS</th>\n",
              "    </tr>\n",
              "    <tr>\n",
              "      <th>Date</th>\n",
              "      <th></th>\n",
              "      <th></th>\n",
              "      <th></th>\n",
              "      <th></th>\n",
              "      <th></th>\n",
              "      <th></th>\n",
              "    </tr>\n",
              "  </thead>\n",
              "  <tbody>\n",
              "    <tr>\n",
              "      <th>2017-03-31</th>\n",
              "      <td>1040.873779</td>\n",
              "      <td>447.008148</td>\n",
              "      <td>234.894028</td>\n",
              "      <td>870.307922</td>\n",
              "      <td>637.497864</td>\n",
              "      <td>449.838745</td>\n",
              "    </tr>\n",
              "    <tr>\n",
              "      <th>2017-04-03</th>\n",
              "      <td>1056.726929</td>\n",
              "      <td>441.126709</td>\n",
              "      <td>235.941559</td>\n",
              "      <td>874.049866</td>\n",
              "      <td>663.438965</td>\n",
              "      <td>446.533630</td>\n",
              "    </tr>\n",
              "    <tr>\n",
              "      <th>2017-04-05</th>\n",
              "      <td>1049.648682</td>\n",
              "      <td>435.507721</td>\n",
              "      <td>233.762711</td>\n",
              "      <td>887.919678</td>\n",
              "      <td>682.912781</td>\n",
              "      <td>478.029663</td>\n",
              "    </tr>\n",
              "    <tr>\n",
              "      <th>2017-04-06</th>\n",
              "      <td>1053.866577</td>\n",
              "      <td>437.103760</td>\n",
              "      <td>229.698380</td>\n",
              "      <td>892.409790</td>\n",
              "      <td>694.254517</td>\n",
              "      <td>473.800964</td>\n",
              "    </tr>\n",
              "    <tr>\n",
              "      <th>2017-04-07</th>\n",
              "      <td>1050.036255</td>\n",
              "      <td>429.210907</td>\n",
              "      <td>228.483246</td>\n",
              "      <td>871.205994</td>\n",
              "      <td>678.858887</td>\n",
              "      <td>471.856812</td>\n",
              "    </tr>\n",
              "    <tr>\n",
              "      <th>...</th>\n",
              "      <td>...</td>\n",
              "      <td>...</td>\n",
              "      <td>...</td>\n",
              "      <td>...</td>\n",
              "      <td>...</td>\n",
              "      <td>...</td>\n",
              "    </tr>\n",
              "    <tr>\n",
              "      <th>2022-03-24</th>\n",
              "      <td>3025.350098</td>\n",
              "      <td>1886.699951</td>\n",
              "      <td>254.850006</td>\n",
              "      <td>1714.150024</td>\n",
              "      <td>2578.649902</td>\n",
              "      <td>2618.500000</td>\n",
              "    </tr>\n",
              "    <tr>\n",
              "      <th>2022-03-25</th>\n",
              "      <td>3046.949951</td>\n",
              "      <td>1876.550049</td>\n",
              "      <td>253.350006</td>\n",
              "      <td>1722.250000</td>\n",
              "      <td>2595.850098</td>\n",
              "      <td>2523.899902</td>\n",
              "    </tr>\n",
              "    <tr>\n",
              "      <th>2022-03-28</th>\n",
              "      <td>3027.449951</td>\n",
              "      <td>1873.900024</td>\n",
              "      <td>257.049988</td>\n",
              "      <td>1725.199951</td>\n",
              "      <td>2621.949951</td>\n",
              "      <td>2535.899902</td>\n",
              "    </tr>\n",
              "    <tr>\n",
              "      <th>2022-03-29</th>\n",
              "      <td>3042.600098</td>\n",
              "      <td>1886.000000</td>\n",
              "      <td>254.600006</td>\n",
              "      <td>1730.000000</td>\n",
              "      <td>2622.550049</td>\n",
              "      <td>2538.800049</td>\n",
              "    </tr>\n",
              "    <tr>\n",
              "      <th>2022-03-30</th>\n",
              "      <td>3080.000000</td>\n",
              "      <td>1898.500000</td>\n",
              "      <td>253.550003</td>\n",
              "      <td>1743.449951</td>\n",
              "      <td>2632.550049</td>\n",
              "      <td>2539.899902</td>\n",
              "    </tr>\n",
              "  </tbody>\n",
              "</table>\n",
              "<p>1235 rows × 6 columns</p>\n",
              "</div>\n",
              "      <button class=\"colab-df-convert\" onclick=\"convertToInteractive('df-36e7b738-f26a-47e9-8561-8c40782f0a4f')\"\n",
              "              title=\"Convert this dataframe to an interactive table.\"\n",
              "              style=\"display:none;\">\n",
              "        \n",
              "  <svg xmlns=\"http://www.w3.org/2000/svg\" height=\"24px\"viewBox=\"0 0 24 24\"\n",
              "       width=\"24px\">\n",
              "    <path d=\"M0 0h24v24H0V0z\" fill=\"none\"/>\n",
              "    <path d=\"M18.56 5.44l.94 2.06.94-2.06 2.06-.94-2.06-.94-.94-2.06-.94 2.06-2.06.94zm-11 1L8.5 8.5l.94-2.06 2.06-.94-2.06-.94L8.5 2.5l-.94 2.06-2.06.94zm10 10l.94 2.06.94-2.06 2.06-.94-2.06-.94-.94-2.06-.94 2.06-2.06.94z\"/><path d=\"M17.41 7.96l-1.37-1.37c-.4-.4-.92-.59-1.43-.59-.52 0-1.04.2-1.43.59L10.3 9.45l-7.72 7.72c-.78.78-.78 2.05 0 2.83L4 21.41c.39.39.9.59 1.41.59.51 0 1.02-.2 1.41-.59l7.78-7.78 2.81-2.81c.8-.78.8-2.07 0-2.86zM5.41 20L4 18.59l7.72-7.72 1.47 1.35L5.41 20z\"/>\n",
              "  </svg>\n",
              "      </button>\n",
              "      \n",
              "  <style>\n",
              "    .colab-df-container {\n",
              "      display:flex;\n",
              "      flex-wrap:wrap;\n",
              "      gap: 12px;\n",
              "    }\n",
              "\n",
              "    .colab-df-convert {\n",
              "      background-color: #E8F0FE;\n",
              "      border: none;\n",
              "      border-radius: 50%;\n",
              "      cursor: pointer;\n",
              "      display: none;\n",
              "      fill: #1967D2;\n",
              "      height: 32px;\n",
              "      padding: 0 0 0 0;\n",
              "      width: 32px;\n",
              "    }\n",
              "\n",
              "    .colab-df-convert:hover {\n",
              "      background-color: #E2EBFA;\n",
              "      box-shadow: 0px 1px 2px rgba(60, 64, 67, 0.3), 0px 1px 3px 1px rgba(60, 64, 67, 0.15);\n",
              "      fill: #174EA6;\n",
              "    }\n",
              "\n",
              "    [theme=dark] .colab-df-convert {\n",
              "      background-color: #3B4455;\n",
              "      fill: #D2E3FC;\n",
              "    }\n",
              "\n",
              "    [theme=dark] .colab-df-convert:hover {\n",
              "      background-color: #434B5C;\n",
              "      box-shadow: 0px 1px 3px 1px rgba(0, 0, 0, 0.15);\n",
              "      filter: drop-shadow(0px 1px 2px rgba(0, 0, 0, 0.3));\n",
              "      fill: #FFFFFF;\n",
              "    }\n",
              "  </style>\n",
              "\n",
              "      <script>\n",
              "        const buttonEl =\n",
              "          document.querySelector('#df-36e7b738-f26a-47e9-8561-8c40782f0a4f button.colab-df-convert');\n",
              "        buttonEl.style.display =\n",
              "          google.colab.kernel.accessAllowed ? 'block' : 'none';\n",
              "\n",
              "        async function convertToInteractive(key) {\n",
              "          const element = document.querySelector('#df-36e7b738-f26a-47e9-8561-8c40782f0a4f');\n",
              "          const dataTable =\n",
              "            await google.colab.kernel.invokeFunction('convertToInteractive',\n",
              "                                                     [key], {});\n",
              "          if (!dataTable) return;\n",
              "\n",
              "          const docLinkHtml = 'Like what you see? Visit the ' +\n",
              "            '<a target=\"_blank\" href=https://colab.research.google.com/notebooks/data_table.ipynb>data table notebook</a>'\n",
              "            + ' to learn more about interactive tables.';\n",
              "          element.innerHTML = '';\n",
              "          dataTable['output_type'] = 'display_data';\n",
              "          await google.colab.output.renderOutput(dataTable, element);\n",
              "          const docLink = document.createElement('div');\n",
              "          docLink.innerHTML = docLinkHtml;\n",
              "          element.appendChild(docLink);\n",
              "        }\n",
              "      </script>\n",
              "    </div>\n",
              "  </div>\n",
              "  "
            ],
            "text/plain": [
              "            ASIANPAINT.NS      INFY.NS      ITC.NS  KOTAKBANK.NS  RELIANCE.NS  \\\n",
              "Date                                                                            \n",
              "2017-03-31    1040.873779   447.008148  234.894028    870.307922   637.497864   \n",
              "2017-04-03    1056.726929   441.126709  235.941559    874.049866   663.438965   \n",
              "2017-04-05    1049.648682   435.507721  233.762711    887.919678   682.912781   \n",
              "2017-04-06    1053.866577   437.103760  229.698380    892.409790   694.254517   \n",
              "2017-04-07    1050.036255   429.210907  228.483246    871.205994   678.858887   \n",
              "...                   ...          ...         ...           ...          ...   \n",
              "2022-03-24    3025.350098  1886.699951  254.850006   1714.150024  2578.649902   \n",
              "2022-03-25    3046.949951  1876.550049  253.350006   1722.250000  2595.850098   \n",
              "2022-03-28    3027.449951  1873.900024  257.049988   1725.199951  2621.949951   \n",
              "2022-03-29    3042.600098  1886.000000  254.600006   1730.000000  2622.550049   \n",
              "2022-03-30    3080.000000  1898.500000  253.550003   1743.449951  2632.550049   \n",
              "\n",
              "               TITAN.NS  \n",
              "Date                     \n",
              "2017-03-31   449.838745  \n",
              "2017-04-03   446.533630  \n",
              "2017-04-05   478.029663  \n",
              "2017-04-06   473.800964  \n",
              "2017-04-07   471.856812  \n",
              "...                 ...  \n",
              "2022-03-24  2618.500000  \n",
              "2022-03-25  2523.899902  \n",
              "2022-03-28  2535.899902  \n",
              "2022-03-29  2538.800049  \n",
              "2022-03-30  2539.899902  \n",
              "\n",
              "[1235 rows x 6 columns]"
            ]
          },
          "execution_count": null,
          "metadata": {},
          "output_type": "execute_result"
        }
      ],
      "source": [
        "pf_data"
      ]
    },
    {
      "cell_type": "code",
      "execution_count": null,
      "metadata": {
        "colab": {
          "background_save": true
        },
        "id": "a6M8W2FKRW7n",
        "outputId": "371adc2d-038d-4063-a5e2-68d6b41ec91c"
      },
      "outputs": [
        {
          "data": {
            "image/png": "[encoded data removed]",
            "text/plain": [
              "<Figure size 720x360 with 1 Axes>"
            ]
          },
          "metadata": {},
          "output_type": "display_data"
        }
      ],
      "source": [
        "(pf_data / pf_data.iloc[0] * 100).plot(figsize= (10,5))\n",
        "plt.show()"
      ]
    },
    {
      "cell_type": "markdown",
      "metadata": {
        "id": "kaVg8k5nRW7o"
      },
      "source": [
        "### Returns"
      ]
    },
    {
      "cell_type": "code",
      "execution_count": null,
      "metadata": {
        "colab": {
          "background_save": true
        },
        "id": "U8MgAgBzRW7o",
        "outputId": "c766f5e8-4b06-4775-9d7a-2fc6c8daa8e5"
      },
      "outputs": [
        {
          "data": {
            "text/html": [
              "\n",
              "  <div id=\"df-1c2286ef-3c1a-48ca-a458-8fe41f4580a0\">\n",
              "    <div class=\"colab-df-container\">\n",
              "      <div>\n",
              "<style scoped>\n",
              "    .dataframe tbody tr th:only-of-type {\n",
              "        vertical-align: middle;\n",
              "    }\n",
              "\n",
              "    .dataframe tbody tr th {\n",
              "        vertical-align: top;\n",
              "    }\n",
              "\n",
              "    .dataframe thead th {\n",
              "        text-align: right;\n",
              "    }\n",
              "</style>\n",
              "<table border=\"1\" class=\"dataframe\">\n",
              "  <thead>\n",
              "    <tr style=\"text-align: right;\">\n",
              "      <th></th>\n",
              "      <th>ASIANPAINT.NS</th>\n",
              "      <th>INFY.NS</th>\n",
              "      <th>ITC.NS</th>\n",
              "      <th>KOTAKBANK.NS</th>\n",
              "      <th>RELIANCE.NS</th>\n",
              "      <th>TITAN.NS</th>\n",
              "    </tr>\n",
              "    <tr>\n",
              "      <th>Date</th>\n",
              "      <th></th>\n",
              "      <th></th>\n",
              "      <th></th>\n",
              "      <th></th>\n",
              "      <th></th>\n",
              "      <th></th>\n",
              "    </tr>\n",
              "  </thead>\n",
              "  <tbody>\n",
              "    <tr>\n",
              "      <th>2017-03-31</th>\n",
              "      <td>NaN</td>\n",
              "      <td>NaN</td>\n",
              "      <td>NaN</td>\n",
              "      <td>NaN</td>\n",
              "      <td>NaN</td>\n",
              "      <td>NaN</td>\n",
              "    </tr>\n",
              "    <tr>\n",
              "      <th>2017-04-03</th>\n",
              "      <td>0.015231</td>\n",
              "      <td>-0.013157</td>\n",
              "      <td>0.004460</td>\n",
              "      <td>0.004300</td>\n",
              "      <td>0.040692</td>\n",
              "      <td>-0.007347</td>\n",
              "    </tr>\n",
              "    <tr>\n",
              "      <th>2017-04-05</th>\n",
              "      <td>-0.006698</td>\n",
              "      <td>-0.012738</td>\n",
              "      <td>-0.009235</td>\n",
              "      <td>0.015868</td>\n",
              "      <td>0.029353</td>\n",
              "      <td>0.070535</td>\n",
              "    </tr>\n",
              "    <tr>\n",
              "      <th>2017-04-06</th>\n",
              "      <td>0.004018</td>\n",
              "      <td>0.003665</td>\n",
              "      <td>-0.017387</td>\n",
              "      <td>0.005057</td>\n",
              "      <td>0.016608</td>\n",
              "      <td>-0.008846</td>\n",
              "    </tr>\n",
              "    <tr>\n",
              "      <th>2017-04-07</th>\n",
              "      <td>-0.003635</td>\n",
              "      <td>-0.018057</td>\n",
              "      <td>-0.005290</td>\n",
              "      <td>-0.023760</td>\n",
              "      <td>-0.022176</td>\n",
              "      <td>-0.004103</td>\n",
              "    </tr>\n",
              "    <tr>\n",
              "      <th>...</th>\n",
              "      <td>...</td>\n",
              "      <td>...</td>\n",
              "      <td>...</td>\n",
              "      <td>...</td>\n",
              "      <td>...</td>\n",
              "      <td>...</td>\n",
              "    </tr>\n",
              "    <tr>\n",
              "      <th>2022-03-24</th>\n",
              "      <td>0.002834</td>\n",
              "      <td>0.007637</td>\n",
              "      <td>0.011310</td>\n",
              "      <td>-0.031417</td>\n",
              "      <td>0.015536</td>\n",
              "      <td>-0.026580</td>\n",
              "    </tr>\n",
              "    <tr>\n",
              "      <th>2022-03-25</th>\n",
              "      <td>0.007140</td>\n",
              "      <td>-0.005380</td>\n",
              "      <td>-0.005886</td>\n",
              "      <td>0.004725</td>\n",
              "      <td>0.006670</td>\n",
              "      <td>-0.036128</td>\n",
              "    </tr>\n",
              "    <tr>\n",
              "      <th>2022-03-28</th>\n",
              "      <td>-0.006400</td>\n",
              "      <td>-0.001412</td>\n",
              "      <td>0.014604</td>\n",
              "      <td>0.001713</td>\n",
              "      <td>0.010054</td>\n",
              "      <td>0.004755</td>\n",
              "    </tr>\n",
              "    <tr>\n",
              "      <th>2022-03-29</th>\n",
              "      <td>0.005004</td>\n",
              "      <td>0.006457</td>\n",
              "      <td>-0.009531</td>\n",
              "      <td>0.002782</td>\n",
              "      <td>0.000229</td>\n",
              "      <td>0.001144</td>\n",
              "    </tr>\n",
              "    <tr>\n",
              "      <th>2022-03-30</th>\n",
              "      <td>0.012292</td>\n",
              "      <td>0.006628</td>\n",
              "      <td>-0.004124</td>\n",
              "      <td>0.007775</td>\n",
              "      <td>0.003813</td>\n",
              "      <td>0.000433</td>\n",
              "    </tr>\n",
              "  </tbody>\n",
              "</table>\n",
              "<p>1235 rows × 6 columns</p>\n",
              "</div>\n",
              "      <button class=\"colab-df-convert\" onclick=\"convertToInteractive('df-1c2286ef-3c1a-48ca-a458-8fe41f4580a0')\"\n",
              "              title=\"Convert this dataframe to an interactive table.\"\n",
              "              style=\"display:none;\">\n",
              "        \n",
              "  <svg xmlns=\"http://www.w3.org/2000/svg\" height=\"24px\"viewBox=\"0 0 24 24\"\n",
              "       width=\"24px\">\n",
              "    <path d=\"M0 0h24v24H0V0z\" fill=\"none\"/>\n",
              "    <path d=\"M18.56 5.44l.94 2.06.94-2.06 2.06-.94-2.06-.94-.94-2.06-.94 2.06-2.06.94zm-11 1L8.5 8.5l.94-2.06 2.06-.94-2.06-.94L8.5 2.5l-.94 2.06-2.06.94zm10 10l.94 2.06.94-2.06 2.06-.94-2.06-.94-.94-2.06-.94 2.06-2.06.94z\"/><path d=\"M17.41 7.96l-1.37-1.37c-.4-.4-.92-.59-1.43-.59-.52 0-1.04.2-1.43.59L10.3 9.45l-7.72 7.72c-.78.78-.78 2.05 0 2.83L4 21.41c.39.39.9.59 1.41.59.51 0 1.02-.2 1.41-.59l7.78-7.78 2.81-2.81c.8-.78.8-2.07 0-2.86zM5.41 20L4 18.59l7.72-7.72 1.47 1.35L5.41 20z\"/>\n",
              "  </svg>\n",
              "      </button>\n",
              "      \n",
              "  <style>\n",
              "    .colab-df-container {\n",
              "      display:flex;\n",
              "      flex-wrap:wrap;\n",
              "      gap: 12px;\n",
              "    }\n",
              "\n",
              "    .colab-df-convert {\n",
              "      background-color: #E8F0FE;\n",
              "      border: none;\n",
              "      border-radius: 50%;\n",
              "      cursor: pointer;\n",
              "      display: none;\n",
              "      fill: #1967D2;\n",
              "      height: 32px;\n",
              "      padding: 0 0 0 0;\n",
              "      width: 32px;\n",
              "    }\n",
              "\n",
              "    .colab-df-convert:hover {\n",
              "      background-color: #E2EBFA;\n",
              "      box-shadow: 0px 1px 2px rgba(60, 64, 67, 0.3), 0px 1px 3px 1px rgba(60, 64, 67, 0.15);\n",
              "      fill: #174EA6;\n",
              "    }\n",
              "\n",
              "    [theme=dark] .colab-df-convert {\n",
              "      background-color: #3B4455;\n",
              "      fill: #D2E3FC;\n",
              "    }\n",
              "\n",
              "    [theme=dark] .colab-df-convert:hover {\n",
              "      background-color: #434B5C;\n",
              "      box-shadow: 0px 1px 3px 1px rgba(0, 0, 0, 0.15);\n",
              "      filter: drop-shadow(0px 1px 2px rgba(0, 0, 0, 0.3));\n",
              "      fill: #FFFFFF;\n",
              "    }\n",
              "  </style>\n",
              "\n",
              "      <script>\n",
              "        const buttonEl =\n",
              "          document.querySelector('#df-1c2286ef-3c1a-48ca-a458-8fe41f4580a0 button.colab-df-convert');\n",
              "        buttonEl.style.display =\n",
              "          google.colab.kernel.accessAllowed ? 'block' : 'none';\n",
              "\n",
              "        async function convertToInteractive(key) {\n",
              "          const element = document.querySelector('#df-1c2286ef-3c1a-48ca-a458-8fe41f4580a0');\n",
              "          const dataTable =\n",
              "            await google.colab.kernel.invokeFunction('convertToInteractive',\n",
              "                                                     [key], {});\n",
              "          if (!dataTable) return;\n",
              "\n",
              "          const docLinkHtml = 'Like what you see? Visit the ' +\n",
              "            '<a target=\"_blank\" href=https://colab.research.google.com/notebooks/data_table.ipynb>data table notebook</a>'\n",
              "            + ' to learn more about interactive tables.';\n",
              "          element.innerHTML = '';\n",
              "          dataTable['output_type'] = 'display_data';\n",
              "          await google.colab.output.renderOutput(dataTable, element);\n",
              "          const docLink = document.createElement('div');\n",
              "          docLink.innerHTML = docLinkHtml;\n",
              "          element.appendChild(docLink);\n",
              "        }\n",
              "      </script>\n",
              "    </div>\n",
              "  </div>\n",
              "  "
            ],
            "text/plain": [
              "            ASIANPAINT.NS   INFY.NS    ITC.NS  KOTAKBANK.NS  RELIANCE.NS  \\\n",
              "Date                                                                       \n",
              "2017-03-31            NaN       NaN       NaN           NaN          NaN   \n",
              "2017-04-03       0.015231 -0.013157  0.004460      0.004300     0.040692   \n",
              "2017-04-05      -0.006698 -0.012738 -0.009235      0.015868     0.029353   \n",
              "2017-04-06       0.004018  0.003665 -0.017387      0.005057     0.016608   \n",
              "2017-04-07      -0.003635 -0.018057 -0.005290     -0.023760    -0.022176   \n",
              "...                   ...       ...       ...           ...          ...   \n",
              "2022-03-24       0.002834  0.007637  0.011310     -0.031417     0.015536   \n",
              "2022-03-25       0.007140 -0.005380 -0.005886      0.004725     0.006670   \n",
              "2022-03-28      -0.006400 -0.001412  0.014604      0.001713     0.010054   \n",
              "2022-03-29       0.005004  0.006457 -0.009531      0.002782     0.000229   \n",
              "2022-03-30       0.012292  0.006628 -0.004124      0.007775     0.003813   \n",
              "\n",
              "            TITAN.NS  \n",
              "Date                  \n",
              "2017-03-31       NaN  \n",
              "2017-04-03 -0.007347  \n",
              "2017-04-05  0.070535  \n",
              "2017-04-06 -0.008846  \n",
              "2017-04-07 -0.004103  \n",
              "...              ...  \n",
              "2022-03-24 -0.026580  \n",
              "2022-03-25 -0.036128  \n",
              "2022-03-28  0.004755  \n",
              "2022-03-29  0.001144  \n",
              "2022-03-30  0.000433  \n",
              "\n",
              "[1235 rows x 6 columns]"
            ]
          },
          "execution_count": null,
          "metadata": {},
          "output_type": "execute_result"
        }
      ],
      "source": [
        "returns = (pf_data / pf_data.shift(1)) - 1\n",
        "returns"
      ]
    },
    {
      "cell_type": "code",
      "execution_count": null,
      "metadata": {
        "colab": {
          "background_save": true
        },
        "id": "Tnd-ga28RW7p",
        "outputId": "0a62e41e-586c-4f71-f75b-76a7ceca4163"
      },
      "outputs": [
        {
          "data": {
            "text/plain": [
              "ASIANPAINT.NS     5.293690\n",
              "INFY.NS          18.494365\n",
              "ITC.NS           25.471122\n",
              "KOTAKBANK.NS     33.268315\n",
              "RELIANCE.NS      33.584347\n",
              "TITAN.NS         40.669218\n",
              "dtype: float64"
            ]
          },
          "execution_count": null,
          "metadata": {},
          "output_type": "execute_result"
        }
      ],
      "source": [
        "annual_returns = returns.mean() * 250 *100\n",
        "annual_returns.values.sort()\n",
        "annual_returns"
      ]
    },
    {
      "cell_type": "code",
      "execution_count": null,
      "metadata": {
        "colab": {
          "background_save": true
        },
        "id": "8Oh90JWKRW7p"
      },
      "outputs": [],
      "source": [
        "num_assets = len(assets)"
      ]
    },
    {
      "cell_type": "markdown",
      "metadata": {
        "id": "PWOUh4ZqRW7p"
      },
      "source": [
        "### Random Weights"
      ]
    },
    {
      "cell_type": "code",
      "execution_count": null,
      "metadata": {
        "colab": {
          "background_save": true
        },
        "id": "JZTmP3lSRW7p",
        "outputId": "0f2bc6bd-86b9-4d1c-ce64-1523e4a7a3e4"
      },
      "outputs": [
        {
          "data": {
            "text/plain": [
              "array([0.20011363, 0.11291694, 0.21331534, 0.23780774, 0.12693282,\n",
              "       0.10891353])"
            ]
          },
          "execution_count": null,
          "metadata": {},
          "output_type": "execute_result"
        }
      ],
      "source": [
        "weights = np.random.random(num_assets)\n",
        "weights /= np.sum(weights)\n",
        "weights"
      ]
    },
    {
      "cell_type": "markdown",
      "metadata": {
        "id": "9A7sJ2uIRW7q"
      },
      "source": [
        "### Mean Annual Returns"
      ]
    },
    {
      "cell_type": "code",
      "execution_count": null,
      "metadata": {
        "colab": {
          "background_save": true
        },
        "id": "RTiLvlo8RW7q",
        "outputId": "99d99a5a-076f-499c-a1f0-2dd6095bb0bc"
      },
      "outputs": [
        {
          "data": {
            "text/plain": [
              "0.23073387455007707"
            ]
          },
          "execution_count": null,
          "metadata": {},
          "output_type": "execute_result"
        }
      ],
      "source": [
        "np.sum(weights * returns.mean()) * 250"
      ]
    },
    {
      "cell_type": "markdown",
      "metadata": {
        "id": "uqKZzxEjRW7q"
      },
      "source": [
        "### Annual Variance"
      ]
    },
    {
      "cell_type": "code",
      "execution_count": null,
      "metadata": {
        "colab": {
          "background_save": true
        },
        "id": "QvoAmolkRW7q",
        "outputId": "a4eb982b-3cc8-4aa6-a665-d522f5131271"
      },
      "outputs": [
        {
          "data": {
            "text/plain": [
              "0.03562654416068749"
            ]
          },
          "execution_count": null,
          "metadata": {},
          "output_type": "execute_result"
        }
      ],
      "source": [
        "np.dot(weights.T, np.dot(returns.cov() * 250, weights))"
      ]
    },
    {
      "cell_type": "markdown",
      "metadata": {
        "id": "eP3UCtOQRW7r"
      },
      "source": [
        "### Annual covariance"
      ]
    },
    {
      "cell_type": "code",
      "execution_count": null,
      "metadata": {
        "colab": {
          "background_save": true
        },
        "id": "hZ-eDBHcRW7r",
        "outputId": "95617b44-8835-48b4-d44b-3e615eaaec0a"
      },
      "outputs": [
        {
          "data": {
            "text/plain": [
              "0.18874995141903345"
            ]
          },
          "execution_count": null,
          "metadata": {},
          "output_type": "execute_result"
        }
      ],
      "source": [
        "np.sqrt(np.dot(weights.T,np.dot(returns.cov() * 250, weights)))"
      ]
    },
    {
      "cell_type": "markdown",
      "metadata": {
        "id": "WokZi16QRW7r"
      },
      "source": [
        "### Correlation"
      ]
    },
    {
      "cell_type": "code",
      "execution_count": null,
      "metadata": {
        "colab": {
          "background_save": true
        },
        "id": "7DbrwXa0RW7r",
        "outputId": "69d18edf-daca-4a61-dd2c-b882b5b6b38c"
      },
      "outputs": [
        {
          "data": {
            "text/html": [
              "\n",
              "  <div id=\"df-46e8f48f-6419-48ec-a0f4-cc530d2e755e\">\n",
              "    <div class=\"colab-df-container\">\n",
              "      <div>\n",
              "<style scoped>\n",
              "    .dataframe tbody tr th:only-of-type {\n",
              "        vertical-align: middle;\n",
              "    }\n",
              "\n",
              "    .dataframe tbody tr th {\n",
              "        vertical-align: top;\n",
              "    }\n",
              "\n",
              "    .dataframe thead th {\n",
              "        text-align: right;\n",
              "    }\n",
              "</style>\n",
              "<table border=\"1\" class=\"dataframe\">\n",
              "  <thead>\n",
              "    <tr style=\"text-align: right;\">\n",
              "      <th></th>\n",
              "      <th>ASIANPAINT.NS</th>\n",
              "      <th>INFY.NS</th>\n",
              "      <th>ITC.NS</th>\n",
              "      <th>KOTAKBANK.NS</th>\n",
              "      <th>RELIANCE.NS</th>\n",
              "      <th>TITAN.NS</th>\n",
              "    </tr>\n",
              "  </thead>\n",
              "  <tbody>\n",
              "    <tr>\n",
              "      <th>ASIANPAINT.NS</th>\n",
              "      <td>1.000000</td>\n",
              "      <td>0.228675</td>\n",
              "      <td>0.238765</td>\n",
              "      <td>0.372645</td>\n",
              "      <td>0.367520</td>\n",
              "      <td>0.350311</td>\n",
              "    </tr>\n",
              "    <tr>\n",
              "      <th>INFY.NS</th>\n",
              "      <td>0.228675</td>\n",
              "      <td>1.000000</td>\n",
              "      <td>0.184588</td>\n",
              "      <td>0.269203</td>\n",
              "      <td>0.278534</td>\n",
              "      <td>0.191406</td>\n",
              "    </tr>\n",
              "    <tr>\n",
              "      <th>ITC.NS</th>\n",
              "      <td>0.238765</td>\n",
              "      <td>0.184588</td>\n",
              "      <td>1.000000</td>\n",
              "      <td>0.310956</td>\n",
              "      <td>0.259314</td>\n",
              "      <td>0.252739</td>\n",
              "    </tr>\n",
              "    <tr>\n",
              "      <th>KOTAKBANK.NS</th>\n",
              "      <td>0.372645</td>\n",
              "      <td>0.269203</td>\n",
              "      <td>0.310956</td>\n",
              "      <td>1.000000</td>\n",
              "      <td>0.376198</td>\n",
              "      <td>0.341764</td>\n",
              "    </tr>\n",
              "    <tr>\n",
              "      <th>RELIANCE.NS</th>\n",
              "      <td>0.367520</td>\n",
              "      <td>0.278534</td>\n",
              "      <td>0.259314</td>\n",
              "      <td>0.376198</td>\n",
              "      <td>1.000000</td>\n",
              "      <td>0.318684</td>\n",
              "    </tr>\n",
              "    <tr>\n",
              "      <th>TITAN.NS</th>\n",
              "      <td>0.350311</td>\n",
              "      <td>0.191406</td>\n",
              "      <td>0.252739</td>\n",
              "      <td>0.341764</td>\n",
              "      <td>0.318684</td>\n",
              "      <td>1.000000</td>\n",
              "    </tr>\n",
              "  </tbody>\n",
              "</table>\n",
              "</div>\n",
              "      <button class=\"colab-df-convert\" onclick=\"convertToInteractive('df-46e8f48f-6419-48ec-a0f4-cc530d2e755e')\"\n",
              "              title=\"Convert this dataframe to an interactive table.\"\n",
              "              style=\"display:none;\">\n",
              "        \n",
              "  <svg xmlns=\"http://www.w3.org/2000/svg\" height=\"24px\"viewBox=\"0 0 24 24\"\n",
              "       width=\"24px\">\n",
              "    <path d=\"M0 0h24v24H0V0z\" fill=\"none\"/>\n",
              "    <path d=\"M18.56 5.44l.94 2.06.94-2.06 2.06-.94-2.06-.94-.94-2.06-.94 2.06-2.06.94zm-11 1L8.5 8.5l.94-2.06 2.06-.94-2.06-.94L8.5 2.5l-.94 2.06-2.06.94zm10 10l.94 2.06.94-2.06 2.06-.94-2.06-.94-.94-2.06-.94 2.06-2.06.94z\"/><path d=\"M17.41 7.96l-1.37-1.37c-.4-.4-.92-.59-1.43-.59-.52 0-1.04.2-1.43.59L10.3 9.45l-7.72 7.72c-.78.78-.78 2.05 0 2.83L4 21.41c.39.39.9.59 1.41.59.51 0 1.02-.2 1.41-.59l7.78-7.78 2.81-2.81c.8-.78.8-2.07 0-2.86zM5.41 20L4 18.59l7.72-7.72 1.47 1.35L5.41 20z\"/>\n",
              "  </svg>\n",
              "      </button>\n",
              "      \n",
              "  <style>\n",
              "    .colab-df-container {\n",
              "      display:flex;\n",
              "      flex-wrap:wrap;\n",
              "      gap: 12px;\n",
              "    }\n",
              "\n",
              "    .colab-df-convert {\n",
              "      background-color: #E8F0FE;\n",
              "      border: none;\n",
              "      border-radius: 50%;\n",
              "      cursor: pointer;\n",
              "      display: none;\n",
              "      fill: #1967D2;\n",
              "      height: 32px;\n",
              "      padding: 0 0 0 0;\n",
              "      width: 32px;\n",
              "    }\n",
              "\n",
              "    .colab-df-convert:hover {\n",
              "      background-color: #E2EBFA;\n",
              "      box-shadow: 0px 1px 2px rgba(60, 64, 67, 0.3), 0px 1px 3px 1px rgba(60, 64, 67, 0.15);\n",
              "      fill: #174EA6;\n",
              "    }\n",
              "\n",
              "    [theme=dark] .colab-df-convert {\n",
              "      background-color: #3B4455;\n",
              "      fill: #D2E3FC;\n",
              "    }\n",
              "\n",
              "    [theme=dark] .colab-df-convert:hover {\n",
              "      background-color: #434B5C;\n",
              "      box-shadow: 0px 1px 3px 1px rgba(0, 0, 0, 0.15);\n",
              "      filter: drop-shadow(0px 1px 2px rgba(0, 0, 0, 0.3));\n",
              "      fill: #FFFFFF;\n",
              "    }\n",
              "  </style>\n",
              "\n",
              "      <script>\n",
              "        const buttonEl =\n",
              "          document.querySelector('#df-46e8f48f-6419-48ec-a0f4-cc530d2e755e button.colab-df-convert');\n",
              "        buttonEl.style.display =\n",
              "          google.colab.kernel.accessAllowed ? 'block' : 'none';\n",
              "\n",
              "        async function convertToInteractive(key) {\n",
              "          const element = document.querySelector('#df-46e8f48f-6419-48ec-a0f4-cc530d2e755e');\n",
              "          const dataTable =\n",
              "            await google.colab.kernel.invokeFunction('convertToInteractive',\n",
              "                                                     [key], {});\n",
              "          if (!dataTable) return;\n",
              "\n",
              "          const docLinkHtml = 'Like what you see? Visit the ' +\n",
              "            '<a target=\"_blank\" href=https://colab.research.google.com/notebooks/data_table.ipynb>data table notebook</a>'\n",
              "            + ' to learn more about interactive tables.';\n",
              "          element.innerHTML = '';\n",
              "          dataTable['output_type'] = 'display_data';\n",
              "          await google.colab.output.renderOutput(dataTable, element);\n",
              "          const docLink = document.createElement('div');\n",
              "          docLink.innerHTML = docLinkHtml;\n",
              "          element.appendChild(docLink);\n",
              "        }\n",
              "      </script>\n",
              "    </div>\n",
              "  </div>\n",
              "  "
            ],
            "text/plain": [
              "               ASIANPAINT.NS   INFY.NS    ITC.NS  KOTAKBANK.NS  RELIANCE.NS  \\\n",
              "ASIANPAINT.NS       1.000000  0.228675  0.238765      0.372645     0.367520   \n",
              "INFY.NS             0.228675  1.000000  0.184588      0.269203     0.278534   \n",
              "ITC.NS              0.238765  0.184588  1.000000      0.310956     0.259314   \n",
              "KOTAKBANK.NS        0.372645  0.269203  0.310956      1.000000     0.376198   \n",
              "RELIANCE.NS         0.367520  0.278534  0.259314      0.376198     1.000000   \n",
              "TITAN.NS            0.350311  0.191406  0.252739      0.341764     0.318684   \n",
              "\n",
              "               TITAN.NS  \n",
              "ASIANPAINT.NS  0.350311  \n",
              "INFY.NS        0.191406  \n",
              "ITC.NS         0.252739  \n",
              "KOTAKBANK.NS   0.341764  \n",
              "RELIANCE.NS    0.318684  \n",
              "TITAN.NS       1.000000  "
            ]
          },
          "execution_count": null,
          "metadata": {},
          "output_type": "execute_result"
        }
      ],
      "source": [
        "corr_matrix = returns.corr()\n",
        "corr_matrix"
      ]
    },
    {
      "cell_type": "markdown",
      "metadata": {
        "id": "Zg1YpOSF4Q_M"
      },
      "source": [
        "# Prediction Functions:"
      ]
    },
    {
      "cell_type": "code",
      "execution_count": null,
      "metadata": {
        "colab": {
          "background_save": true
        },
        "id": "p_6xun_H5PhO"
      },
      "outputs": [],
      "source": [
        "# Importing Required Library\n",
        "\n",
        "from sklearn.preprocessing import MinMaxScaler\n",
        "from keras.models import Sequential\n",
        "from keras.layers import Dense, LSTM"
      ]
    },
    {
      "cell_type": "code",
      "execution_count": null,
      "metadata": {
        "colab": {
          "background_save": true
        },
        "id": "C4PBYPYmtT5v"
      },
      "outputs": [],
      "source": [
        "## Scaling the data set as required\n",
        "\n",
        "def Scale_data_set(data):\n",
        "\n",
        "  dataset = data.values\n",
        "  # Get the number of rows to train the model on\n",
        "  training_data_len = int(np.ceil( len(dataset) * .95 ))\n",
        "\n",
        "  scaler = MinMaxScaler(feature_range=(0,1))\n",
        "  scaled_data = scaler.fit_transform(dataset)\n",
        "  return training_data_len, scaled_data, dataset, scaler"
      ]
    },
    {
      "cell_type": "code",
      "execution_count": null,
      "metadata": {
        "colab": {
          "background_save": true
        },
        "id": "sjnBH9erzX_v"
      },
      "outputs": [],
      "source": [
        "## Creating a dataSet to be trained by LSTM\n",
        "\n",
        "def Creating_training_data(training_data_len, scaled_data):\n",
        "  # Create the training data set \n",
        "  # Create the scaled training data set\n",
        "  train_data = scaled_data[0:int(training_data_len), :]\n",
        "  # Split the data into x_train and y_train data sets\n",
        "  x_train = []\n",
        "  y_train = []\n",
        "\n",
        "  for i in range(60, len(train_data)):\n",
        "      x_train.append(train_data[i-60:i, 0])\n",
        "      y_train.append(train_data[i, 0])\n",
        "      \n",
        "          \n",
        "  # Convert the x_train and y_train to numpy arrays \n",
        "  x_train, y_train = np.array(x_train), np.array(y_train)\n",
        "\n",
        "  # Reshape the data\n",
        "  x_train = np.reshape(x_train, (x_train.shape[0], x_train.shape[1], 1))\n",
        "  # x_train.shape\n",
        "\n",
        "  return x_train, y_train"
      ]
    },
    {
      "cell_type": "code",
      "execution_count": null,
      "metadata": {
        "colab": {
          "background_save": true
        },
        "id": "pcKuwJWvzYOV"
      },
      "outputs": [],
      "source": [
        "## Training by  LSTM\n",
        "\n",
        "def LSTM_model(x_train, y_train):\n",
        "  \n",
        "  # Build the LSTM model\n",
        "  model = Sequential()\n",
        "  model.add(LSTM(128, return_sequences=True, input_shape= (x_train.shape[1], 1)))\n",
        "  model.add(LSTM(64, return_sequences=False))\n",
        "  model.add(Dense(25))\n",
        "  model.add(Dense(1))\n",
        "\n",
        "  # Compile the model\n",
        "  model.compile(optimizer='adam', loss='mean_squared_error')\n",
        "\n",
        "  # Train the model\n",
        "  model.fit(x_train, y_train, batch_size=1, epochs=1)\n",
        "\n",
        "  return model"
      ]
    },
    {
      "cell_type": "code",
      "execution_count": null,
      "metadata": {
        "colab": {
          "background_save": true
        },
        "id": "QKRPBu0_zYZl"
      },
      "outputs": [],
      "source": [
        "## Predicting data using the trained value\n",
        "\n",
        "def miscellaneous(model, training_data_len, scaled_data, dataset, scaler):\n",
        "  # Create the testing data set\n",
        "  # Create a new array containing scaled values from index 1543 to 2002 \n",
        "  test_data = scaled_data[training_data_len - 60: , :]\n",
        "  # Create the data sets x_test and y_test\n",
        "  x_test = []\n",
        "  y_test = dataset[training_data_len:, :]\n",
        "  for i in range(60, len(test_data)):\n",
        "      x_test.append(test_data[i-60:i, 0])\n",
        "      \n",
        "  # Convert the data to a numpy array\n",
        "  x_test = np.array(x_test)\n",
        "\n",
        "  # Reshape the data\n",
        "  x_test = np.reshape(x_test, (x_test.shape[0], x_test.shape[1], 1 ))\n",
        "\n",
        "  # Get the models predicted price values \n",
        "  predictions = model.predict(x_test)\n",
        "  predictions = scaler.inverse_transform(predictions)\n",
        "\n",
        "  # Get the root mean squared error (RMSE)\n",
        "  rmse = np.sqrt(np.mean(((predictions - y_test) ** 2)))\n",
        "\n",
        "  return predictions, rmse"
      ]
    },
    {
      "cell_type": "code",
      "execution_count": null,
      "metadata": {
        "colab": {
          "background_save": true
        },
        "id": "Z6YbH2L5zYk9"
      },
      "outputs": [],
      "source": [
        "## Ploting the chart with predicted values\n",
        "\n",
        "def Ploting_Prediction(predictions ,training_data_len, data, title):\n",
        "  # Plot the data\n",
        "  train = data[:training_data_len]\n",
        "  valid = data[training_data_len:]\n",
        "  valid['Predictions'] = predictions\n",
        "  # Visualize the data\n",
        "  plt.figure(figsize=(16,6))\n",
        "  plt.title(title)\n",
        "  plt.xlabel('Date', fontsize=18)\n",
        "  plt.ylabel('Close Price in Rs', fontsize=18)\n",
        "  plt.plot(train['Close'])\n",
        "  plt.plot(valid[['Close', 'Predictions']])\n",
        "  plt.legend(['Train', 'Val', 'Predictions'], loc='lower right')\n",
        "  plt.show()\n",
        "\n",
        "  return train, valid\n",
        "\n",
        "def plot_graph_plotly(predictions ,training_data_len, data, title):\n",
        "  # Plot the data\n",
        "  train = data[:training_data_len]\n",
        "  valid = data[training_data_len:]\n",
        "  valid['Predictions'] = predictions\n",
        "\n",
        "  #Max Sharpe Ratio\n",
        "  train_data = go.Scatter(\n",
        "      name='Training data',\n",
        "      \n",
        "      x=data.index,\n",
        "      y=train['Close'],\n",
        "      marker=dict(color='blue',size=5,)\n",
        "  )\n",
        "\n",
        "  #Min Vol\n",
        "  Val_data = go.Scatter(\n",
        "      name='Actual Value',\n",
        "     \n",
        "      x=valid.index,\n",
        "      y=valid['Close'],\n",
        "      marker=dict(color='green',size=5,)\n",
        "  )\n",
        "\n",
        "  #Random portfolio\n",
        "  Prediction_data = go.Scatter(\n",
        "      name='Predicted Data',\n",
        "      \n",
        "      x=valid.index,\n",
        "      y=valid['Predictions'],\n",
        "      marker=dict(color='red',size=5,)\n",
        "  )\n",
        "\n",
        "  data = [train_data, Val_data, Prediction_data]\n",
        "\n",
        "  layout = go.Layout(\n",
        "      title = title,\n",
        "      yaxis = dict(title='Close Price in Rs'),\n",
        "      xaxis = dict(title='Date'),\n",
        "      showlegend = True,\n",
        "      legend = dict(\n",
        "          x = .83, y = 0, traceorder='normal',\n",
        "          bgcolor='#E2E2E2',\n",
        "          bordercolor='black',\n",
        "          borderwidth=2),\n",
        "      width=980,\n",
        "      height=500)\n",
        "\n",
        "  fig = go.Figure(data=data, layout=layout)\n",
        "  fig.show()\n",
        "\n",
        "  return train, valid"
      ]
    },
    {
      "cell_type": "code",
      "execution_count": null,
      "metadata": {
        "colab": {
          "background_save": true
        },
        "id": "EmtWNwHatUGm"
      },
      "outputs": [],
      "source": [
        "##  Compiling all functions to one functions\n",
        "\n",
        "def Stock_prediction(data, title):\n",
        "  training_data_len, scaled_data, dataset, scaler = Scale_data_set(data)\n",
        "  x_train, y_train = Creating_training_data(training_data_len, scaled_data)\n",
        "  model = LSTM_model(x_train, y_train)\n",
        "  predictions, rmse = miscellaneous(model, training_data_len, scaled_data, dataset, scaler)\n",
        "  train, valid = plot_graph_plotly(predictions ,training_data_len, data, title)\n",
        "\n",
        "  return train, valid, rmse, predictions "
      ]
    },
    {
      "cell_type": "markdown",
      "metadata": {
        "id": "dmAsVz624GeM"
      },
      "source": [
        "## Sending Data for Prediction:"
      ]
    },
    {
      "cell_type": "code",
      "execution_count": null,
      "metadata": {
        "colab": {
          "background_save": true
        },
        "id": "MqsgR8jTnJUH"
      },
      "outputs": [],
      "source": [
        "data = {}\n",
        "for st in assets:\n",
        "  data['{}'.format(st)] = pf_data.filter([st])"
      ]
    },
    {
      "cell_type": "code",
      "execution_count": null,
      "metadata": {
        "colab": {
          "background_save": true
        },
        "id": "G4hv7IiJ2Y7i",
        "outputId": "e3f96609-5d95-48e7-9721-19e0f1b3b620"
      },
      "outputs": [
        {
          "data": {
            "text/html": [
              "\n",
              "  <div id=\"df-2de11372-331a-498e-826e-9be7e3a736fb\">\n",
              "    <div class=\"colab-df-container\">\n",
              "      <div>\n",
              "<style scoped>\n",
              "    .dataframe tbody tr th:only-of-type {\n",
              "        vertical-align: middle;\n",
              "    }\n",
              "\n",
              "    .dataframe tbody tr th {\n",
              "        vertical-align: top;\n",
              "    }\n",
              "\n",
              "    .dataframe thead th {\n",
              "        text-align: right;\n",
              "    }\n",
              "</style>\n",
              "<table border=\"1\" class=\"dataframe\">\n",
              "  <thead>\n",
              "    <tr style=\"text-align: right;\">\n",
              "      <th></th>\n",
              "      <th>ASIANPAINT.NS</th>\n",
              "      <th>INFY.NS</th>\n",
              "      <th>ITC.NS</th>\n",
              "      <th>KOTAKBANK.NS</th>\n",
              "      <th>RELIANCE.NS</th>\n",
              "      <th>TITAN.NS</th>\n",
              "    </tr>\n",
              "    <tr>\n",
              "      <th>Date</th>\n",
              "      <th></th>\n",
              "      <th></th>\n",
              "      <th></th>\n",
              "      <th></th>\n",
              "      <th></th>\n",
              "      <th></th>\n",
              "    </tr>\n",
              "  </thead>\n",
              "  <tbody>\n",
              "    <tr>\n",
              "      <th>2017-03-31</th>\n",
              "      <td>1040.873779</td>\n",
              "      <td>447.008148</td>\n",
              "      <td>234.894028</td>\n",
              "      <td>870.307922</td>\n",
              "      <td>637.497864</td>\n",
              "      <td>449.838745</td>\n",
              "    </tr>\n",
              "    <tr>\n",
              "      <th>2017-04-03</th>\n",
              "      <td>1056.726929</td>\n",
              "      <td>441.126709</td>\n",
              "      <td>235.941559</td>\n",
              "      <td>874.049866</td>\n",
              "      <td>663.438965</td>\n",
              "      <td>446.533630</td>\n",
              "    </tr>\n",
              "    <tr>\n",
              "      <th>2017-04-05</th>\n",
              "      <td>1049.648682</td>\n",
              "      <td>435.507721</td>\n",
              "      <td>233.762711</td>\n",
              "      <td>887.919678</td>\n",
              "      <td>682.912781</td>\n",
              "      <td>478.029663</td>\n",
              "    </tr>\n",
              "    <tr>\n",
              "      <th>2017-04-06</th>\n",
              "      <td>1053.866577</td>\n",
              "      <td>437.103760</td>\n",
              "      <td>229.698380</td>\n",
              "      <td>892.409790</td>\n",
              "      <td>694.254517</td>\n",
              "      <td>473.800964</td>\n",
              "    </tr>\n",
              "    <tr>\n",
              "      <th>2017-04-07</th>\n",
              "      <td>1050.036255</td>\n",
              "      <td>429.210907</td>\n",
              "      <td>228.483246</td>\n",
              "      <td>871.205994</td>\n",
              "      <td>678.858887</td>\n",
              "      <td>471.856812</td>\n",
              "    </tr>\n",
              "    <tr>\n",
              "      <th>...</th>\n",
              "      <td>...</td>\n",
              "      <td>...</td>\n",
              "      <td>...</td>\n",
              "      <td>...</td>\n",
              "      <td>...</td>\n",
              "      <td>...</td>\n",
              "    </tr>\n",
              "    <tr>\n",
              "      <th>2022-03-24</th>\n",
              "      <td>3025.350098</td>\n",
              "      <td>1886.699951</td>\n",
              "      <td>254.850006</td>\n",
              "      <td>1714.150024</td>\n",
              "      <td>2578.649902</td>\n",
              "      <td>2618.500000</td>\n",
              "    </tr>\n",
              "    <tr>\n",
              "      <th>2022-03-25</th>\n",
              "      <td>3046.949951</td>\n",
              "      <td>1876.550049</td>\n",
              "      <td>253.350006</td>\n",
              "      <td>1722.250000</td>\n",
              "      <td>2595.850098</td>\n",
              "      <td>2523.899902</td>\n",
              "    </tr>\n",
              "    <tr>\n",
              "      <th>2022-03-28</th>\n",
              "      <td>3027.449951</td>\n",
              "      <td>1873.900024</td>\n",
              "      <td>257.049988</td>\n",
              "      <td>1725.199951</td>\n",
              "      <td>2621.949951</td>\n",
              "      <td>2535.899902</td>\n",
              "    </tr>\n",
              "    <tr>\n",
              "      <th>2022-03-29</th>\n",
              "      <td>3042.600098</td>\n",
              "      <td>1886.000000</td>\n",
              "      <td>254.600006</td>\n",
              "      <td>1730.000000</td>\n",
              "      <td>2622.550049</td>\n",
              "      <td>2538.800049</td>\n",
              "    </tr>\n",
              "    <tr>\n",
              "      <th>2022-03-30</th>\n",
              "      <td>3080.000000</td>\n",
              "      <td>1898.500000</td>\n",
              "      <td>253.550003</td>\n",
              "      <td>1743.449951</td>\n",
              "      <td>2632.550049</td>\n",
              "      <td>2539.899902</td>\n",
              "    </tr>\n",
              "  </tbody>\n",
              "</table>\n",
              "<p>1235 rows × 6 columns</p>\n",
              "</div>\n",
              "      <button class=\"colab-df-convert\" onclick=\"convertToInteractive('df-2de11372-331a-498e-826e-9be7e3a736fb')\"\n",
              "              title=\"Convert this dataframe to an interactive table.\"\n",
              "              style=\"display:none;\">\n",
              "        \n",
              "  <svg xmlns=\"http://www.w3.org/2000/svg\" height=\"24px\"viewBox=\"0 0 24 24\"\n",
              "       width=\"24px\">\n",
              "    <path d=\"M0 0h24v24H0V0z\" fill=\"none\"/>\n",
              "    <path d=\"M18.56 5.44l.94 2.06.94-2.06 2.06-.94-2.06-.94-.94-2.06-.94 2.06-2.06.94zm-11 1L8.5 8.5l.94-2.06 2.06-.94-2.06-.94L8.5 2.5l-.94 2.06-2.06.94zm10 10l.94 2.06.94-2.06 2.06-.94-2.06-.94-.94-2.06-.94 2.06-2.06.94z\"/><path d=\"M17.41 7.96l-1.37-1.37c-.4-.4-.92-.59-1.43-.59-.52 0-1.04.2-1.43.59L10.3 9.45l-7.72 7.72c-.78.78-.78 2.05 0 2.83L4 21.41c.39.39.9.59 1.41.59.51 0 1.02-.2 1.41-.59l7.78-7.78 2.81-2.81c.8-.78.8-2.07 0-2.86zM5.41 20L4 18.59l7.72-7.72 1.47 1.35L5.41 20z\"/>\n",
              "  </svg>\n",
              "      </button>\n",
              "      \n",
              "  <style>\n",
              "    .colab-df-container {\n",
              "      display:flex;\n",
              "      flex-wrap:wrap;\n",
              "      gap: 12px;\n",
              "    }\n",
              "\n",
              "    .colab-df-convert {\n",
              "      background-color: #E8F0FE;\n",
              "      border: none;\n",
              "      border-radius: 50%;\n",
              "      cursor: pointer;\n",
              "      display: none;\n",
              "      fill: #1967D2;\n",
              "      height: 32px;\n",
              "      padding: 0 0 0 0;\n",
              "      width: 32px;\n",
              "    }\n",
              "\n",
              "    .colab-df-convert:hover {\n",
              "      background-color: #E2EBFA;\n",
              "      box-shadow: 0px 1px 2px rgba(60, 64, 67, 0.3), 0px 1px 3px 1px rgba(60, 64, 67, 0.15);\n",
              "      fill: #174EA6;\n",
              "    }\n",
              "\n",
              "    [theme=dark] .colab-df-convert {\n",
              "      background-color: #3B4455;\n",
              "      fill: #D2E3FC;\n",
              "    }\n",
              "\n",
              "    [theme=dark] .colab-df-convert:hover {\n",
              "      background-color: #434B5C;\n",
              "      box-shadow: 0px 1px 3px 1px rgba(0, 0, 0, 0.15);\n",
              "      filter: drop-shadow(0px 1px 2px rgba(0, 0, 0, 0.3));\n",
              "      fill: #FFFFFF;\n",
              "    }\n",
              "  </style>\n",
              "\n",
              "      <script>\n",
              "        const buttonEl =\n",
              "          document.querySelector('#df-2de11372-331a-498e-826e-9be7e3a736fb button.colab-df-convert');\n",
              "        buttonEl.style.display =\n",
              "          google.colab.kernel.accessAllowed ? 'block' : 'none';\n",
              "\n",
              "        async function convertToInteractive(key) {\n",
              "          const element = document.querySelector('#df-2de11372-331a-498e-826e-9be7e3a736fb');\n",
              "          const dataTable =\n",
              "            await google.colab.kernel.invokeFunction('convertToInteractive',\n",
              "                                                     [key], {});\n",
              "          if (!dataTable) return;\n",
              "\n",
              "          const docLinkHtml = 'Like what you see? Visit the ' +\n",
              "            '<a target=\"_blank\" href=https://colab.research.google.com/notebooks/data_table.ipynb>data table notebook</a>'\n",
              "            + ' to learn more about interactive tables.';\n",
              "          element.innerHTML = '';\n",
              "          dataTable['output_type'] = 'display_data';\n",
              "          await google.colab.output.renderOutput(dataTable, element);\n",
              "          const docLink = document.createElement('div');\n",
              "          docLink.innerHTML = docLinkHtml;\n",
              "          element.appendChild(docLink);\n",
              "        }\n",
              "      </script>\n",
              "    </div>\n",
              "  </div>\n",
              "  "
            ],
            "text/plain": [
              "            ASIANPAINT.NS      INFY.NS      ITC.NS  KOTAKBANK.NS  RELIANCE.NS  \\\n",
              "Date                                                                            \n",
              "2017-03-31    1040.873779   447.008148  234.894028    870.307922   637.497864   \n",
              "2017-04-03    1056.726929   441.126709  235.941559    874.049866   663.438965   \n",
              "2017-04-05    1049.648682   435.507721  233.762711    887.919678   682.912781   \n",
              "2017-04-06    1053.866577   437.103760  229.698380    892.409790   694.254517   \n",
              "2017-04-07    1050.036255   429.210907  228.483246    871.205994   678.858887   \n",
              "...                   ...          ...         ...           ...          ...   \n",
              "2022-03-24    3025.350098  1886.699951  254.850006   1714.150024  2578.649902   \n",
              "2022-03-25    3046.949951  1876.550049  253.350006   1722.250000  2595.850098   \n",
              "2022-03-28    3027.449951  1873.900024  257.049988   1725.199951  2621.949951   \n",
              "2022-03-29    3042.600098  1886.000000  254.600006   1730.000000  2622.550049   \n",
              "2022-03-30    3080.000000  1898.500000  253.550003   1743.449951  2632.550049   \n",
              "\n",
              "               TITAN.NS  \n",
              "Date                     \n",
              "2017-03-31   449.838745  \n",
              "2017-04-03   446.533630  \n",
              "2017-04-05   478.029663  \n",
              "2017-04-06   473.800964  \n",
              "2017-04-07   471.856812  \n",
              "...                 ...  \n",
              "2022-03-24  2618.500000  \n",
              "2022-03-25  2523.899902  \n",
              "2022-03-28  2535.899902  \n",
              "2022-03-29  2538.800049  \n",
              "2022-03-30  2539.899902  \n",
              "\n",
              "[1235 rows x 6 columns]"
            ]
          },
          "execution_count": null,
          "metadata": {},
          "output_type": "execute_result"
        }
      ],
      "source": [
        "pf_data"
      ]
    },
    {
      "cell_type": "code",
      "execution_count": null,
      "metadata": {
        "id": "W8FRGxJBnJo9"
      },
      "outputs": [],
      "source": [
        "for i in assets:\n",
        "  DATA = data[i]\n",
        "  DATA = DATA.rename(columns = {i:\"Close\"})\n",
        "  train, valid, rmse, predictions = Stock_prediction(DATA, i)\n",
        "  print(\"'root mean squared error' of {} = \".format(i) + str(rmse))\n"
      ]
    },
    {
      "cell_type": "markdown",
      "metadata": {
        "id": "bBFwMG_HRW7s"
      },
      "source": [
        "### 5000 Random weights"
      ]
    },
    {
      "cell_type": "code",
      "execution_count": null,
      "metadata": {
        "colab": {
          "background_save": true
        },
        "id": "JY2aFqCxRW7s"
      },
      "outputs": [],
      "source": [
        "pfolio_returns = []\n",
        "pfolio_volatilities = []\n",
        "pfolio_weights = []\n",
        "\n",
        "for x in range (5000):\n",
        "    weights = np.random.random(num_assets)\n",
        "    weights /= np.sum(weights)\n",
        "    pfolio_returns.append(np.sum(weights * returns.mean()) * 250)\n",
        "    pfolio_volatilities.append(np.sqrt(np.dot(weights.T,np.dot(returns.cov() * 250, weights))))\n",
        "    pfolio_weights.append(weights)\n",
        "    \n",
        "pfolio_returns = np.array(pfolio_returns)\n",
        "pfolio_volatilities = np.array(pfolio_volatilities)\n",
        "#pfolio_weights = pfolio_weights.tolist()\n",
        "\n",
        "# pfolio_returns, pfolio_volatilities, pfolio_weights"
      ]
    },
    {
      "cell_type": "code",
      "execution_count": null,
      "metadata": {
        "colab": {
          "background_save": true
        },
        "id": "CrAXbr84RW7s"
      },
      "outputs": [],
      "source": [
        "portfolios = pd.DataFrame({'Return': pfolio_returns, 'Volatility': pfolio_volatilities})\n"
      ]
    },
    {
      "cell_type": "code",
      "execution_count": null,
      "metadata": {
        "colab": {
          "background_save": true
        },
        "id": "mI0-eOG6RW7t",
        "outputId": "b27b03ef-8bda-4212-a13d-f89e59eae674"
      },
      "outputs": [
        {
          "data": {
            "image/png": "[encoded data removed]",
            "text/plain": [
              "<Figure size 720x432 with 1 Axes>"
            ]
          },
          "metadata": {},
          "output_type": "display_data"
        }
      ],
      "source": [
        "portfolios.plot(x='Volatility', y='Return', kind='scatter', figsize=(10, 6));\n",
        "plt.xlabel('Expected Volatility')\n",
        "plt.ylabel('Expected Return')\n",
        "plt.show()"
      ]
    },
    {
      "cell_type": "code",
      "execution_count": null,
      "metadata": {
        "colab": {
          "background_save": true
        },
        "id": "Nu4QPGDoRW7t",
        "outputId": "94cd711a-aae9-4448-aee6-203f00a6e17b"
      },
      "outputs": [
        {
          "data": {
            "text/plain": [
              "0.3561874988517501"
            ]
          },
          "execution_count": null,
          "metadata": {},
          "output_type": "execute_result"
        }
      ],
      "source": [
        "max_return = max(pfolio_returns)\n",
        "max_return\n"
      ]
    },
    {
      "cell_type": "code",
      "execution_count": null,
      "metadata": {
        "colab": {
          "background_save": true
        },
        "id": "OntDV8_ARW7t",
        "outputId": "a1c55484-ec54-4c9a-a48f-5904593b2840"
      },
      "outputs": [
        {
          "name": "stdout",
          "output_type": "stream",
          "text": [
            "(array([3843]),)\n"
          ]
        }
      ],
      "source": [
        "max_rindex = np.where(pfolio_returns == max_return)\n",
        "print(max_rindex)"
      ]
    },
    {
      "cell_type": "code",
      "execution_count": null,
      "metadata": {
        "colab": {
          "background_save": true
        },
        "id": "lSpe515aRW7u",
        "outputId": "46c462e8-feaa-4c94-c860-82dffb8393b1"
      },
      "outputs": [
        {
          "data": {
            "text/plain": [
              "0.22747313900869315"
            ]
          },
          "execution_count": null,
          "metadata": {},
          "output_type": "execute_result"
        }
      ],
      "source": [
        "max_rvolatility = pfolio_volatilities[max_rindex[0][0]]\n",
        "max_rvolatility"
      ]
    },
    {
      "cell_type": "code",
      "execution_count": null,
      "metadata": {
        "colab": {
          "background_save": true
        },
        "id": "IAdVnUNoRW7u",
        "outputId": "f620e658-fabd-41cd-ea21-06903d4a6770"
      },
      "outputs": [
        {
          "data": {
            "text/plain": [
              "array([3.97282170e-02, 4.85838251e-01, 2.90253502e-03, 3.36771144e-02,\n",
              "       2.21495101e-04, 4.37632387e-01])"
            ]
          },
          "execution_count": null,
          "metadata": {},
          "output_type": "execute_result"
        }
      ],
      "source": [
        "max_rweights = pfolio_weights[max_rindex[0][0]]\n",
        "max_rweights"
      ]
    },
    {
      "cell_type": "code",
      "execution_count": null,
      "metadata": {
        "colab": {
          "background_save": true
        },
        "id": "3q6K4bmpRW7u",
        "outputId": "0139186f-1120-4fe4-c921-40ffa9699861"
      },
      "outputs": [
        {
          "data": {
            "text/plain": [
              "0.18137257839142182"
            ]
          },
          "execution_count": null,
          "metadata": {},
          "output_type": "execute_result"
        }
      ],
      "source": [
        "min_volatility = pfolio_volatilities.min()\n",
        "\n",
        "min_volatility"
      ]
    },
    {
      "cell_type": "code",
      "execution_count": null,
      "metadata": {
        "colab": {
          "background_save": true
        },
        "id": "4otnTTezRW7v",
        "outputId": "fe706d54-5124-41e4-924c-96f845212bdd"
      },
      "outputs": [
        {
          "data": {
            "text/plain": [
              "(array([2734]),)"
            ]
          },
          "execution_count": null,
          "metadata": {},
          "output_type": "execute_result"
        }
      ],
      "source": [
        "min_vindex = np.where(pfolio_volatilities == min_volatility)\n",
        "min_vindex"
      ]
    },
    {
      "cell_type": "code",
      "execution_count": null,
      "metadata": {
        "colab": {
          "background_save": true
        },
        "id": "5g3nwXDZRW7v",
        "outputId": "d41f7b86-14bd-4814-c4f0-160f5eda5b25"
      },
      "outputs": [
        {
          "data": {
            "text/plain": [
              "0.2358803529519963"
            ]
          },
          "execution_count": null,
          "metadata": {},
          "output_type": "execute_result"
        }
      ],
      "source": [
        "min_vreturns = pfolio_returns[min_vindex[0][0]]\n",
        "min_vreturns"
      ]
    },
    {
      "cell_type": "code",
      "execution_count": null,
      "metadata": {
        "colab": {
          "background_save": true
        },
        "id": "ZJguLLd-RW7w",
        "outputId": "b09a61b2-32e0-4cfc-86dc-c5b505924660"
      },
      "outputs": [
        {
          "data": {
            "text/plain": [
              "array([0.23719442, 0.2640705 , 0.25947681, 0.0874021 , 0.05711625,\n",
              "       0.09473993])"
            ]
          },
          "execution_count": null,
          "metadata": {},
          "output_type": "execute_result"
        }
      ],
      "source": [
        "min_vweights = pfolio_weights[min_vindex[0][0]]\n",
        "min_vweights"
      ]
    },
    {
      "cell_type": "code",
      "execution_count": null,
      "metadata": {
        "colab": {
          "background_save": true
        },
        "id": "8sawiHeHRW7w",
        "outputId": "1ca3b9c8-583e-49e6-ae43-06f481c2d6e0"
      },
      "outputs": [
        {
          "data": {
            "text/plain": [
              "['35.619%',\n",
              " '22.747%',\n",
              " '3.973%',\n",
              " '48.584%',\n",
              " '0.29%',\n",
              " '3.368%',\n",
              " '0.022%',\n",
              " '43.763%']"
            ]
          },
          "execution_count": null,
          "metadata": {},
          "output_type": "execute_result"
        }
      ],
      "source": [
        "max_sr = []\n",
        "max_sr =  [str(round(max_return * 100,3) ) + '%', str(round(max_rvolatility * 100,3)) + '%']\n",
        "for i in range(num_assets):\n",
        "    max_sr.append(str(round(max_rweights[i] * 100,3)) + '%')\n",
        "max_sr"
      ]
    },
    {
      "cell_type": "code",
      "execution_count": null,
      "metadata": {
        "colab": {
          "background_save": true
        },
        "id": "Tb8oIBwiRW7w",
        "outputId": "b516bd26-f58b-4795-f758-fc430a9dd695"
      },
      "outputs": [
        {
          "data": {
            "text/plain": [
              "['23.588%',\n",
              " '18.137%',\n",
              " '23.719%',\n",
              " '26.407%',\n",
              " '25.948%',\n",
              " '8.74%',\n",
              " '5.712%',\n",
              " '9.474%']"
            ]
          },
          "execution_count": null,
          "metadata": {},
          "output_type": "execute_result"
        }
      ],
      "source": [
        "min_vol = []\n",
        "min_vol =  [str(round(min_vreturns*100,3)) + '%', str(round(min_volatility * 100,3)) + '%']\n",
        "for i in range(num_assets):\n",
        "    min_vol.append(str(round(min_vweights[i] *100,3)) + '%')\n",
        "min_vol"
      ]
    },
    {
      "cell_type": "code",
      "execution_count": null,
      "metadata": {
        "colab": {
          "background_save": true
        },
        "id": "ejfO9g29RW7x",
        "outputId": "4740dd79-2293-4923-aa16-18539079bbfc"
      },
      "outputs": [
        {
          "data": {
            "text/html": [
              "<html>\n",
              "<head><meta charset=\"utf-8\" /></head>\n",
              "<body>\n",
              "    <div>            <script src=\"https://cdnjs.cloudflare.com/ajax/libs/mathjax/2.7.5/MathJax.js?config=TeX-AMS-MML_SVG\"></script><script type=\"text/javascript\">if (window.MathJax) {MathJax.Hub.Config({SVG: {font: \"STIX-Web\"}});}</script>                <script type=\"text/javascript\">window.PlotlyConfig = {MathJaxConfig: 'local'};</script>\n",
              "        <script src=\"https://cdn.plot.ly/plotly-2.8.3.min.js\"></script>                <div id=\"8108694a-6007-4f0d-844a-27dabdbcc82c\" class=\"plotly-graph-div\" style=\"height:600px; width:800px;\"></div>            <script type=\"text/javascript\">                                    window.PLOTLYENV=window.PLOTLYENV || {};                                    if (document.getElementById(\"8108694a-6007-4f0d-844a-27dabdbcc82c\")) {                    Plotly.newPlot(                        \"8108694a-6007-4f0d-844a-27dabdbcc82c\",                        [{\"marker\":{\"color\":\"red\",\"line\":{\"color\":\"black\",\"width\":3},\"size\":14},\"mode\":\"markers\",\"name\":\"Maximium Return\",\"x\":[0.22747313900869315],\"y\":[0.3561874988517501],\"type\":\"scatter\"},{\"marker\":{\"color\":\"green\",\"line\":{\"color\":\"black\",\"width\":3},\"size\":14},\"mode\":\"markers\",\"name\":\"Mininium Risk\",\"x\":[0.18137257839142182],\"y\":[0.2358803529519963],\"type\":\"scatter\"},{\"marker\":{\"color\":\"blue\",\"size\":5},\"mode\":\"markers\",\"name\":\"Random Portfolios\",\"x\":[0.20134093326804928,0.22081139505499445,0.2096808380623809,0.19411769820632974,0.18843739899752654,0.19458154327276073,0.1974333380922778,0.20161535086497515,0.20230568890332246,0.189107679916699,0.19516293021225628,0.21315539264219446,0.1906573859752288,0.22082765108011757,0.18884486339533846,0.1889914275379483,0.19957909991094044,0.2000156046003343,0.19045912837957288,0.19387511464660406,0.19561126230866463,0.21574782217993208,0.19067159980125215,0.198370488317653,0.19367917057827047,0.1961446038226298,0.20841508425874847,0.21195259230260186,0.18887052371040386,0.1902620665199462,0.22902283261229092,0.18645664884824725,0.18598416299153425,0.19365874562347044,0.1830898436620758,0.18990234573872922,0.20622973902947855,0.2024271651347959,0.2112151446868034,0.19502884800253362,0.19875985211644373,0.19038260407843746,0.18765019061883978,0.22239407634222072,0.20814676194485382,0.1975709929837816,0.19464628895000252,0.1958129683154415,0.1900182029414634,0.19407909195700912,0.1935684074381362,0.1879011103294193,0.19390091577799576,0.19130765090589194,0.18959623537747575,0.20774969079249422,0.19450721906812776,0.18370120247237023,0.18927811585530382,0.2101725937848001,0.1913782302259822,0.1864306831098264,0.19183867685159445,0.19990856555655312,0.18459846796778412,0.20216198378099795,0.19349366927279218,0.19097537210755752,0.1960597574351257,0.22329715328432367,0.20177191883546372,0.19689344909595333,0.19146477281602092,0.19590361763727776,0.19535188837360773,0.18275777811141475,0.2044887182464846,0.18852670165977392,0.18884445910901929,0.1884229729340373,0.1894381564076855,0.19307472332734552,0.2151090013877389,0.1934931804915071,0.20319720005327976,0.18697168982724954,0.2206432916032287,0.1948659042695217,0.18732222808458265,0.19488235857485553,0.19239901172690074,0.20518908645173284,0.19313801162355748,0.1942343011167554,0.19129020223683876,0.18754579967876495,0.20246148285145218,0.20320550761526118,0.20367587295394382,0.19598471468050888,0.2030399263970916,0.18766057596229727,0.18837805328018847,0.18441594935919223,0.18616427374843797,0.19121238893852927,0.1996700598355383,0.19766202511956946,0.2015272235833643,0.19568276570299728,0.19545522916671912,0.20630601981945196,0.2089865286248254,0.19278720713292272,0.18628685799642622,0.1873209519442912,0.19659719842231355,0.2028898759074081,0.18896125295733388,0.19343135605124423,0.1963997611260787,0.19613722883858173,0.19754106979077274,0.20523956951431807,0.2070293772198896,0.19497826237524188,0.2039645621973882,0.21035414965377816,0.1933715298669375,0.2001348068868053,0.2049533510013822,0.19615258987018824,0.1828515885238431,0.18880694793220829,0.1856957439279461,0.19439390197234607,0.19153689604286156,0.20350178891820075,0.19009887510080348,0.1924026339476966,0.19570115564258247,0.18675231223610678,0.21898779990504824,0.21279191052314236,0.216780120068562,0.20095492649910976,0.19731099805497948,0.21139849680753722,0.1869778813008943,0.18562520809994829,0.19396327805739513,0.20169363503875684,0.19146907852881467,0.21381707397921587,0.19263373694861533,0.18925469692483177,0.20150658001546473,0.19954430988850114,0.1910314825279115,0.18744305064184835,0.19865952089414432,0.19368473913221868,0.1832356392178201,0.19058689321743372,0.19029657213252588,0.2049894386548422,0.2337180945111297,0.19567440906109207,0.1960664012936813,0.19774420612866683,0.1907053260325834,0.20484035918198928,0.19985680796519242,0.1878955481874371,0.188938204545793,0.20936550170382506,0.20385630461815404,0.19797899269618865,0.19759486905660656,0.18578456081660655,0.2044807340776134,0.18348054118121102,0.18463410179734346,0.1965309144452638,0.1990739252204911,0.20621595766352924,0.19413655907589655,0.19112902060933598,0.19384704967245983,0.18887055658808774,0.20145463032758093,0.1948401232547125,0.1965250931040307,0.19565352933837807,0.18833685749827087,0.18644203491114,0.19449386673800448,0.21004312651126178,0.18833101872088057,0.18579361398602773,0.19159801969030738,0.20586755888546843,0.19202504583083518,0.2246560640530342,0.19493609710578164,0.1829004595617148,0.19466612971433586,0.1892222233244218,0.19200772607347705,0.19509631541817674,0.20186824632153774,0.19621959855789242,0.21914398027371434,0.18734010636809867,0.1918620896471133,0.19685268694029442,0.19956003181497858,0.19767317496569106,0.20283045611965161,0.1980344530974296,0.20075876358834022,0.18673690215387181,0.19222751756450637,0.19288579756217258,0.2092168094888961,0.1936677374606106,0.19835416303564823,0.19354737094018698,0.19946881615654966,0.1870814183528839,0.19318701206546765,0.18935675652548237,0.18747243576081776,0.20416178887932399,0.20478773740849446,0.19890949101265387,0.22720731649234427,0.204922411654676,0.18786373385145513,0.19235549978555394,0.1974023548605945,0.18607181737484157,0.19175917263244863,0.19867185031180792,0.21144149116783809,0.20147054164020448,0.2046762103259514,0.19558680658204416,0.20058263787640107,0.2111869890392055,0.19570505474151245,0.1967154257760316,0.20359136547846057,0.20131631392672478,0.19586859040838506,0.1855688771665223,0.19602045611235633,0.1928643410103093,0.19666803782192335,0.20627072370311345,0.21624413669027975,0.2053502717848569,0.1972503925089504,0.19219885193560798,0.19422383670141882,0.1987829123076571,0.1832825258306167,0.19293534019965125,0.2250079020691436,0.22716575329608724,0.19813530254304518,0.1985863343510787,0.20771440815868714,0.20649189544514604,0.18895822474537494,0.1844374663679421,0.2348266020734784,0.18441962494445835,0.20156834590848707,0.20112991880251532,0.19689551026583957,0.20746536213365827,0.1867736467178356,0.18729120407483,0.19180105956174479,0.19058608662566953,0.19226956441188278,0.18956606703987539,0.18516372290421187,0.20122778075548245,0.18817053418787008,0.19554854940452918,0.20863353400013995,0.206538736878496,0.19122562588555483,0.18424304839691122,0.19384948411549435,0.19004249026690284,0.21064849915906605,0.18811699774500573,0.20480504039006708,0.1866548027198761,0.19806629319048707,0.22026785595762635,0.19249747586900232,0.20801168615588447,0.19346933934616606,0.19292089825548644,0.20311523068506476,0.20846790174343235,0.1936732575397959,0.19359018878939954,0.19565306403773364,0.18542496136662023,0.19184610232106844,0.1949280564866086,0.20198472242155607,0.19012619596603988,0.21611072822788666,0.19218692158423845,0.1965979953447455,0.1851086406563778,0.19870820566793326,0.18693348420869535,0.1890712145103291,0.18346089684522593,0.19781825374294273,0.19210258302517472,0.2075333113314294,0.19166084572018802,0.19059515897451698,0.21507503367650346,0.20450621969715616,0.20127395910066517,0.1928982090414904,0.2002932520895749,0.1917160126716263,0.20047310580090266,0.19765316985741313,0.19598491945275529,0.18566793086884784,0.1907214938516066,0.21950931177832184,0.2013118936180145,0.21232512463199332,0.20533188734629715,0.19091325390598954,0.22198960378939708,0.1909319958249123,0.190287693064969,0.20331558807195158,0.19240842886842136,0.20069476180770382,0.20678530856577015,0.18958626039359647,0.1892614958161124,0.18723811412921781,0.20053965916028255,0.18939493842600078,0.18537968132152904,0.20986346214811186,0.22215166762999156,0.19457828368204186,0.19495043452488206,0.18526291254642988,0.18555082699564937,0.2035914817237829,0.19855672525255325,0.18376376394129473,0.203181964061834,0.20393677491540618,0.18948074217364008,0.1952992323831665,0.1990561245484719,0.19352204724498384,0.20419183559980264,0.19087303785838747,0.18691494756950455,0.19153230395596707,0.20685386067710423,0.2030527163846132,0.19307421582772652,0.19678480702937923,0.19439506785314858,0.20836078599369676,0.19895207844590335,0.20940697857903223,0.18940978826654095,0.1945628144664163,0.19370650655783064,0.19322715013887373,0.19668832385870907,0.2053832383195906,0.1933821571683262,0.19801344410237443,0.19271919600477,0.19469097160047832,0.2001304292981743,0.19311735650075465,0.19369714170636354,0.19856326929290982,0.19342095018397834,0.1858847942337097,0.20775088227691377,0.21086309183151583,0.18633420339730933,0.19268025549282028,0.1914113361826915,0.19774712647403878,0.18382817445813646,0.21733887930261636,0.2035067505528667,0.198007477865204,0.1972849239016044,0.19346123629319703,0.1871284095806617,0.1966764536403698,0.20675055304052117,0.19416205498217115,0.1831190976929373,0.18815517139168964,0.1838053443089724,0.18919662969079315,0.19515438242281113,0.1906577214959449,0.20888674653801573,0.19579896570873817,0.1905058755305864,0.20354247383319748,0.19390318655119324,0.19901367930767083,0.18582498511445403,0.2094024413551368,0.19236745145211534,0.19447825046238656,0.1956635402390071,0.19791790969926187,0.18745458346339847,0.1924568316990876,0.18488216109761998,0.207368467686256,0.1954724015773249,0.1930860246878248,0.19776913932308174,0.19104777976000695,0.19394353183081584,0.18654005092319512,0.20618289240833437,0.1891220219152848,0.18658537848194245,0.2031526137543428,0.19145848622488376,0.19753316256328815,0.1830871125698216,0.18732162673349226,0.18769960628550317,0.20314760895394787,0.19900927968990803,0.19741695216455038,0.19139194562250747,0.18675851808847949,0.20834594700239634,0.18870055976648112,0.1887345639976878,0.18849986598255142,0.20752330456088214,0.20164220526397858,0.19335575999441423,0.18763169528197976,0.19457031390523283,0.19362470846216745,0.19100616087055491,0.18685740800581194,0.20528846408045848,0.20067063368101015,0.19097832479104668,0.1903832416842517,0.19803752874712205,0.19563476865167911,0.19564126920564445,0.18957186970628837,0.20871633246071156,0.19102636565828032,0.2045013515566893,0.2093674928290453,0.20286251572734673,0.1922968898971841,0.18582573151712087,0.19840689350106833,0.19751501239774769,0.21095694830932965,0.18833417806021602,0.18737825703343175,0.19684555307024126,0.19063705098024944,0.1908861797952467,0.18619462590241734,0.18803894389589867,0.19583526368236684,0.18916827719719753,0.1896631187512894,0.19791633593681676,0.205180839699365,0.19157604397095107,0.18451377372949088,0.18970809885656345,0.19083568739954843,0.20778361572882675,0.1986771105032452,0.1913747710564608,0.19519851982279526,0.19113512975925212,0.21130703864012823,0.220120598285734,0.18479503949009543,0.19245396276989318,0.19531798372055134,0.19212088443639863,0.20070669872365285,0.19112749572068002,0.18631269914922874,0.20414461585233903,0.19606080176685559,0.1927103093935202,0.1844928180086602,0.19104389130860733,0.2035246268051045,0.1943224085419626,0.19375073805602513,0.19279610241919082,0.19482479727437887,0.18296048185293856,0.19186797584778384,0.20986504376650728,0.1997194514371541,0.19549404297194015,0.1947827351147616,0.19722269941075682,0.18890381949259355,0.19632392702110504,0.19353073441456062,0.1975889944826911,0.19679399512806303,0.1879989473331694,0.19542083585227038,0.19547343796201785,0.1840812384195071,0.188192718333819,0.20701566044956002,0.18475341593582847,0.18770357563118686,0.18593065831974812,0.19554239834658596,0.18737283479467487,0.19645751673238715,0.191186839414643,0.20834321368355949,0.19429542915374842,0.19462723670766008,0.19348503277182294,0.19744338636285513,0.1950823495555143,0.19982475805661787,0.19839555830200875,0.18342208251812733,0.1887447783896173,0.19316827787403776,0.18255148389225792,0.19549052936333866,0.19822108922584872,0.18360244514747234,0.2092404498453509,0.22666621090010003,0.1923476834854494,0.19781722209271546,0.18750170755366677,0.19719048531263128,0.18699466681110763,0.18703665389705967,0.1965456084510783,0.19787507747580727,0.20613178831014795,0.21151675111383642,0.1975108632012329,0.18662751120572615,0.19174333091453166,0.18302360963051126,0.20130314405405383,0.19837152623975846,0.18476733954936175,0.2133154907015665,0.201301320009574,0.2004190093771178,0.1967436230069392,0.19120009579994007,0.20147391091717415,0.19069708460525733,0.19773000063905458,0.18679532789290557,0.20195563959107588,0.21456679441659368,0.18816192409878046,0.1943468800222851,0.19295873297878613,0.19130793753865705,0.1984951684904472,0.18819371076172586,0.18978735587674395,0.21016861512204824,0.2100320201255915,0.18686951022848483,0.20760045614671618,0.19701364437019134,0.1983622874915949,0.20289890426418378,0.1900216634325731,0.18895525892367793,0.20120481493209805,0.2022552088667314,0.19027664951998063,0.20312914224717404,0.18780145197452677,0.1921338054804209,0.18368093315394482,0.21783872430087586,0.1847415133834678,0.1932556497808025,0.18528287613914624,0.1987525525036674,0.19506685299418672,0.19315576977501203,0.18925289003561183,0.1957768280159721,0.19368867280851623,0.2229346852661847,0.1893549101955296,0.20236000294644235,0.20685038017540822,0.196179198701272,0.20700938700566895,0.21568809210138384,0.21905362544619067,0.2096617655175313,0.2063208896982859,0.19349426639866205,0.19256005140210378,0.2008314038016726,0.19923878078783608,0.21361986405645206,0.19653405933716808,0.2012444872847044,0.19667563733484353,0.20525972759629854,0.18621950986580493,0.19894220915924035,0.19035970227686094,0.19230554537309874,0.1920693003261984,0.18870030015685113,0.19494027872317976,0.21438223965647962,0.1889311376720189,0.18586421756021224,0.19939926572628394,0.20050684241161099,0.2028161971830348,0.1880033487711215,0.21032869460836526,0.19084937290069323,0.187574926871092,0.19317568260613116,0.1893153696716489,0.20374480407838325,0.18827964975385422,0.18956086278177553,0.1949694268796802,0.18952999489175662,0.18792398662676033,0.196276074929174,0.19116215945108084,0.1983473541713835,0.20425372233664665,0.20260321421327188,0.18621782613424753,0.2045953657185265,0.21145008503231158,0.18335371755922514,0.20993096118025853,0.1939109448358542,0.18673530667497548,0.20673736652969302,0.1912258338443926,0.2003436839409183,0.2110691350903476,0.19357201958142775,0.19137502225037867,0.19134732694592835,0.18689927280753346,0.1877898796285894,0.19158133842559102,0.20662346346496147,0.1843593694108626,0.19551333086832276,0.2102613612006369,0.20092739676411364,0.19702855331277863,0.19514961139183265,0.20077098673175944,0.1944699660578137,0.1864562330400276,0.18793457021381402,0.19349548203330136,0.18692546255426837,0.20192476285842886,0.1951932995982767,0.19986506087775283,0.19485546002790277,0.19417257916365657,0.1959268571394914,0.19355150205766514,0.19238841519395103,0.1957543490155714,0.1999461910627506,0.1957318301688589,0.20600629384143068,0.20331501405347166,0.1987220414345697,0.19886368065337587,0.19681504571957542,0.19421264252330087,0.20987677155411438,0.191360329687424,0.21871853334354094,0.1931157949526606,0.2212347197648413,0.19367934123462202,0.20130121500199977,0.19642822779416555,0.1946719265793304,0.18862554551465843,0.19191819843058072,0.1844469940534747,0.19886915585101866,0.19876883620267244,0.21069391987649433,0.18526573419554823,0.18802574024196397,0.19555703016044357,0.20928419454936453,0.21851381126398672,0.20324949982622026,0.18840259607805288,0.1982611966898455,0.1899034002807084,0.20407409377043473,0.18902606739904357,0.18565064537426013,0.194974763220167,0.21343345278652098,0.20125698131883676,0.18272593599790998,0.18707417473150598,0.18658855059596605,0.1862217324649301,0.1978186472776695,0.19887983447444632,0.1999715030925816,0.20737558914670806,0.1939084179278994,0.20576224187690256,0.18417816341515694,0.20712730172519614,0.19537386042445318,0.1990004289384866,0.19302382285560765,0.18740531514615413,0.18406526935101125,0.1885430841092657,0.1933823339233532,0.19846433404565939,0.2315266154037828,0.2113834374002393,0.18776909742669448,0.20392870262038523,0.19289658761352463,0.2002034898800912,0.1974473698680428,0.19831804389112048,0.19715481146402386,0.19832771750906641,0.19686871518335633,0.1825081954652015,0.19318576640132934,0.19706234742790565,0.20634788596128564,0.18948486652185265,0.19912434030480128,0.20755438627265146,0.19458893673696753,0.19687542805368527,0.20663691616888658,0.2303529115795283,0.18277375654915293,0.19052191560601792,0.19600827373754176,0.1943342744501076,0.20476422538182992,0.19176451318759347,0.19456116594479117,0.1931585083417434,0.18843584307575417,0.19945445956811905,0.19241782294990434,0.19059342008077554,0.19061476038722394,0.2080217222276328,0.19990939622049259,0.1894306651769223,0.20089929566386225,0.19379512528066362,0.19170812073945304,0.18418408553103055,0.19162495817666853,0.19797267696731372,0.19517976963699937,0.20300533207587565,0.20686809591466426,0.1919107737531013,0.1890367320041263,0.21504690282064318,0.20400300428962073,0.19321770079703918,0.18876666666849212,0.21800495719256507,0.18606211858431598,0.19955815052473028,0.19536798511488443,0.20792539006357866,0.19910196591524756,0.20062870484720505,0.1902995694797896,0.19151025488651188,0.19553831898208734,0.18537364491558078,0.1917172398846387,0.19871832032329,0.2121760944440555,0.19519120212633986,0.1932205300457269,0.2093135808690572,0.19175634333105684,0.1901438491685935,0.19565222078262037,0.20051901973726907,0.19720392705164355,0.1874989123041281,0.19840941142292987,0.19049882844562777,0.19127613217030498,0.2047301542811451,0.2054376873354684,0.2051493174042843,0.19005719038806498,0.1961120475989797,0.21595873006165148,0.19901496758524068,0.19733015845547994,0.19652978816240452,0.20010673874905585,0.20712661168055035,0.19847934629766578,0.18533378827792682,0.19732834445773734,0.20071421380559615,0.19229997489433479,0.19233078195178155,0.19182501894677906,0.19436699905310995,0.19229947248622883,0.19307747008736081,0.2186564166179261,0.20775116106831476,0.19865111601469776,0.2012326459524397,0.1955226638252623,0.22397056335603818,0.20177058288612468,0.20012282889163432,0.18486120271322978,0.19983125972988508,0.21234161023723905,0.1911611119202816,0.1886147983569238,0.1973758957026563,0.2078516911169503,0.18742509270434432,0.1923093044567789,0.21392029360124762,0.1974849787119029,0.20367631592543245,0.18946344284825825,0.2011195833829246,0.20482590314404786,0.20929604055938736,0.1938015709159796,0.19457566896492604,0.1922375768458459,0.20531051638126105,0.20586261411834333,0.20571587766056798,0.1919583651423841,0.19461322787277885,0.19999542418129235,0.18974493321401092,0.18354858765015852,0.18974940291814732,0.1988822226176353,0.18390046436758137,0.18356754150095544,0.19187120759478365,0.19885077828270234,0.19581429277573664,0.19987613552347527,0.19251400342518718,0.1967062239963212,0.19761824461529082,0.21300805106188714,0.20234481007706373,0.21223377584132064,0.19045440674384714,0.19041250358531972,0.18992818769752015,0.19986035950272718,0.20168915717956673,0.19947894365045318,0.19328776394717,0.19262305477386343,0.19608437439009085,0.20379797048389942,0.1902737668460214,0.18308864692824686,0.19251102699390024,0.19921668181907642,0.19922700911874364,0.19825369797748763,0.19126719698430117,0.21127414435971206,0.19799130315263858,0.2082291524840355,0.19162103909697664,0.20281103455153232,0.20857213876872127,0.18866043642508573,0.2260731209344903,0.19071686009770206,0.19374269612063694,0.20094960463046133,0.20296943613141757,0.18544646656739308,0.19555635005572375,0.18403016279139417,0.19545999031627911,0.1927653184840728,0.19389789470254074,0.2046555927055576,0.19726917852274373,0.19479842419331564,0.19780011964881994,0.18720338991469293,0.18861927394443023,0.18550776494118723,0.190596871189775,0.2008276603721977,0.19230986596024052,0.1887402266190442,0.19159601969109136,0.19021150498309994,0.19045268030610493,0.188652157060524,0.19572842731161597,0.1966976127601759,0.2126308157922257,0.19213801293252697,0.18489783814572872,0.1935177566035658,0.19433984036439014,0.19435824663903495,0.2078461561912667,0.19701093316002805,0.20120055674581103,0.2029377775558684,0.1963257780538127,0.20176304248387375,0.20616349844112147,0.21536292969836549,0.19754985045412055,0.19175310227447226,0.1951582044474127,0.19482629051971986,0.19912834545034977,0.19964458358419354,0.18832088527514074,0.18732923924112965,0.2102518930335928,0.20628365212530453,0.1850909694401654,0.20393611828959915,0.19280138952444356,0.20975693106972224,0.20155277574523134,0.19191425392158526,0.19478739729774022,0.20454547594142944,0.211695872278695,0.19336488274630706,0.19635854021824373,0.19262207303284154,0.19819240975325972,0.2006243905966404,0.21047224888621474,0.1940770636665132,0.19134644390311517,0.18594718698857854,0.22146452368918146,0.19732715817289487,0.20100230572749153,0.18571758971598232,0.1953213204798478,0.1987505704571226,0.18686471376101063,0.18663262178787907,0.19234806964723827,0.19612731062298977,0.19122998824309,0.192338505181953,0.2063713215972654,0.18839588546966987,0.20416929924584845,0.2065440209856914,0.18598388205775,0.1943340924045622,0.19130788208920693,0.212349944479799,0.21939919322081092,0.19137539674674575,0.20265398918380054,0.19598430894565716,0.1824339216291254,0.18906320051756523,0.2093430475507913,0.21577161458194297,0.20256144027787992,0.20279799383398758,0.1889715778140556,0.19373528879350388,0.1937353436858104,0.21086940683031627,0.18294121138933173,0.19085470662649398,0.19050761889623627,0.1959954189704999,0.18442385519682078,0.18630111231752713,0.19564407543343346,0.1873159772961242,0.1921603254577936,0.18697342653486868,0.2041337459640909,0.20736054929869951,0.2070649523764679,0.20947279689678547,0.1960061656815495,0.19195586045542437,0.19125527727500385,0.1894283484966126,0.19848105893839246,0.19408297117439935,0.21936566880495578,0.19071232926556417,0.198349818453322,0.18458642839746134,0.1888454688902162,0.18212488670084997,0.1978487686169105,0.1938019337704866,0.20420250700639878,0.2121092092485564,0.18906864011908456,0.1887455193057548,0.19191909412348215,0.19694211647355678,0.21371400658255632,0.19072418332780675,0.20947820003626316,0.1846845341389224,0.20785841578514616,0.19793814116741246,0.19732083041007092,0.19243647643282058,0.21689978454511755,0.19198236473470962,0.2016928961301232,0.19591305052852592,0.20089612213237906,0.18668515803100816,0.20448755720178172,0.1904411802835739,0.2090524245750972,0.1854340466403102,0.2017140099173963,0.19062787448029017,0.19776264346968006,0.21561094945327333,0.1887860704392845,0.19662130248231205,0.18474801879499125,0.19835395686239038,0.18694658165879297,0.19749763362002767,0.19785269908067896,0.20951071373268643,0.18733636702384296,0.18669845874054333,0.1992842141729278,0.1956900003335398,0.20515449560268145,0.21251436322047873,0.1883453414496282,0.19377422871311817,0.1945437624426051,0.2102595131258815,0.19442746169460723,0.19985836931412593,0.18971840781871924,0.20740273332668288,0.2022897404211468,0.2026137441498343,0.20320686745238492,0.19641116672782938,0.19129216413085096,0.1862328436999318,0.19202995980077922,0.2056292953029938,0.18898926330679683,0.203508850447301,0.21090939895068533,0.2036280595468614,0.19093856173431908,0.20364592092430636,0.21141490498830803,0.19182137532105592,0.20138157994704683,0.20069224628672658,0.19597391795494726,0.1921487909826823,0.20440347600804104,0.19688323377329855,0.18318555829127095,0.19764093716111003,0.1859415473691332,0.20389913476614135,0.2004751034971182,0.20836558573259625,0.1921484410027179,0.19737222303841828,0.19933011224944627,0.20284145355209995,0.18566282508769347,0.19035200885775522,0.22190621063431984,0.20075725445522952,0.1984945271509425,0.19410318437715232,0.19506055469882,0.19915925619140717,0.19464061954496886,0.19651294213228307,0.202745116298858,0.1872792173809803,0.1923912154946425,0.19289714025052906,0.1937716249542706,0.22088757250725027,0.1956176254899512,0.21859099719186925,0.20682857008565886,0.21359560854045068,0.21443130968944588,0.20075043719965222,0.19100661077234393,0.1955074070041494,0.19557041302334827,0.2018238910853768,0.20025585678546745,0.18588244850141042,0.18737979603124613,0.19228765575099618,0.19358597556482576,0.18466894672310458,0.19214113485827183,0.19563920269432084,0.19468587111877542,0.23384382852644597,0.1931291419455845,0.19981001165287698,0.19724944764972738,0.19547956504864983,0.18766770429999408,0.19301768756029056,0.20838796848822627,0.1836310645337149,0.19645468159100277,0.18987970000927085,0.19616971459904514,0.19323181529898958,0.18881198327975512,0.18556744153631755,0.20017032088400377,0.19639219291500173,0.1958835881884905,0.1843630141948931,0.18852651812949037,0.21297678840372486,0.20021612964135607,0.19503748711391625,0.19891412208228587,0.20097938297421236,0.20022334492918062,0.18271858396595794,0.2040809825049683,0.1955158626650782,0.19201016394265627,0.209718180427537,0.1953836734670756,0.2029259604448608,0.19405733533580485,0.20945575464006067,0.2011245542695339,0.2163442767894537,0.19174210380478052,0.19567529498177508,0.19795477493777414,0.20503568842907435,0.1908554890245516,0.21169178673854838,0.2005499259316266,0.19862778205307882,0.18315024059435375,0.19040114687223386,0.1926410823538209,0.18478274243975043,0.1968851648512433,0.19663531079491162,0.19620466920454896,0.18521635069570175,0.2035118262359861,0.2110773552156069,0.19175889519234965,0.2096803746623035,0.19222286200844946,0.1942390193962312,0.19472579230586937,0.18675575676874442,0.19866154119469817,0.18457286814904203,0.19055086928233583,0.199356949780754,0.19867106354202932,0.19917090387968034,0.19150301989153423,0.19639581794313046,0.20173772920699803,0.1882722969923248,0.18444480610522196,0.19183086385215073,0.19812260145015528,0.20101929009744973,0.1926904032769,0.18971151420053253,0.20107405526523803,0.18972530947638502,0.20079454140545439,0.18401306291308664,0.19201271707879466,0.20057089060986288,0.19051684894347728,0.19385224204898477,0.19406706317609873,0.19160030928045543,0.1926792129706148,0.1871158107314415,0.21225189098171085,0.1924740636387208,0.18797723434958682,0.19301992927836573,0.1930058143032946,0.19349223494923357,0.2008318446760147,0.18589298332793933,0.19313312137623878,0.21460145572869635,0.19553270347483284,0.1852549035919723,0.19289644179648316,0.19068496880692679,0.1890679235847718,0.18708260439889,0.1927901070693245,0.19329864674856112,0.18967420195461382,0.18568786195372752,0.20342883222589986,0.18593703775260984,0.1991888077003005,0.19849771097736574,0.18940773903301486,0.20069345123855842,0.2011254295255008,0.19101549305867171,0.19181655300328593,0.19406035529905724,0.19033745978931438,0.1885454397165549,0.19314079571394974,0.1867690813856641,0.1822137949104012,0.20527083098279703,0.2096044506719461,0.1886231144232285,0.19789703304073397,0.19376068282697304,0.19303029811686795,0.21108806054874177,0.1823228175944772,0.19581061806592515,0.21935386425838213,0.1831926572004006,0.19966686490859673,0.20379306573011963,0.20050191039779403,0.19845469262614562,0.1874639496746929,0.19472436314101196,0.19452457365520992,0.2031619516532215,0.1930743289682258,0.1992241745876626,0.18480134690055416,0.18948465685980578,0.20132124098583634,0.19977268740733553,0.19448605530152216,0.19368833867026802,0.19480965266706446,0.1866015233967841,0.1976726676232582,0.2009929239781128,0.18923499685995115,0.19345325211210623,0.20740200678273102,0.19459269900435835,0.21823534824743746,0.20524342823102354,0.19725764835846588,0.18802466920453015,0.20520784785368612,0.18620870038978396,0.19635653182931456,0.20438478506541452,0.19129710343650266,0.19991844482577834,0.19705490008050724,0.20524211345611135,0.21758179702972705,0.18351052242122792,0.19258352367970075,0.19054880818081243,0.191458965564848,0.20339593226691846,0.2054941408168521,0.19448030775675965,0.19352684905768444,0.18546083201279462,0.2016382813350993,0.1990122160047875,0.18589646300096282,0.18851022641280962,0.20205093248168599,0.18924654792152593,0.1885372185634291,0.19323407778880825,0.1969840148046872,0.19484349260663797,0.18402143498342408,0.19006754798541645,0.19477381972144184,0.18532372401569355,0.19263093443996657,0.19472384189137654,0.20229534901799445,0.1912930085744538,0.20069431376863878,0.1988002936961577,0.19598118822035493,0.19509032511252242,0.18540575608069002,0.19096697698686152,0.20212045259654857,0.20749692944966555,0.1873818635886399,0.21049783581986165,0.192066751265473,0.18638978220409305,0.20591312111799243,0.1823918199130583,0.1877240494223495,0.19031299554973355,0.1854547393519837,0.18469299342780027,0.19770209485425702,0.2072695829902146,0.196038740439742,0.2015489303609906,0.1943155596393639,0.20622630267955816,0.18916662321716035,0.19468439491099165,0.1880903697847813,0.19684465373308055,0.1985972387852037,0.19513130750371988,0.20307499679126045,0.18399271913081194,0.191599461743967,0.19016248278613565,0.18785444134127136,0.19194506229259237,0.20438459311986212,0.19508182089341194,0.2048554095778625,0.21070105253554075,0.19393552896913596,0.1909740945217282,0.19465505474901496,0.19468133103448176,0.18582692515765786,0.19661757766538818,0.19838038211682119,0.2054543900238731,0.19654139405818835,0.1944824287669424,0.18917599076467792,0.1839130671153209,0.19255411139181616,0.18899922249771722,0.20034454113111003,0.2005513016293291,0.20069188591731488,0.2056253329053796,0.19445595648281475,0.205448185116922,0.19309441066486627,0.19741117208010928,0.19256801595743242,0.20566825724188356,0.1976674077267071,0.19959690709062403,0.18943185304083152,0.19266478524581335,0.19828052452885989,0.19404708347815192,0.20732863544713862,0.19462099738891406,0.19774840631589538,0.20264292381855237,0.19552752043239202,0.20117469398380777,0.20121992514976955,0.20005174461139535,0.19556703840094303,0.1916120814665378,0.21117186124905715,0.1870022148727772,0.18967537993184216,0.18622004508006704,0.19639593550357604,0.19608024814743685,0.1853972926450815,0.20169359338722007,0.19421011237969693,0.20591881187616928,0.19002152422429286,0.21259873411164348,0.2077300257402583,0.19213188317743635,0.20336557466007224,0.2219324899163737,0.20652488212327927,0.20180376641152276,0.18427998083568597,0.19258882595321583,0.2146661510541469,0.21206977138492622,0.1925488841844775,0.20931373327055763,0.19634108908460163,0.1938848391845009,0.1898211461584362,0.19019125556689923,0.22612473959470653,0.23051600309544362,0.21763998571176663,0.19931464882385047,0.19368595722097395,0.19072495743909845,0.19047982514516523,0.19305887340259706,0.19047519533707072,0.19508958363898837,0.18763058266315802,0.19120145447306983,0.18604854538062546,0.18884016357469,0.1882509537502197,0.19253459981131538,0.19564801336629437,0.19032931134881972,0.19747900839349783,0.19601112387360123,0.1832073907034836,0.19578041727415527,0.20176936591583805,0.18331475442331013,0.19953237617020275,0.18402201895776257,0.19658155519197795,0.1828624153038593,0.20600668070579756,0.19372113861985552,0.19042520115860082,0.18812286149457824,0.20023070283568972,0.21396155829455926,0.2037841824697413,0.19392795095680287,0.2164376719007805,0.22304844240641664,0.19278788806897196,0.19753718289705846,0.200070735582718,0.20781583133274664,0.20300796936801352,0.20727338768948264,0.19365989730876476,0.19557637421253882,0.19997223496878602,0.19161093226693635,0.1987912290449751,0.18425636113827928,0.18689536380882552,0.19005043421994264,0.19762911653909365,0.18788636335136316,0.19585399506512616,0.18944901847863835,0.18946538658413878,0.1941951595705881,0.1899135471402425,0.2141554776943842,0.19257416777863257,0.1951436859677787,0.1916905259175602,0.18524007362025072,0.19838208167001214,0.19518410099070288,0.188244688445519,0.2034192258748415,0.18455612705207156,0.20655466084439186,0.18483360312809313,0.1932754833709973,0.2102017469292246,0.20876913234019726,0.19214877260907848,0.18610096641050944,0.1961715429412205,0.18540319612147782,0.20420919026491707,0.19351900483203374,0.20051180892703843,0.19214696674237036,0.19253368845529423,0.1895913666022742,0.19524527282257806,0.18828340672617744,0.19987768945276999,0.19227300045538467,0.20055852790765696,0.18952442901019007,0.1910812324204917,0.19525310164193663,0.203337057951613,0.20006910529380603,0.18804045523768126,0.19873869700908192,0.2254286478824758,0.18848794077198933,0.20642194084123577,0.1975252409124182,0.20837231821497562,0.18679852544798048,0.19434433046925778,0.1943662884675338,0.18703410783965396,0.2140680767551766,0.18461320122279548,0.20605682803905354,0.18715626482422093,0.1997557551944863,0.2034024493779653,0.18494074611068217,0.19788548262069836,0.2025727895048977,0.209172929344289,0.19685928809675265,0.20773652883240445,0.20639980293815802,0.19938981258186766,0.18459862672885335,0.18798375174579704,0.19792730397333466,0.18697644234124686,0.19213975876819353,0.20077130238833432,0.19355875864679795,0.19189026683240915,0.18810338145075667,0.19164724570193642,0.18306091318171158,0.18669310009592022,0.18773718047020171,0.19527886668322106,0.1919089458737835,0.2147987084412967,0.23107570731389676,0.1943865545666571,0.1925076284548128,0.18931083978475743,0.20980721042111938,0.19425567251995943,0.1970043307882177,0.20597740855556018,0.19436825398525176,0.18703327038196815,0.193385578753963,0.20154339834179538,0.1989212500155494,0.2087009048926405,0.19136759404576034,0.18176707852343613,0.18479187544969147,0.20192048278779912,0.20612314600138357,0.1975693981186582,0.19561178355368888,0.19746535053291311,0.19983425764276036,0.1968831067353101,0.18267047152238644,0.19461180325304028,0.18595951870148567,0.20438042518580368,0.18786972774453536,0.19724090061421323,0.18785326097921048,0.18977652821594698,0.20086432995759296,0.18820612366001596,0.1893449034473085,0.1856768181921869,0.19319511303253453,0.2005509119174497,0.1930416109089742,0.18930336504568554,0.18584792283871684,0.1863049699599288,0.1911078061172065,0.1923179475258651,0.19119723256050467,0.1887098960322776,0.20179717648630072,0.18779722868300225,0.19659163369518456,0.20180519763242508,0.18815348020051778,0.18238805932686175,0.19141050313852873,0.1884558409305288,0.19621226857089039,0.20865736712562918,0.19016130224311598,0.19419882158008658,0.1976138240374816,0.20935368866220477,0.1985659282174588,0.1884882898215505,0.20149925332266475,0.19953378513432166,0.19048743657121997,0.19904210181913332,0.1876895862851624,0.2052609364961759,0.20291672776078937,0.1893593651357037,0.22356652784510087,0.1996250540674,0.2000449844681549,0.18738244824167394,0.19336509926697396,0.18939962988507614,0.20207693690333023,0.1818692637872669,0.18985527844377686,0.1869112894505391,0.1880408844963429,0.19088624320847447,0.21029933955455074,0.20651537609634893,0.18901509534311733,0.18826700892194523,0.2014408354419733,0.20125980821106326,0.1908574131885382,0.21547482753033673,0.200551209653809,0.19365075948449328,0.19808104655704736,0.18632479330600205,0.19243380156693513,0.19216540610728258,0.18810793766357875,0.18866573173084497,0.20469559113820082,0.19312407787840644,0.19663015151430785,0.1991396871621142,0.20126091245382505,0.1962571692476324,0.18501951227804547,0.1902018990810384,0.1893359777834248,0.19345010794578044,0.21187337455441535,0.19422400086379218,0.2177926181436335,0.19386389758637598,0.19172448913009907,0.18494378731987193,0.18367300732674424,0.19344760242633258,0.21356110897541247,0.207547269893002,0.19890627221905818,0.19589089532979745,0.18994165226782708,0.19216812828358093,0.1882520947077772,0.20459990398143413,0.19325102078644188,0.20217112758604616,0.19471343085675374,0.19764081451737814,0.18740903407691062,0.19464153154113373,0.19134178641781394,0.20709750756737505,0.1920154763402556,0.20028349052975544,0.1900233863478563,0.1979532720349253,0.1978345433703312,0.19553547284858552,0.19282121307937877,0.2108226281797423,0.19334809721896531,0.20519762697382787,0.21540099045194386,0.20868849806597692,0.1997853391936955,0.18458747462538694,0.19387080299093903,0.18553050294698342,0.19114502675171646,0.1962678573732979,0.19552923405522923,0.19172568853087085,0.19793536252217936,0.20598227006328215,0.1891608328370937,0.20399566378567427,0.20002587799621757,0.1874182096370722,0.18162308468664237,0.19241909672598814,0.1968415019126025,0.20631593255455652,0.20783643981537078,0.19338335979064591,0.1955179342078886,0.1908020820496344,0.20908920347643498,0.19956828348759248,0.19029588277389228,0.19474894407960294,0.19952357332634868,0.18646769333796695,0.19674923849624099,0.20161586300480153,0.18964861906457575,0.1875167309298239,0.1986710610502749,0.2011398588616581,0.19999193582187486,0.21306535021483408,0.1970081494915605,0.19734547504269223,0.19563834325455945,0.19685540164125997,0.1987352272890327,0.19450772826124613,0.1977273693692405,0.21430996246196418,0.19332269595384524,0.18703367851319577,0.1925578654893501,0.19079861827816982,0.19878919237519677,0.2018672120972877,0.1927748990843324,0.1919749492210813,0.18652751878226784,0.19328355417095944,0.2077599995314929,0.1910446369012811,0.2013922392456274,0.20852715583152343,0.19586294747285682,0.20288942452758774,0.19458300066083045,0.18506278257855888,0.19805207981571044,0.19820431726654297,0.18547448378602638,0.1844154058285283,0.19029163714309563,0.2047672862596632,0.20249764904312686,0.1907840742334364,0.19325483731409196,0.20772628559287878,0.19490054788657876,0.20933878514382345,0.19417946716668963,0.19041327119788307,0.1954092628619517,0.228659838599627,0.18709757571430885,0.19959307995142364,0.19986310516588654,0.20710839431900924,0.20597098032846847,0.1860777115013389,0.18750625649145058,0.19932076097439547,0.19295148617072835,0.18462379682016386,0.20420586021000328,0.1929668641680174,0.20122582038253592,0.1964226237508156,0.19182325214023194,0.19814692730563624,0.2087888824140239,0.197715010855562,0.20301136401700146,0.18966237145775122,0.22543667110827664,0.19705164600872122,0.19269153606608327,0.1982715797784319,0.1829674882801668,0.19485976977536956,0.20949557378731187,0.20137395485851092,0.198588977744087,0.20265679410070492,0.23071315124461186,0.20480052661794448,0.20608538996732717,0.18889699607738894,0.19574274050274382,0.195219901824839,0.19863208035934388,0.2004675376713856,0.19458396672518447,0.20865055634926513,0.19040430053004978,0.19719431777936156,0.2029672869105777,0.19552172909901244,0.19060284493590196,0.19581978194839503,0.1963756691606898,0.1947767965387705,0.1920698757064263,0.20467979477941176,0.18743625122802815,0.19525525074303002,0.1921877921139567,0.193995795355582,0.19090892125914752,0.19272939680446746,0.18564008114185643,0.20322038083691255,0.1849781395919976,0.19684456977222262,0.19598373441282993,0.19635689082880775,0.20044457543471267,0.18918017191088518,0.2078891226960151,0.20999451731768484,0.20385473753963523,0.19586312828958946,0.1952563358635756,0.1914743655968592,0.1976626988540012,0.1987952542659018,0.19305707221372828,0.21049098054122423,0.1999159137886988,0.18865404992315674,0.18527493111489834,0.18597208580380978,0.19144191909138436,0.19895868352323223,0.22985678898509848,0.19169137079691997,0.20456080150812728,0.1977453473879171,0.19041978705701265,0.1888339597741861,0.18832072926558938,0.20439332484037528,0.18932698298056647,0.19419433922348198,0.1956761935577177,0.19084299338810334,0.18810479781917927,0.19260843061557206,0.19206943731004528,0.207839988626076,0.21950851048261888,0.20137084104074524,0.20469662401593602,0.2084825813760942,0.19747758416350694,0.18360531467107713,0.20229882158952248,0.1885630579784667,0.19877216104445913,0.19441549923819568,0.19787845691473419,0.19521076628450937,0.18924687609976065,0.20022978169140243,0.2032999106406167,0.20884984637782913,0.20184413808245646,0.20254604076363056,0.20729269477425397,0.18606787222496324,0.19991469211478213,0.18669572771938361,0.19632515080500668,0.197592316168254,0.18848731629123908,0.19229325630881872,0.18847144141816063,0.2053878961252516,0.20900996031106672,0.19525695464253892,0.20315126143588738,0.20178554893592582,0.18988399826245791,0.19623729525482755,0.2026575857292768,0.1983820946473961,0.18898862368327787,0.19772991451207234,0.19202977009299657,0.19865883599399647,0.1989073104587968,0.19543188281820292,0.20512001477054587,0.20492315464106206,0.20883169880341276,0.1918563254011295,0.19076754947296112,0.20712272079898508,0.19266018128492388,0.19919591940881873,0.20952069312843177,0.19883747985716207,0.18574126370381341,0.1963072397764838,0.187582701379404,0.2174301864956176,0.19238508533830043,0.18791499987216462,0.18742854869767944,0.19205899331848264,0.19503086005249248,0.20538451841387823,0.18736379000559383,0.22779958783710288,0.19312332869941126,0.18692505706096144,0.19152406219639245,0.19579159307302127,0.19355783416384925,0.19717808207779683,0.1909620486005398,0.19284765392804956,0.19007463336602465,0.19343804762026345,0.18825376999639792,0.198645709109483,0.20023703019643704,0.18593235816434417,0.1935324458734811,0.19443521164105065,0.18330006592586098,0.18264152913373574,0.20134273539879466,0.20286606174074898,0.19009832678191474,0.19872448918027938,0.1873553593522567,0.20345565693920362,0.19062917406340493,0.20404597329919985,0.1994260623648827,0.18487805749049402,0.22429058109970382,0.19960216921794546,0.19926165546011462,0.21263046671120028,0.1910530534535805,0.1985763238345366,0.20184983768482143,0.20372381045251922,0.19348224743112066,0.19518393678598878,0.18972404677293697,0.18367857444834731,0.19334729412247373,0.2003360383551197,0.19540177999417285,0.18865025785213194,0.1895415776185751,0.1949865376802099,0.18792890958422895,0.20370597481373226,0.20539818367438475,0.19601159589877862,0.2021656730833795,0.18546189066253801,0.1898750818413109,0.18893885248978778,0.1875473150335104,0.20728215871070593,0.206843033823517,0.20399315597381656,0.19472307838302094,0.19442441590871265,0.2021171327868083,0.1935094047903958,0.195941533162309,0.19815944194379526,0.190278215287922,0.20034679183795184,0.18558939433708138,0.18748142659771763,0.185844488120972,0.18536645553780856,0.18923437154599734,0.20791134561775104,0.19003773448980893,0.19678359067146617,0.19655533438652079,0.19039938269467058,0.18824817395752244,0.19407884327448777,0.1940523378706237,0.21590464498366982,0.18999456401081555,0.19515244917240612,0.1889422627929814,0.20134012470794327,0.1902577314056146,0.21436863144585208,0.23220097742550375,0.2030689144734102,0.1932403432315352,0.1967055232001843,0.19993439504002264,0.21029278893429687,0.20019461884872203,0.18984007948076603,0.20588648940325102,0.19815634729731166,0.1988609817938528,0.19391210859705832,0.19152131479954299,0.18931279249841326,0.1941390198082952,0.19405885310915716,0.18589517101067154,0.18352469276965738,0.19694190339906423,0.19585736502204018,0.18999864594063032,0.20344657891747484,0.18153767929055292,0.2016494094135197,0.19017416296328718,0.19664907684339306,0.1949478658905108,0.19239661509557565,0.20308112894657265,0.20203308548488794,0.190012882288165,0.18574047915249203,0.1970268276487675,0.1923816183970792,0.2043343812329585,0.20189365019210528,0.19288386670487095,0.20575165706034962,0.18936442923105076,0.19083731098132378,0.19327403633104318,0.20005279566764392,0.1903691812607419,0.19447581507812092,0.20136210141061367,0.1905809710433199,0.18865171894114294,0.20401983029755041,0.2009863052049819,0.19159367740901256,0.184955566690176,0.18919984559273342,0.19324131962021332,0.1929537207275464,0.1875970665670032,0.1840139130163306,0.195374653079524,0.18962399870778332,0.18357280560849237,0.1953413319133169,0.19962166201936055,0.19880578905711604,0.19233274791972765,0.19892477834225453,0.1901728789579315,0.2010940733544409,0.21363821496115554,0.18826817065272414,0.1984590488628639,0.1895013491546517,0.19257099814586362,0.21528934704830208,0.19257338032623858,0.19076629145192858,0.2011997080362812,0.19913483729722067,0.18770945015726978,0.19895323192491804,0.19743571871713278,0.21484910862945672,0.19435640899994353,0.18858673763118217,0.19087967657517377,0.20759153910025543,0.18604469320719305,0.19187905086627485,0.19832683945633967,0.19604737631964386,0.18294588656860827,0.1881895230568974,0.2003347739735861,0.19113010231369867,0.18282252503737134,0.19433110041729332,0.20544601998040846,0.21120489444021803,0.19601892291323156,0.19558715568136195,0.19330012216286496,0.19327008904957424,0.1871053386655592,0.21059715830756415,0.19183258058090627,0.19710206291425253,0.2144021024260227,0.18645767281355302,0.2135476724086938,0.1923505201451168,0.20280431469437124,0.1918130559863311,0.20014252547084077,0.194923536565344,0.20088743256054628,0.18556424934822452,0.19063380203055072,0.2019779639186362,0.18800484367732723,0.1914882315383632,0.1896977523485687,0.1865452299208332,0.2022398502412915,0.20588268945146415,0.18413256940534936,0.19220379294852452,0.19788004060829634,0.20446546746997638,0.21799154888711772,0.21550270761345516,0.19057945198863302,0.19319522098511915,0.2012422942000357,0.19519959742047976,0.18887670877446414,0.18688375007788494,0.21950460984091935,0.19310228622103792,0.1896644742874999,0.2026540618725498,0.1887833363098529,0.19851888707956714,0.20940922123104622,0.20152533888810983,0.20359332571448496,0.21425793413237848,0.18817989245790157,0.19638870444463793,0.20470113798032075,0.18561674521672306,0.18689815595124007,0.21237323772634234,0.201433968507716,0.20459227271363817,0.20285164252516127,0.19933170673965772,0.18297992434361943,0.1959636746466967,0.1954271761754312,0.19906439710629337,0.19888293043905314,0.21242284334643483,0.198723040956864,0.20179325981933752,0.19982187154382355,0.20191044178772355,0.18574645329857795,0.21149232022296527,0.21140581907032638,0.1897489854689822,0.1887279884751604,0.19552077599417853,0.19515666389057282,0.202239106594819,0.18586121706254996,0.19538597892430992,0.19668013548387037,0.19299600326086586,0.20905605320410453,0.1953819840568354,0.2014017347069627,0.19369571807129066,0.19204928791123885,0.18712433935621792,0.19710516116393953,0.20111998562135755,0.1943926036447455,0.18810427964670587,0.1943678705232388,0.21772030801958706,0.19753180365310777,0.19583227578239013,0.19187258065166493,0.18605518592326323,0.1971084829546329,0.19121059007076507,0.19620327149586955,0.18595698451306863,0.20029370330892543,0.18831714894741472,0.20013196391028132,0.18616031221211057,0.19455267018837655,0.188501794058231,0.2074177832365181,0.2148728512590756,0.18722867470033358,0.20036070483620608,0.20212722144034428,0.20518595438748163,0.2038965715910385,0.1913407595382396,0.2038034911088062,0.19830898287485302,0.19875710108199915,0.2127580184120001,0.19147502728905205,0.19670116081111624,0.1860888561300366,0.18378448667674116,0.18935604816458473,0.18316452450752427,0.19180333256438964,0.18974752119245314,0.19811349520655663,0.20976440818592254,0.1968821191547477,0.18565359714167262,0.19214493442817632,0.19995583857619603,0.19042647677533575,0.18492037377575812,0.19318745198755394,0.19707991228281657,0.2003021973058445,0.22304028304211904,0.20532330963260467,0.2003951300592309,0.19400122600364977,0.19136093678539,0.187738071845085,0.1830659284995187,0.18779927118297032,0.1898348600682784,0.21167166380481975,0.18772279253437635,0.20123692583785416,0.20068322014045398,0.19305697108311573,0.1867937743144062,0.2153875487862939,0.1918314064669584,0.1917409723893625,0.19199661283277256,0.1989819567518169,0.18830885446828907,0.23814620380361076,0.19872955890089608,0.18896329107706236,0.19208441682725652,0.19888457805705853,0.20642252834082006,0.1973054228899128,0.2106973127359283,0.19444954364361208,0.19573560848142746,0.2002052173895849,0.20388278695564543,0.1997399212307205,0.2082792067770106,0.19281320896667786,0.19354218305386417,0.2127264144731422,0.196437250858438,0.1853615180627008,0.1857706872313804,0.20792573689005608,0.19117135663328544,0.19801586101999682,0.18482443118107286,0.21271828841708434,0.186054901330055,0.20633191637275675,0.2147432098625815,0.2019938004959758,0.19273142866935614,0.20165551658431644,0.19239998323193733,0.18825304005768576,0.19479819483546343,0.1913700972151047,0.19749141648308613,0.19533205694495717,0.19277989200113074,0.1920422626643791,0.19157712493452544,0.1948938531848512,0.19324339091478523,0.18223062025647108,0.21383968286587565,0.1933206296617288,0.20228565452502803,0.20041937579602434,0.186889843303756,0.2089925982083414,0.19959509870846145,0.18804589162610186,0.19096937673952807,0.1905509478329487,0.2101536522151757,0.20936308966355163,0.1973234528929067,0.19271056462312633,0.1965852862220745,0.19154380867119922,0.19508912308857787,0.18902924223864082,0.20662544027527535,0.21369340553525323,0.20362881726738766,0.20057202390602918,0.19272442145544427,0.21010917106804852,0.19945691663632145,0.19381743305001634,0.19555290168449513,0.18679045637072125,0.1922165892688569,0.19261892894939214,0.19713329678781916,0.20038644892888052,0.20248814523444814,0.19400072749835803,0.19285181095086953,0.19070349015719795,0.18938006767901605,0.19827117064180394,0.191571699954085,0.18459721344811988,0.20131411762532492,0.18839228100321204,0.20890108168483415,0.19876513786529396,0.2028653736168166,0.20390505952565838,0.20441030563061233,0.2112813955312598,0.21020221962673627,0.18811793488468462,0.2009143334550866,0.20331109326121644,0.20797708757235744,0.18968537407128225,0.19519673474913676,0.18993673114947124,0.18841262457520577,0.2089927322246854,0.19908006951928076,0.19083022861816512,0.1915812685070785,0.18470997581326765,0.1942354937861328,0.184922307677187,0.18957799347433446,0.20127565608736647,0.19671564018806978,0.20818391570597333,0.19075231235350337,0.19489929995013985,0.1897492685262479,0.19755977828912344,0.19496016492407756,0.1912862022375082,0.2115289942193884,0.19551330252968155,0.20522464911941254,0.20477673117161682,0.19885667157098616,0.20093836312756813,0.2066835559821643,0.19494571913608227,0.22679279480661915,0.1927068225430025,0.19300265983624074,0.1955417200404394,0.1944471354848335,0.18353342315549112,0.1912863705643249,0.20397817127066925,0.19522172591110076,0.18991972475116828,0.18938484784142978,0.1984037997338006,0.19194800453642796,0.1955646689131951,0.20998595007175547,0.20712374070365294,0.18644595518289309,0.20509974189502167,0.19841777297974375,0.20496222614457285,0.19691320966622147,0.19858543106645649,0.20677264197873246,0.19433925448193787,0.19054724284503743,0.2018847783071317,0.18538573404236797,0.20489041671486177,0.1876171262209871,0.19657627781527034,0.1943209282102655,0.20401280970515384,0.19263890984409252,0.19189788764340082,0.21589331684713062,0.18739320585488636,0.2056928307740419,0.19940979206972112,0.19963041448197877,0.19400246904471263,0.21277495484038014,0.19632998646519165,0.19190467389887325,0.1980512873458645,0.191627654939163,0.19374826366069087,0.21855454594613452,0.19934169620276126,0.18932385519006428,0.20708697703956372,0.18675123261140358,0.1949807397301752,0.18468441819651024,0.2054268136568092,0.19087829149853874,0.1967598350627911,0.19622444942683306,0.21302955671213264,0.18496586238216975,0.1892945068667084,0.19395842391020232,0.20130346026855014,0.2011716694224747,0.20900880266434096,0.18299558968001914,0.19599195415008813,0.19707579742357728,0.20093958022533168,0.1882580788864837,0.20824278579460442,0.19205716014773408,0.20510293470656266,0.18310911651239256,0.19271623235954455,0.19681372646884773,0.18495485889547594,0.1972961679332277,0.1949580279931508,0.19866379074952933,0.18352594986954163,0.2027229539233257,0.18635465707607998,0.19492206844396115,0.19333604963578588,0.1896277495469965,0.2031739983193612,0.19014230527987172,0.1936608586157991,0.20605316163394044,0.19144894790224273,0.18607364773936333,0.19528747344500466,0.2144540129620929,0.19815746279442234,0.18834131125277292,0.19442869076826805,0.20558564517196595,0.19236335921002704,0.18509074624536417,0.18421020629994497,0.19841011189919125,0.20379063345241516,0.19057195356033493,0.18659139486243642,0.19127336416574423,0.22257186092916426,0.19020260752521342,0.20121424055557383,0.18644246500343,0.19613409114612626,0.20006100120457243,0.18815059136811949,0.1880216915562866,0.19922825566966557,0.1941611544394755,0.187724213940617,0.20183361738118785,0.18424071974580442,0.20355737204147445,0.19449417910285355,0.209050766616617,0.1946994624289134,0.19188470533842025,0.19768016100157773,0.1981525878726876,0.21307950114496563,0.19531038560498445,0.2144988133283676,0.19838604728601492,0.19717136786779965,0.20236128649130247,0.21165007069024602,0.20681339093942486,0.19269773133142182,0.19706556314261284,0.19609679056986806,0.1951905827177975,0.19227251405634363,0.1881001030797764,0.20386455473375278,0.19237043277029625,0.20028001916545016,0.1838677805087428,0.21034510089596486,0.19896905972620763,0.19354605498583002,0.19367350255985932,0.19493931328071498,0.19453101352265686,0.18775148902137095,0.19655057520985417,0.18865846222633664,0.18970548575808294,0.20751261888058947,0.21096430844804603,0.1999349105224778,0.18480717549335113,0.18649826937574537,0.19592217466259484,0.1958024402709169,0.20220682226042586,0.1871270451620592,0.19598023095387127,0.18917334155844115,0.19381204540470925,0.18645628078271775,0.1954135982609895,0.20620876382582295,0.18942749757330304,0.1852606516239348,0.19591560046221215,0.20303988521552166,0.19609165076670018,0.19285556175057586,0.1965316422778385,0.21109835816669692,0.1940671460708473,0.21034890095572048,0.20931304019720484,0.19333836797070678,0.19317542797643975,0.20879978268088792,0.18636470875620184,0.19207577517448332,0.18903928120110705,0.1899004125621226,0.2039596444950682,0.19069684737207532,0.1980696709799851,0.18666527140654224,0.19340818819692915,0.18992563326676296,0.19282465016912206,0.19139145207263153,0.19033778009066757,0.18842999684766396,0.18571321260677337,0.1982818903975746,0.22078147306927062,0.18490145766244892,0.19322564138928378,0.19612996278406397,0.19948966422272663,0.188500268107018,0.18966692878634897,0.20238451222580972,0.19143511559248455,0.2086717607567394,0.19573703809863496,0.21727878756722382,0.18698335969446508,0.19784926657766694,0.19950371671973227,0.18566402992295894,0.20309899739917264,0.22055937871401138,0.19992296068643062,0.20752116310031482,0.18818979571756536,0.19700888567406816,0.2060796349754478,0.20324428860632468,0.19680775412171161,0.1864734345099629,0.19805824501896982,0.18192183092282121,0.20305354045869,0.19612754608916566,0.1855733194792948,0.22447765025978497,0.19713987334538438,0.20386182912818163,0.19816069644945844,0.19549739256034426,0.18970730642537892,0.19002813749680383,0.19058179310520942,0.1861788253168106,0.20239723567312748,0.18668401899145892,0.18652309060023325,0.20238541263705123,0.20151709246332516,0.18137257839142182,0.19401329211678678,0.18573381532982472,0.21090844654281046,0.20398483244390342,0.18560097643524492,0.2023231573258432,0.19424814113249073,0.18732632292783788,0.20001970486902237,0.19740444455822737,0.19431122048838873,0.1903609042382659,0.1999947322969449,0.2111305100922801,0.2040774204195598,0.19993940605287916,0.20210829055436116,0.207621011495314,0.1940540325334526,0.19612491989655606,0.18609339770391975,0.18598259491188315,0.18557852597398192,0.18935983243034785,0.19457588951398108,0.18626777711603149,0.1885109375106247,0.18894173719786386,0.20754870560459798,0.19737718706636312,0.19362335601326466,0.20091175415195459,0.2065118473685463,0.19948853582233939,0.19068221335852203,0.2041330017231699,0.190027463278713,0.19766421165446346,0.18814128925126145,0.1936090528585059,0.20095172637582487,0.20927386374570997,0.18710315585751844,0.18997221271570452,0.20101768144670326,0.1956627731556744,0.19429808318728903,0.1857919744789422,0.1917902786858448,0.2003038494224564,0.2127592982753504,0.19212329083443652,0.1888569837353764,0.18959776071370482,0.20196764721604854,0.19835512183417345,0.182971076180989,0.19125910640601132,0.2130548903967217,0.19638361183819425,0.2038496080540722,0.18989949667471925,0.2208759274514798,0.1887037672025851,0.19859188980536482,0.20170924538521617,0.22229532037421623,0.19580765182752927,0.19886226518000136,0.19936353166310541,0.21448683571458485,0.19728536949830264,0.1973336706521026,0.21066553351217124,0.1879490939895622,0.18767161035119007,0.1908273615552737,0.1937886956817883,0.19108316569553213,0.1993555777263556,0.1828543834379678,0.1986197132430456,0.20258608708724843,0.20122594682790917,0.19561176762410692,0.19230997231230162,0.19818120526958682,0.1844202800336486,0.2032515875824355,0.1910940384523812,0.1983257585075458,0.1985023606397865,0.1873669479592257,0.20100862404111705,0.18517728284259208,0.19121757065859207,0.19620551941137165,0.19701847447116264,0.19923594695088614,0.19445488340272413,0.20951931974014465,0.19727011502179825,0.19123436819602138,0.18411124877913757,0.18815778687186205,0.22261677489779644,0.20076591019276113,0.19496631074118506,0.2046509799995119,0.19731791280346878,0.19124150950300947,0.2069149777570087,0.18424212453683728,0.1873572133198407,0.19145532810097476,0.19818054862900972,0.18983794325135328,0.19782971322908996,0.19483493689072315,0.1966780092939152,0.20135470020169666,0.19865758501803144,0.19182058038882074,0.1918489258155151,0.18931258908454934,0.1904750390441834,0.18813642405401,0.189782575716454,0.20875810234073713,0.19899728535484254,0.1882371929959546,0.20228489544879638,0.19096801253576606,0.18872682400249244,0.20161308415522086,0.19227146092541406,0.18532357699094013,0.19312154616369992,0.2045584365210953,0.20314254909322754,0.18985785558314988,0.19460510418976087,0.20485985729383233,0.1974858120270956,0.1839034260395234,0.1905980008108472,0.2026669523964234,0.19751180868201895,0.19309659577184035,0.192460508368378,0.19884718994018513,0.20393863420299754,0.18473813727838595,0.19355297277925493,0.21211059720926298,0.18652590047056194,0.18568915965080615,0.19038522810192976,0.19745720073873502,0.18285927167334434,0.20414283849127132,0.1883609008063,0.2064198111629461,0.18824645116147976,0.1869627566346891,0.19759858397692484,0.2009418668325679,0.2140672600398072,0.1837390119605669,0.18815969025141593,0.18338856479209545,0.1991793239502383,0.19236947699995005,0.19045600905284296,0.1890256306426785,0.1897962978128422,0.19882064642373332,0.20192329023540437,0.18439791872395006,0.20460269323685756,0.18752179069521455,0.20234737657999935,0.19233898790011733,0.1996234584711194,0.1853825033260136,0.1889588961304067,0.1902652363791989,0.19225385385632054,0.18886484607147427,0.1947337079510216,0.1935269727937022,0.18624547089169596,0.1884736303880704,0.1927043930444141,0.18553156353899064,0.18914669116040383,0.1846740415926697,0.2094918232930507,0.19046028223972877,0.21445527889406424,0.20596315041860905,0.20299059863964924,0.19923658265144356,0.19373479326775045,0.19920404088199226,0.2096340477006548,0.19099352876534575,0.19560867669376436,0.19560778451900596,0.1996461142533034,0.21159549547939493,0.21937675416443833,0.2006791573560429,0.2053020593455368,0.18856199976131421,0.2013515030160268,0.19141787043803632,0.1941358289337859,0.2054727956740311,0.199532706892212,0.1865077100665946,0.19476778138454914,0.19104377955917015,0.18990703298036934,0.19496061446379143,0.19053936720854317,0.20479936652342598,0.18874485000461294,0.1885684662124481,0.21042403622478298,0.2009207154635943,0.1913822308768768,0.2039926996045068,0.20439374370701982,0.18994537980852558,0.2119733293661961,0.19081610539732907,0.19717740335776687,0.20113943137651324,0.19379930507878246,0.1938819313681265,0.19492729680869186,0.18459707064547934,0.18950572574251626,0.20867598515177493,0.19902116134468045,0.19043660579249566,0.18784621833782988,0.19408546748530917,0.2005014748315042,0.19959319011071414,0.20309357673134848,0.19064241701217993,0.18531676864093904,0.19347182638970473,0.1892586172323828,0.20862425373953195,0.19128520619601577,0.19020624415007514,0.20182863033410223,0.19607664192838573,0.19003433933193503,0.19404428603412094,0.19913085811176343,0.21090631308002075,0.2087166818018055,0.18352263704842794,0.1957910303942508,0.1923913633268992,0.2058361001121941,0.1911765242135699,0.19459066810502734,0.190200070450609,0.18779793668648964,0.1856962381196392,0.19958994038460584,0.2061930806278437,0.20050767981600862,0.19236668266564513,0.20168331610180762,0.19297367617593825,0.1911943670724899,0.1887711655741688,0.21078302590113213,0.1880809704803425,0.18661606418129079,0.22096075530186243,0.2150285788036021,0.1991404669681146,0.19890590675563666,0.19340922643845251,0.19480971151895035,0.19283889969266896,0.19015965549037725,0.19546183889538024,0.1937115779524831,0.19070449850240512,0.19665651154736677,0.1998084694545509,0.18944269828477295,0.19324757582367214,0.18919522686799722,0.19537688945111822,0.1865990605957554,0.20422928646464222,0.18265485133054846,0.1878386925328092,0.18691691086425397,0.19799287520637393,0.2135672222399386,0.19743191510223448,0.18632324069426354,0.19639840780199347,0.18995032930919334,0.1904670645617742,0.21265547581268607,0.19906088006587488,0.22890487144609178,0.19758932378561977,0.19339388756866513,0.19794738220384167,0.2018656649155416,0.199058529563614,0.20376143651983278,0.20332059426900057,0.1830891934444826,0.19774870418354387,0.1965353852245518,0.203345119050702,0.24717221129858757,0.20433240903874572,0.1861348453365302,0.20802472034577793,0.19258669795694908,0.19362245359760313,0.1942685020328808,0.19300237883417587,0.1941932114859693,0.20903560835859794,0.1981887291858778,0.18728804315018577,0.21573337144311952,0.19338995686896973,0.22095005278011423,0.1887541584961789,0.20544680483227734,0.19124575800195398,0.21371919070686046,0.1916887763329012,0.19007622196004292,0.1874049560158129,0.2054322273617122,0.19072422913369824,0.18925480566256023,0.19995499271547257,0.19676524768701975,0.19170013296214258,0.18504932809874775,0.20755872795548444,0.21606695760983927,0.18728572864960483,0.18425620407748394,0.19906731094464883,0.19862518553387074,0.19255555411457648,0.20428524460110423,0.18673280822501648,0.19708362724744613,0.18512257887461706,0.21245315624305947,0.1880270636133999,0.19340295189404727,0.18622001666187146,0.20732342288089756,0.1821816899433261,0.20017758155152415,0.19796264487058352,0.19716232310345017,0.2054636672577745,0.21813061090183025,0.20503140488456328,0.198037493295241,0.1971189444378305,0.20812609785217634,0.1849860828332427,0.19400187461678065,0.19606445761856825,0.18667172336587723,0.18826676659804684,0.1928661600369419,0.1885528578577173,0.19696273528164196,0.19148205916793387,0.20277875116943567,0.18261942567107609,0.2072708451707257,0.18518393698699095,0.1968640110602388,0.19544948611273613,0.1987390326204118,0.19539415681571468,0.20032080083816894,0.21669418106361346,0.182890326824057,0.2031392842057831,0.18440239271988582,0.18746565305881832,0.20198178770743164,0.21099550271126224,0.2242678754174048,0.19130780193883434,0.19264227977326762,0.20555058191842948,0.187822456271434,0.21773124880627304,0.20308023544563003,0.19023578957690598,0.18744132869734584,0.1856578084525357,0.18747515946045595,0.2072479252083086,0.19025616913303273,0.19415430472174666,0.18696958701886549,0.20742675005414318,0.1921045246410935,0.205611803941015,0.19931507256992737,0.19335985452736093,0.1835219890636187,0.19337434094985467,0.18683694001043757,0.19062579986817604,0.20019823262547795,0.20046960593450697,0.19534894080173254,0.2010094090447884,0.1934093187486955,0.1931982026951791,0.20284829885312292,0.18615682794151306,0.19173209695383772,0.21876208315915713,0.18812999033973934,0.19077104647031443,0.2032692876584096,0.2003825778848737,0.20445894915844023,0.19394707041118334,0.1987264740428102,0.2068891577339815,0.19091871948088965,0.1957480499209063,0.20558495772332308,0.2059095557353758,0.1875127469386279,0.19444468147492408,0.2063364339230263,0.1929351135107489,0.19447215797486503,0.1953743817134469,0.18761209040623,0.20302601030378872,0.1854544323198398,0.19061841754152692,0.2074521618494154,0.19219968879812038,0.1923947924264642,0.19851302151672034,0.20189427877017116,0.1930569106206706,0.19183270575107594,0.1966458661440089,0.2002094941837221,0.20036603087876745,0.19764569919951824,0.20551648082918517,0.21157396852102203,0.1961950668907852,0.19449775977319272,0.19323847814829467,0.1945933167776327,0.20533057537102614,0.190576081712352,0.19982159219754844,0.19063617160102175,0.18906825973093216,0.2019348056813075,0.1908616855471794,0.20417160178913416,0.20334479286457893,0.19517913723102057,0.19287744902657253,0.20489734779819513,0.1835747071618534,0.19212799803411432,0.20474070225869606,0.1889857122639827,0.18904000811341953,0.20342020838228445,0.19498936237769401,0.18982736850796889,0.20063115177372007,0.19740937861576593,0.1924754236673263,0.19750645803587316,0.20114722132749166,0.1928391050338587,0.1945369241606453,0.19861152097751517,0.18746214250859916,0.1941509079699143,0.19059915225687057,0.19359029278028828,0.19343042933251853,0.1925206172606626,0.20554722927619842,0.18607792575478405,0.20048839905756022,0.19449899883682337,0.19926869420599966,0.19212700099012078,0.1837576008775986,0.18607427013347383,0.21155256820512242,0.19556715402912372,0.1922071690267613,0.1905403347966805,0.19208948582328841,0.20620332373526948,0.18836472298748325,0.19861280218695568,0.1877607357669466,0.1997642808977779,0.19626588752232774,0.19219110226899913,0.19942452062748783,0.19155502187905343,0.20722020683878484,0.20728242545428255,0.18522991386345702,0.1931828662623567,0.2067117582661618,0.18943565766744364,0.20488580545575158,0.20884545902998966,0.19653260250302804,0.20050674849966438,0.19713467113513625,0.21016026032573754,0.2070409281128848,0.2064618458429671,0.1859550214950863,0.1855952898838391,0.20583463138054583,0.19456220076855535,0.19853623661053915,0.19512301535965326,0.19404227956806722,0.19911838004515525,0.18726174336579296,0.1952622177373484,0.20276378505856454,0.19637813717678426,0.1972601812419345,0.1931106083864439,0.1886839590218778,0.1914558536358459,0.18543612516466307,0.19551276175408563,0.19616849466059863,0.20760133473454026,0.1904881440588049,0.189157625123294,0.19108546247594466,0.1920868289818121,0.1903869990351111,0.19369451230149873,0.20499795802335694,0.20407413130492968,0.19531438124275777,0.19453969849741973,0.18954711314704045,0.19711954642233895,0.1954975160322382,0.18373830840648492,0.1877943054431138,0.20720548338413883,0.19384121246510194,0.20562040641623844,0.20202696194460812,0.19488402722298578,0.20811691316944808,0.19669717473645623,0.19003699203859242,0.2366401226871373,0.20665374847014292,0.18792795599199316,0.23097880644438198,0.18778847245572453,0.20225006632198467,0.18568368289421544,0.18846144751307742,0.18425305998819458,0.21047046216484444,0.19932080363868968,0.19601838467059138,0.21177232540645458,0.20412416532132444,0.20148171843669832,0.1948079756528612,0.1945110429978038,0.18893784587137208,0.18830999046943284,0.19881948233108643,0.19498472146746462,0.20275175190183317,0.2019138121749503,0.23901394363070308,0.21695065639727312,0.20540688222127496,0.1889643769388775,0.20409377648203147,0.19807529405684848,0.18769790789752447,0.20235854909525952,0.1955646441310385,0.19291906072110113,0.1957215092775541,0.1931417677095085,0.20115203938650483,0.19843673141210977,0.19809539208464863,0.18895650693789173,0.20485294238867918,0.19914524404465223,0.19385102978880428,0.1993815057689181,0.18962465426346875,0.18965333783360425,0.21954244117816488,0.21569574453739856,0.1898266550323859,0.18941874761702612,0.20484806385398377,0.19263802819881887,0.19283734801436717,0.1996992861768266,0.19004463200345245,0.1944567589586799,0.1855424588063334,0.18904602594188732,0.18264835067096558,0.196038768845719,0.2015504079403638,0.20491226120559902,0.19266271268005178,0.204073993860129,0.20268925475504804,0.2039582193654844,0.1878942349047371,0.19101565964396175,0.1972204696983772,0.19093372479671292,0.21316809581736645,0.1963763278163592,0.1892819584329476,0.19356336861514364,0.1948571899167966,0.19962868764767575,0.20135501267118777,0.19539159856463434,0.1940759846739009,0.19816640121746737,0.18408741064830692,0.1864369196334554,0.22385338631051885,0.1943879529679754,0.1918868571889753,0.1894613665182898,0.19262602235724643,0.19109307109323997,0.19412454163770765,0.18831426728960018,0.19228723426421862,0.18917353905673356,0.19068198979169507,0.19449929891329845,0.19924499966127973,0.1881359051424969,0.18457038911340584,0.19235954301696123,0.19874154794605467,0.208459832945122,0.20400839599989787,0.1970409193813395,0.19244653346472865,0.21159723907620837,0.20340680240795067,0.18937562116866782,0.18918445947913237,0.18736726170461812,0.19946911090434863,0.18826636837024915,0.1971882144491218,0.2050807130054561,0.1837614136167042,0.19990919521818817,0.2030825131760722,0.19399887711501085,0.19378192982080153,0.20775013331038297,0.19309706474386,0.2023832273260712,0.19861402458110813,0.2061895357439197,0.19728234236119965,0.1849060459139792,0.19393486847162458,0.18547288547497714,0.1848454755890153,0.19358031351988683,0.19295834777995358,0.184130706599682,0.19309894310763212,0.18586155474484198,0.18799469095648422,0.18603783888900793,0.19962886569360172,0.19553036068143226,0.18554435032034586,0.20329693403771024,0.19140680424911496,0.18982999169518538,0.19515296935736476,0.19284560708578394,0.18615354362066364,0.20148990248080728,0.18991846486250039,0.18499281264299405,0.20661897018551015,0.20769825569781888,0.20551019547895294,0.19685272361220998,0.18866757454972857,0.19995642024874324,0.20274887708702363,0.20904395567595777,0.19108870491882324,0.20031932732320223,0.20044885926934763,0.19988704411759559,0.18805282535281886,0.1876671851834519,0.19517830870118355,0.18514836138347607,0.20484386755080328,0.19348305955795128,0.2217127822320307,0.21562199719181094,0.202746491467703,0.1874963552681418,0.1914705880197038,0.19322011178317908,0.19730057578088162,0.18960284645824002,0.2039754171097349,0.19413713129857973,0.2091597376269684,0.2070692164421814,0.19431075606097958,0.19393111078728303,0.1887566511988404,0.20779375520936902,0.21667520945496047,0.19365908075653282,0.1922969863102998,0.19270010342658575,0.18774341667103497,0.19713776926617263,0.1838450483418386,0.19651795875667114,0.18838475497761137,0.19863255684301573,0.2044137905414938,0.1854040026822684,0.18976310948555497,0.19436403537226482,0.20302499460840007,0.19305177133711152,0.20995487854024641,0.21908231393042582,0.19874911026303269,0.20231675494051035,0.19559347256681195,0.18974691537607727,0.20015449900146243,0.21689600548540114,0.19869881845492848,0.18805956796493417,0.19339458657192057,0.21514842920590802,0.20352758813834726,0.20578921966360603,0.18757442369054006,0.2014610952685763,0.19179048271820076,0.20419968882013334,0.2040759958285094,0.1903389933591008,0.19897266876836844,0.1973125142557027,0.18671654760764037,0.21200144651325747,0.1864045500235112,0.2010577297109071,0.20470704566674003,0.193686907950014,0.18831729761558688,0.18982480870219767,0.18770273042980942,0.1948039168293578,0.19211091534835398,0.20279358327885308,0.20123990440068684,0.1914321759588209,0.1921536462019006,0.1852084099446035,0.19341831219410516,0.1985487466536775,0.19322152032808507,0.18819297061070966,0.18311474432953945,0.19599122353064827,0.20059747536139605,0.18861292052873593,0.19331160297413658,0.1971878164078742,0.20553384796009344,0.20102447830957687,0.19639688853987464,0.2095683486985866,0.19814455296297176,0.19349686469433952,0.18898698651661833,0.22101968843350606,0.19351409386998983,0.18619935715593444,0.20301903397310508,0.19968165407642666,0.21912702701253842,0.19257217793552706,0.21825697431567126,0.21043837503868865,0.19149890316482737,0.18574860993725686,0.18970980497370182,0.2026571158040221,0.2057535269572573,0.18805785317483162,0.184175074446824,0.1879215484581546,0.19584447921880704,0.1895192683592753,0.194993964320233,0.1862245389466634,0.1906501136685542,0.1954331775743907,0.1965079001265357,0.20865272750697253,0.2006257735729094,0.19511288568010135,0.19627476865085575,0.18917142525901773,0.19740225364113106,0.18898700558158485,0.19609586515225796,0.20091280597249897,0.2219131368768383,0.19394388896004178,0.195455454098359,0.2047888570164939,0.21128170452980538,0.18731767706522096,0.1830116844428174,0.19312656355844707,0.19228544230708658,0.19086964130211792,0.19581897794939004,0.21576477227254012,0.20996175743101458,0.20460377854626563,0.20501633536715816,0.18311329642765056,0.18791675590593976,0.18829607292390674,0.19577545495753826,0.20174440736132673,0.19319516380779092,0.19443540982847438,0.2189277028717313,0.19575049505320147,0.19484702828820985,0.19979222053312296,0.1957569437291119,0.1968560897289629,0.19798171365069808,0.1968647478148082,0.19173788512073164,0.1949634290399166,0.1918845192224395,0.18757245049656682,0.20547840942575035,0.1985332197856804,0.2041951133190022,0.2114477115804434,0.18768622494151477,0.20012465207498364,0.20434301528562934,0.1871710011601819,0.19037056168428776,0.18730214568854292,0.2109071944045949,0.19638881802191724,0.19138421659789356,0.19232535047271676,0.22997813682491508,0.1967080791823705,0.19082746496446573,0.19214759958386743,0.21158751560180974,0.18748623238316592,0.22471887293255438,0.1982821900706343,0.19108650157821191,0.2012837203894818,0.19780248936222858,0.18876848427023724,0.19553028562168798,0.1899650890670431,0.19213154679226815,0.21289076060847448,0.20404856583950193,0.19764030275523328,0.19778114137329406,0.1874219622431957,0.1972766496605652,0.18988236938517317,0.19107752605953893,0.1931705144220573,0.18714417897836727,0.20354291884961714,0.1991868839565753,0.21181641014605296,0.20053542762860507,0.19256741916050912,0.19005210003209896,0.18929158499654367,0.20682362805134313,0.20402591213292096,0.2013441268626738,0.1935453031713862,0.1979810361771026,0.22218026769313848,0.1943248777989793,0.20103805604671673,0.1978268002063288,0.22925434962311922,0.20604144703209523,0.2123720261338433,0.22641923793914212,0.18957173048553558,0.21691576405120003,0.191615832716796,0.18850931736651771,0.18577202548080407,0.18249523845719814,0.20770893621240555,0.18996626675890432,0.1877869329772534,0.19233929799427976,0.19777961162518082,0.19194609112000008,0.1959197914064261,0.2082591703176289,0.20261217764229508,0.20496383022659914,0.20735459006539564,0.18645991444869964,0.18947590099831346,0.19086024221790965,0.20037424454144134,0.2030230317774409,0.18965339562711125,0.18529985454371128,0.21966277360519085,0.20683423645072507,0.1915118880907072,0.2085130932264793,0.1916575140817677,0.20135886852093718,0.19384075649397858,0.19922111496771644,0.20646425890043008,0.1908480460088021,0.19214480751907914,0.19957857810707444,0.20592551089318925,0.18726693487200274,0.18984983956725734,0.199903045224233,0.2029313072103132,0.19253182712553102,0.20516197868382402,0.19601791679784147,0.19654584586350832,0.21303148111089884,0.18787600339661123,0.18840268084654438,0.19621396243687417,0.18657004211317077,0.19251699485696422,0.19626153714103312,0.1976510827513904,0.1879511285732442,0.19096343382209616,0.2018375917342562,0.20891734680505034,0.1888076919487013,0.18775343730351457,0.19548070774920054,0.18817163714527058,0.2032726139157014,0.18605048469985347,0.19979052581610843,0.1964618121156117,0.19713507339921663,0.21365234464720095,0.18782623881680915,0.1987370302034168,0.19903754822760755,0.18809987129259087,0.1951142996588165,0.19114804882695802,0.19972713768137956,0.19247507062405403,0.18797562510634386,0.19591978302382743,0.20314236835415747,0.1886678865269667,0.19138356624014288,0.2008846155203332,0.19389037232592066,0.2007727062315044,0.19883028311634496,0.1930957115986632,0.18801414387167747,0.1935570378226712,0.19738917396656022,0.19158876329960983,0.1907798312464954,0.20265225920785424,0.20513766284672663,0.1934665778072858,0.1992594438217774,0.19611026896040495,0.1880367585189282,0.19036539477111825,0.19076691522764125,0.19035627336825897,0.19443997168573704,0.21621485724786377,0.19118175648058242,0.1864153118494348,0.18606749322188196,0.19720518478399662,0.19487763821127072,0.1844022585670128,0.19128151437379806,0.19235285363131654,0.20264721972262711,0.19036444917723713,0.18741334729648895,0.19402158011115506,0.18722277737615015,0.1928115579524911,0.20416597274820933,0.1863592573476872,0.19320750464143024,0.19119677406826627,0.18893762747817086,0.1903756870171679,0.19704484531231847,0.18447076435183563,0.1908034308363961,0.19441566228741367,0.19087974312684494,0.22931963930648092,0.19069163838072375,0.20682419399906177,0.19914007366187775,0.18426825041258932,0.19237487954736512,0.19565006343678035,0.1941076260254547,0.20827461622778598,0.1897968930076375,0.20308781122160657,0.22747313900869315,0.19151032744401766,0.19467904335654515,0.1860877137080421,0.1919105682893635,0.20116093467345328,0.1896289590102626,0.18798121855807615,0.18969511482047222,0.19714639517633167,0.24042729259714257,0.2102253691842212,0.1902604494403809,0.182989271659975,0.18498947781108063,0.200935948901041,0.21291632475281144,0.2193833554064259,0.1971277343759507,0.19436559288810792,0.1989638212775731,0.18737156725074933,0.20838940694337052,0.18782014811024178,0.20257005001487077,0.18695878329436147,0.19635671858672188,0.20270487724216343,0.19625538155335082,0.20231541603895387,0.19862450339674542,0.20097216853304323,0.20909864318959687,0.19071821939616265,0.19882589074688115,0.18474314961705904,0.1991912689996974,0.18873303088233548,0.18842744944591136,0.20006639168988588,0.20976392325853546,0.18847297401949104,0.20079311046796186,0.19515941011012233,0.1870412502190102,0.20912096902473512,0.18614069942650102,0.19521367480419563,0.20451837511023674,0.1833891892646032,0.19476572233705933,0.18468397116454738,0.19953852756034596,0.19669791650063725,0.1965238931726069,0.20904056861466908,0.18921848427617355,0.18881687099273955,0.18805107340844873,0.20873473013972826,0.20116302046786738,0.19683028766157756,0.20430855288574284,0.20050584535110955,0.21047557600343922,0.20853695188856228,0.2007823377337882,0.19148827668101231,0.18365741960444984,0.18637048016263408,0.2186381706869159,0.1834679203845702,0.18567870611251674,0.18913362133601994,0.18581886478217888,0.20500933226068513,0.2293219506351642,0.20454115105179418,0.18697649840713687,0.19389361313885273,0.1895795663155451,0.1900879367431878,0.19438395245468962,0.20764040576983236,0.19165020402256464,0.19348367786509688,0.2197482730767174,0.18675260561315143,0.20191092088452664,0.2013066165142776,0.1851760389317979,0.1955354624444533,0.19751859451926246,0.19434661685300664,0.20652561896259966,0.1897353280535581,0.20047010622079361,0.19389831921889794,0.20650577352669697,0.19240917850386324,0.19940673884651314,0.19152842281901303,0.20872087347111543,0.19265476397881956,0.20677499266806887,0.21358181963160922,0.1993170296144056,0.20948788235434562,0.21193266543218425,0.2010434334194624,0.19511031879217258,0.1969207379256732,0.19652469419127988,0.19459749072752558,0.20763716572073398,0.19461460825917815,0.19780900387612768,0.19282035928823707,0.18772969396458725,0.19110575412823025,0.1868122367815583,0.18535049570033085,0.20644396927320888,0.20006162133164593,0.1948515695011345,0.1956145088782486,0.18678208453486647,0.1899231203199394,0.1983103906476334,0.22534311334086665,0.21574318754441296,0.18754734223613748,0.19931898245061075,0.19080931798374523,0.19059910436836125,0.2010483323429344,0.18872381700555155,0.19678489259019638,0.18854305173084956,0.18776684525556803,0.18631047273248985,0.20869850247844235,0.19742674706622873,0.1924397459222698,0.19296417572366933,0.20166368277568184,0.19107544829869644,0.20254779736604633,0.19629895360590768,0.20829598120610163,0.1870539330723231,0.21012981264751707,0.1935974013772769,0.18504631448701106,0.19496832723100285,0.1870571223657571,0.20038328527056357,0.18176273140148066,0.19332387615912902,0.19854657044169657,0.20431309502236833,0.19118809631783396,0.19168838074722777,0.19556972281980298,0.19807540678412827,0.18643486006573537,0.20241424741480138,0.209348265248559,0.19753190734895035,0.20648857069269402,0.19789473908323865,0.19229256072361087,0.1934919587655617,0.18451860697176717,0.20392136115143014,0.23061064122755753,0.19571586532888,0.18636342015298718,0.1935415402946747,0.1918257527913197,0.19624195436399855,0.18860678246264495,0.19516988473472102,0.18547576879856897,0.20258755804466017,0.18788495419144183,0.19392227683124874,0.19277688706043813,0.1928391230481852,0.1895978634573372,0.21283803085494096,0.19470543241685365,0.1889064902652887,0.20764340740466175,0.1884932100036729,0.19479675853853318,0.20062486592451226,0.18727880507684735,0.19538114984823463,0.1905875186159659,0.1999225811914403,0.21330571282031655,0.20071532617245427,0.18472250288765707,0.18519562626562672,0.1959851183009366,0.1839162577617851,0.2210619459452688,0.19160778054648087,0.1871181753473159,0.2025112536851719,0.19142281639016942,0.19406238385910893,0.1845202500216299,0.19041728490603113,0.1952016868240574,0.20692785054781676,0.20289486911723809,0.20444004783230152,0.2059926707826383,0.1922438456222754,0.2013020886167414,0.18872164991620863,0.19755648409961593,0.19922753333003645,0.19037255784601678,0.190510798562029,0.18928506360324115,0.18862581305997356,0.2085892660145357,0.19739706199358206,0.18683830072846477,0.20109268574657668,0.1942924345147524,0.18964696573425993,0.21141799078649362,0.1967315235970592,0.18632116874058643,0.19299913408572789,0.18646734409084295,0.1860474090394378,0.2132085594830809,0.20242735697407208,0.19618077981963541,0.22599569150719484,0.20235467458323286,0.1945126649563954,0.19538049872272867,0.19233765014906143,0.19098239253336552,0.21707523488477576,0.20466921782256425,0.18954167617570092,0.19199504205173917,0.19890553290124915,0.18295831144203373,0.19639380214431937,0.19607291413409395,0.19943324135930654,0.1852348342624809,0.2217582555897319,0.1909595246225759,0.20426624125716408,0.1859539394822871,0.1860653804907095,0.18855066873168297,0.18325289458908314,0.19903632420566592,0.2040304499472922,0.21569950283302322,0.19574361464712148,0.1990899104481177,0.19703098249590864,0.19667894826571575,0.18549899102210338,0.20079133846871913,0.20166589499269008,0.19151701781324654,0.19326209671116307,0.1969773476308594,0.18488242738434002,0.1876559685438192,0.19761805676802094,0.21769415056708516,0.18549275577317842,0.18812638123940975,0.20298509102819728,0.19499686978305372,0.2013359919982524,0.19314915508883782,0.2144315539272413,0.1998299123435524,0.204828017786853,0.1976432639748207,0.19656654739359922,0.19797968266092406,0.1850845758532129,0.19682574582070075,0.18850613229924973,0.1943112436092585,0.19822481892088156,0.2081946410469591,0.19463795754728827,0.18783141250870122,0.19196934215547345,0.19830769408291082,0.20669408654827837,0.20895052881809748,0.1829087825801234,0.18925870013536342,0.18543239633538505,0.195003163538929,0.1998948322287404,0.18664533261824215,0.20527860248075036,0.21784279517873914,0.19437657655158425,0.20355574828218054,0.1875014299328333,0.1898967029621872,0.1968380344845531,0.1896399701271142,0.18693980236784224,0.1962569161969135,0.1931034848262605,0.1861846742845252,0.20061782949511495,0.20657593266606067,0.20300719091480887,0.2015602670897379,0.1895099159148741,0.18818473182853152,0.2099794174554933,0.1980627525517235,0.18296503864732142,0.1924770347908678,0.19359650775167117,0.1983421979331596,0.19196166845475918,0.19397986792192176,0.2051015173244272,0.20121518660245433,0.1993830566947613,0.18951690308698263,0.19402356955271968,0.18524462984203685,0.19686700713162597,0.20385088321853861,0.19950797726724195,0.1873633444579596,0.2055813436350567,0.194586287149054,0.18927722075772102,0.1956987419483085,0.19050841482698583,0.18790272724095441,0.21493651035541228,0.2080323297836288,0.19088883289222688,0.19955233126826125,0.19498212351638655,0.19653826643779282,0.19107923020236597,0.20828441292020639,0.20969827180477457,0.2034613173501595,0.20308375656974978,0.18244726266612923,0.2154837145103521,0.20714416909875216,0.21363643809391952,0.19787695186791937,0.19191860896756696,0.18987160249384988,0.20448069024657153,0.1902831807029693,0.19373198319037724,0.20974626803482202,0.1882737705364093,0.20133093095938137,0.20782697901683347,0.20017114651604437,0.18588613624023276,0.1950452116986777,0.187090616741059,0.21540202964470248,0.19304558646889802,0.1924837405560933,0.18725184125090777,0.2094360491364201,0.18759062770705343,0.1984277652697723,0.1986107573657425,0.20086989980099762,0.19877378736309573,0.19557266790503677,0.188246523669552,0.19867006907677476,0.20829214485316025,0.2022767683981529,0.20823694701912618,0.2296924738893758,0.19999473657404834,0.1933383458079353,0.2011100924858229,0.210919830525515,0.22152516198396596,0.20625653289294396,0.21480693451162872,0.1883303206254019,0.18844332243584674,0.21384134038441371,0.18813049444336546,0.19133539867389143,0.187327817859027,0.19107226812835892,0.21897100034265962,0.20151680574461348,0.21095157651888546,0.20183374846969765,0.19990896269435804,0.21969188249333718,0.18438994485572635,0.18697409258040712,0.19963478478776991,0.2045374238361257,0.19976213576136534,0.18705504106344914,0.20114832191454757,0.19800648074445934,0.233543448474309,0.1965413842785844,0.1963823692702242,0.19862675754007322,0.20736574508416195,0.20741758791574644,0.19581067036594516,0.18899234872731363,0.19561734111683443,0.207391200240625,0.19799627277558843,0.1961642845042731,0.1849800428165861,0.21155606392741394,0.2091423396977042,0.19814320119292778,0.19397360852260948,0.19356421656425563,0.18896770131998886,0.1914031694825772,0.19627615480168717,0.19649999506112878,0.20449751235803773,0.18941466814922162,0.19308555383574683,0.18397436392940042,0.1965599934817666,0.2063167733541332,0.21291984250319523,0.20020561142475948,0.19140001628198666,0.18364263080539098,0.20249672066186286,0.1893046446309974,0.2026537234090489,0.18779267241305447,0.19299843396529687,0.18657056458210416,0.18646320665282745,0.18922179489984753,0.2010337858846061,0.23170774111906012,0.19556425270655642,0.1879800855146297,0.18537660869128678,0.19500384616522012,0.19398491909869126,0.21110041078050767,0.19719374345428825,0.20091159718441987,0.19884655650072888,0.1922015894499849,0.18826168423336392,0.21118019479027778,0.20254321603431033,0.20444974763867466,0.19314025073531094,0.19051185591132333,0.1920238542102335,0.19125286896717159,0.18718997274073323,0.20104791141749076,0.20272917137255728,0.18856289876429042,0.20229779736372602,0.1988516382321242,0.18601388855858544,0.2106248251768472,0.19487589454422094,0.22091407680170824,0.19752239637480798,0.1969175888947318,0.1943349142868381,0.1919309162759033,0.21459846895863563,0.20040910343207155,0.19649449837776317,0.1916548087379684,0.18699726594355667,0.19949556818001407,0.21228435214532437,0.19790774192596472,0.19287137773273988,0.19394593426131737,0.19928251181130774,0.19811907929843436,0.19123343349384977,0.2046511763391549,0.19280405738411974,0.18790741232744002,0.189778119779746,0.1986039156042528,0.19774946907166602,0.1974345613191098,0.18420068814511234,0.20041693629986254,0.1899766801647239,0.19757376462326276,0.18919542914874085,0.19416777424552878,0.19551747778807818,0.19543549305344338,0.1882405605850543,0.19651691967284543,0.19300094767516066,0.19322785014485397,0.2035509327826395,0.19277205380733767,0.20280560699036637,0.20928311749255293,0.19112915506189043,0.1934935927008788,0.2043338572681095,0.19636893243593992,0.1951353282359534,0.19428902772285742,0.19639646144155312,0.19483056141308902,0.2270602862500412,0.19520597066528095,0.18992554493633032,0.19241797998600138,0.18374551577330933,0.20723118372545418,0.20973053559745566,0.18367161180961775,0.20715858766565062,0.199191146298762,0.20344825510496584,0.19072201806121067,0.18716755905793186,0.21176532515197027,0.18468765577470161,0.19866798021096427,0.2014279715329173,0.1916974454611644,0.19450536196260929,0.18821582351787425,0.18718949652581715,0.19132672891018032,0.1960869809073605,0.19923397510332858,0.19272612907093464,0.199886184792638,0.20943234959708215,0.1975953385015317,0.18804725798899566,0.1919971711603601,0.18848495571500798,0.22392801525716247,0.1908269630971861,0.19131981656002112,0.19039370440265677,0.1855621699333661,0.18455217991930434,0.21372183064571432,0.18210101890706837,0.1854033470498529,0.19832945811408995,0.19478695113375105,0.19076473642926578,0.21083426617262663,0.19965254384054254,0.1880098418662074,0.20366360102816797,0.20868984193045398,0.1852594679238141,0.20385934919927254,0.2076182433029078,0.18527129949393342,0.2121648331425117,0.20107324511531824,0.19033058797076852,0.18816405501211905,0.18425173556488503,0.2161882383730959,0.19203275065556769,0.1923298183500826,0.19647859985912522,0.21084775752898258,0.19291459553600335,0.1938557683646785,0.18308045928297512,0.19796943658416657,0.19511534393520974,0.18647348682198225,0.2005360073435533,0.19674347923440008,0.1992272003445492,0.19152831850687582,0.1934835247874293,0.1996064839357882,0.1897634390163458,0.1912367553897345,0.19160583279176105,0.18739328829826496,0.19640989328696168,0.1876570846001612,0.21083196554377273,0.19609057658292436,0.2020620879607509,0.1868651745808288,0.1976254501053338,0.2002539473645081,0.19094827767378447,0.18491128369441714,0.1831155099300502,0.18893514036229447,0.19583081150396062,0.1893462028108206,0.1970969907038458,0.20893073781044202,0.2133514904555762,0.19495476187343475,0.20157368728192795,0.1882767636742671,0.19894976108193002,0.19511128266192984,0.21574626538995326,0.19727268759031147,0.18703076843880906,0.2001880579602587,0.19043233786484084,0.192561890483169,0.1903347435228075,0.19282034793894506,0.19701409262866773,0.19991192977416103,0.18416739252645065,0.18983339198363017,0.2053603041950046,0.18573941138809008,0.1911383698372329,0.19777962207550465,0.19114724674767222,0.19924666573058863,0.1907152662812895,0.20105699794405482,0.1853307294841603,0.18502455965177067,0.19933769782793642,0.20212089332365762,0.1921783859528449,0.20780039031193162,0.18576495754346278,0.1985171364909598,0.2029595469481634,0.21573905913272584,0.19565855029364507,0.19469081966144683,0.19445420161019814,0.20046114890668684,0.20705816222515197,0.1851458422818119,0.1931052733528365,0.221208633595896,0.20067998779923904,0.212248025728365,0.19445564419001177,0.19912587337037677,0.18925748086419084,0.20345181800145637,0.18840600115853268,0.1989702834135797,0.2108793956905852,0.20203804934460481,0.20596093914475777,0.19123740685278176,0.18808451361175144,0.19414628581957702,0.20860459112769758,0.18194835881717308,0.19331781254837957,0.2109338706103886,0.19008873727955108,0.19724478541500504,0.18204718230794656,0.18362287769956762,0.19117437084874922,0.19453594341090083,0.19900106206649756,0.19152362125755315,0.19800737890713738,0.195831022531812,0.1909393206753247,0.20137970827037432,0.20122406238460608,0.1932859112470691,0.19658924708057182,0.21683981079044742,0.18293677090420724,0.18862019702569496,0.20478759167852362,0.20720780087903173,0.18717991350073285,0.2017027437315953,0.1881411542115425,0.19602427291488908,0.21832539518049862,0.2123286436697273,0.18621481979417265,0.20817375509290734,0.1890764743505093,0.1953728237267797,0.20224564752914437,0.1960327752687507,0.20434426358626712,0.18783039716448632,0.19356107368322528,0.1888951453252665,0.1911947407984057,0.19632707285319473,0.20553393567892822,0.2018851901667024,0.20275284588170267,0.19451523389776054,0.19258181301222185,0.19718305847376985,0.19657443053729562,0.19569777672840158,0.19455752407682422,0.18416023142359986,0.19259290588775793,0.1928485237004927,0.1844334644034882,0.19242696504902812,0.1950740501961753,0.20899138944261814,0.19132688015384222,0.1924212554031285,0.19809706726886905,0.19873414155961722,0.20018867990840594,0.20684779921127508,0.19899879744652318,0.2046217988199305,0.19194373594978223,0.19092287225586052,0.20341324060470836,0.1974905183828646,0.18681517458200808,0.19207877079683575,0.19922270045131263,0.1911556618619029,0.195920902928689,0.20142571556515027,0.21473390652465504,0.19119323755992632,0.1965551637388056,0.2020216768637325,0.2008337470910264,0.1897198322017148,0.18796339636778467,0.199986498780653,0.18676263962924852,0.19343525323558164,0.20616517568307494,0.1813866449818902,0.20678728298308435,0.20766433534300688,0.19888731823142064,0.18571919796835243,0.18813897052559325,0.18872364447829046,0.18433193634863934,0.19257319592635286,0.19599903196881746,0.19175791868266362,0.18525315296177144,0.1863942203223755,0.1871295566172083,0.21779137118309794,0.21331240598738338,0.1929996070995189,0.1932929680951138,0.1878075554214714,0.18617828393238545,0.19321069780326852,0.20002712011916662,0.20046902150285126,0.20039418138508763,0.20921523619636773,0.2099790921285338,0.20064896386446546,0.20678440099067624,0.18827429240656524,0.21816451704996054,0.20485781138246226,0.19070961050921986,0.19771725207433022,0.18666765411563702,0.2012012871068129,0.1975589581404733,0.20140361646470445,0.19512884793168198,0.19784954587572937,0.18733030339124895,0.19250113410022995,0.21347494572480266,0.18722552240750046,0.1902196129238424,0.19519336140715585,0.1949314581298421,0.20056853168822725,0.20301544681998895,0.20534822352812493,0.19194314282436614,0.20689262741149306,0.18813223703198373,0.18624498539617879,0.192096137722923,0.19284773763669302,0.20269926301828814,0.19909421346926853,0.21213841894733157,0.19526454461379625,0.20024924183623055,0.19594005304215148,0.1975214576586629,0.1925675602647527,0.18514969280616503,0.20619213357444177,0.2067833245093338,0.20108063615637994,0.19866982415975676,0.18980506930080485,0.20743445379649164,0.19226038155448727,0.20597263438603494,0.20633425742414457,0.1895184890507904,0.1865443823057121,0.19355742983647364,0.19175664887770358,0.20001854205059835,0.19365998978318652,0.18466563913454642,0.22443933558120313,0.19467743573692098,0.20660037421708177,0.18888060927718284,0.19655141098969942,0.20823644653446358,0.19193884793118482,0.1949592211897511,0.1905112451932561,0.20127853870220994,0.18755212915165773,0.19449237593920013,0.19346250230403136,0.20567767662219313,0.18618044427454308,0.18938065769369092,0.1965691699007979,0.18403495030268502,0.18552590463734778,0.21032178725690073,0.1999834447846003,0.19453084878713714,0.19100883843509855,0.20539803495112732,0.19578877160108746,0.1937571733994034,0.19109774022812778,0.21824796808329625,0.19296640590000216,0.18963042189659385,0.18769231291995966,0.19776251304533995,0.21719727495860106,0.2035170258772524,0.19408279609258652,0.19955589746621233,0.19414823958590074,0.19840865244129255,0.19802734341762263,0.1875087360157448,0.19303828757823935,0.19433173503443457,0.19601915982164042,0.19081216105185986,0.2070289344842094,0.19142274907302548,0.1931927537272549,0.20087125521620797,0.20872525447192852,0.18388098942478015,0.20130106928718797,0.19213841701347864,0.18476438615993887,0.20667427337037678,0.18328580820972995,0.19990540321619432,0.18996141980607598,0.18564250365869073,0.19748207012938074,0.18470961122060703,0.20361211800236564,0.2050714396666353,0.1865399111637379,0.2001791763446404,0.19490232554753234,0.19765835380422817,0.19473093754775647,0.19393305289729237,0.19062787712640883,0.20256553489409235,0.19053151620735861,0.23555984029299226,0.19331917897501982,0.19339496182924173,0.21326400460760947,0.19449009592290292,0.1897682206289772,0.19091408165919221,0.18750526056275602,0.1945548730736259,0.19241383050911795,0.20578639932359602,0.1877989632646806,0.19272443774397316,0.19853776896296893,0.19833066019090154,0.1934639933352978,0.18919019765573136,0.20151956301865936,0.2026196792802662,0.19489681979980442,0.19534262627943047,0.21010008400315633,0.19788331319605826,0.18963325076840726,0.19181997219423436,0.20118283051669633,0.19408697616483972,0.20312412471108454,0.18980193720776065,0.1881841094919831,0.1924071490192928,0.19127089138691875,0.1900133153046034,0.19874169053324386,0.20312970234453234,0.20325157961115542,0.19182820000656892,0.18733114120347158,0.20099512375600576,0.1914777736476214,0.2129907467912715,0.21184945105210654,0.18920543018391114,0.20972992189193018,0.1949939684210566,0.20030386777013875,0.18361277192035783,0.2134325056303102,0.1844612772194701,0.21971313079346297,0.19462573422275128,0.18959731838695687,0.18833416442784423,0.19418302791870667,0.19230994858722705,0.18997496813246847,0.19881715237793865,0.18751066653480947,0.19035395789840703,0.19456904218665066,0.20609040804965237,0.19930618643648343,0.1981137466493066,0.1985838059744744,0.19366400511811285,0.19325701613817328,0.19539254649470192,0.1886250518643037,0.19035682215780453,0.1951815093476292,0.1913198449276021,0.19913697909404904,0.19701016671905905,0.21728350840859012,0.19443135305490383,0.189605985703161,0.20097512771255518,0.18578491189717145,0.1994620055261136,0.1894292912155248,0.2098965295995109,0.18193287067143835,0.1997489979010858,0.19710232963887617,0.19652622954646312,0.2122933238348158,0.19510459148482817,0.19830359390682026,0.21285849756913972,0.20324090396256253,0.1956638340285231,0.20334327834155494,0.2059175452436337,0.19349877733527138,0.18860980827832946,0.18612519746470035,0.20301895008916465,0.19688554057253002,0.1872172196139544,0.19278274796508152,0.196568710296472,0.1997233956718585,0.20664225155803592,0.21830772641184248,0.1949400007282001,0.19964044708639828,0.20122916695019413,0.1851523848251395,0.20102046664158552,0.18799291905084653,0.1956502854785336,0.1942452050532657,0.20384317525952722,0.19470937595029178,0.193028684543806,0.18973080566877634,0.1843771160963488,0.21892742479520566,0.18627420654243415,0.18952420003422404,0.19337883435079786,0.19207248103267263,0.19170810869442587,0.19129970325919401,0.20812434583382758,0.20185153006407242,0.21061835220718647,0.1884505203996864,0.19741507229424549,0.1937447278885323,0.18772151905595272,0.1971065087280554,0.19485645974644403,0.19606681780672727,0.18668844426199538,0.19022730238239693,0.18909741858348733,0.1897475805097334,0.19311091333009697,0.1910468981199066,0.20975155613155644,0.18385186198932216,0.1938500791051967,0.20684029187891406,0.19444337545926255,0.19934150386331256,0.20245980447683642,0.19694224455436085,0.18973960893375524,0.2004880787057421,0.19630494014449695,0.18705529613982258,0.19419209409290428,0.19468092247546476,0.1864269021300783,0.18800440968899867,0.187515442410092,0.1867403375069429,0.19336542143403646,0.19480711447542537,0.1947941448813651,0.1857480413655236,0.19744454618459978,0.1930927879434116,0.19162294542576502,0.19160336217270676,0.20174175393322305,0.18495757232475343,0.19924536642576923,0.19724039320152073,0.19312492110909843,0.18837681307756132,0.19412678514657705,0.18815826531131413,0.2021417358556889,0.1925234314948346,0.19370856591973365,0.20756514556822728,0.20557179234794143,0.20150557709155065,0.2034564365900409,0.19241002373044197,0.18369582813886487,0.18798836887314033,0.18964337923227012,0.19286382538149185,0.20481364262435584,0.21103735647126073,0.20471016568753733,0.19904727178475579,0.20436067367940866,0.18570882833590338,0.19816616895098538,0.20047608335040923,0.18781471286124837,0.19251221418287354,0.18661166297067078,0.19413783592083997,0.189601257135005,0.1918021514891789,0.19792711521286005,0.1898490830621368,0.1983717825785752,0.20752451047163997,0.18837293138206745,0.18887353868578896,0.18430888330733985,0.18486633459239052,0.18383697468050217,0.19558697827070676,0.18818638506363147,0.19744197579963174,0.19959597917747463,0.1966086577441921,0.1889155895015308,0.19157679739173805,0.190306582125785,0.18798408899089308,0.19716572165682733],\"y\":[0.2580180057135804,0.2832629280472543,0.2695568041696123,0.26515644032586516,0.27426798378802786,0.2930747062608766,0.27113747733918786,0.26972634553505015,0.3173040459465192,0.25993059167687455,0.27821185082807814,0.28719977982619677,0.2979743289839191,0.34328907533977515,0.21082206794089758,0.25997756435066244,0.18713559658039233,0.2896960160201015,0.25801110621942636,0.23677260401613212,0.23381341593771207,0.24516912127772728,0.24979422530152312,0.24512547281010982,0.26052277357293646,0.25582735756817804,0.23015792122023404,0.23702102643224074,0.263477349788979,0.25706224330763994,0.3225061869347937,0.26886128517240426,0.2668213937559999,0.23471123847270492,0.2554081051284049,0.22225579167743514,0.23379847396389336,0.26965712054273494,0.27867219944438243,0.2789655186816293,0.2879690431102491,0.2509380864102694,0.2363525139266364,0.22684805954855738,0.28638401552295745,0.29160305984924456,0.2786292401793098,0.23730982486032887,0.23810295831266515,0.262924504757663,0.29433228940097983,0.2408556762330668,0.2732832697070775,0.25655565523160123,0.2589248335359703,0.24646757642451153,0.22860310632938272,0.2503553205108524,0.24401353614551294,0.28387337651311545,0.2503698600837466,0.2302994872139876,0.28276068427690476,0.28615198453167495,0.19953023424608496,0.2617828576128346,0.28038561947999935,0.2562045636614362,0.24398206270682243,0.3172098384923547,0.2845284217254634,0.29193815836684195,0.24649616940322172,0.2410591668658341,0.26825275252623937,0.2283456133383525,0.308362161344074,0.23560647486708697,0.2548663752863573,0.2751231005991388,0.22209033109538687,0.2768739478281596,0.3114005138421831,0.24836845418177927,0.2227924121130569,0.2610883563800169,0.28788700786123983,0.1965164330299462,0.23275556095292138,0.24690296767808828,0.2730980354815892,0.23526065920166678,0.29558425503264446,0.19776883212267118,0.2634272314419648,0.2356401765038782,0.30341334313674684,0.3096597030922497,0.287708937377885,0.22748417708811633,0.2565876100816472,0.2628603805376182,0.2709146233084395,0.26451795738361994,0.2515887325520195,0.23776287169279917,0.31343438963620923,0.2473656053674519,0.27648430675165336,0.28036119751783,0.23307676104023564,0.2789800097325932,0.2928112796824258,0.26669409387374027,0.23796368017565325,0.26249112785242895,0.2893546223162993,0.28897965708122364,0.23763547957646447,0.23614192806962236,0.18983218030011217,0.25450251848850186,0.2493990084674677,0.2893809539688007,0.2851244668645303,0.24210038755221913,0.2871587128206288,0.19159088377312525,0.26635452466519466,0.301726055594414,0.31915947679865897,0.2948259029780857,0.2516945693680649,0.2917171017779762,0.21785141269197858,0.2798349612681307,0.2501869936206085,0.2681748851235578,0.25854336798002014,0.24961522092201632,0.292621847062155,0.26007446960549124,0.3259578479756901,0.32280366313998127,0.2802441989850116,0.2509063261778171,0.3076701245293003,0.2655269770390451,0.22268499258941193,0.26524312414164114,0.2576490727751475,0.2691260069183634,0.27569226470094854,0.2686833372973921,0.2650572992919248,0.2727085185097992,0.2752729524917981,0.28724539521526776,0.2628573838617663,0.2410627228051834,0.24892088916364216,0.27627695374370387,0.25760306542523875,0.23661129016506185,0.27608605456852914,0.22443828867306906,0.3099224451448541,0.28636209398290174,0.290701386067703,0.2900759651693632,0.25834958789725815,0.24823432996626,0.23130319594819368,0.26771963999302195,0.2314324538832743,0.25559259070756574,0.3008952185498653,0.3039700945905925,0.21160591228695946,0.2763116148072912,0.2979107980483683,0.22881876492022085,0.23060538301332906,0.19978524112459634,0.2993555693208683,0.28323418146710755,0.2739343576433039,0.2108349098786017,0.2646873870511237,0.2492879063054716,0.2805076869490679,0.31033814906229545,0.25824629177308805,0.27440328467973396,0.23209435951209395,0.2389477450902807,0.21842660990291238,0.2942476450889346,0.2499253850594801,0.2661851954657424,0.26598341114688584,0.21089254520435274,0.20902428704197512,0.30523232908252407,0.22093288955781878,0.25144882678408936,0.24449344946234575,0.2743317129826831,0.28071052625456194,0.22904741235491083,0.30210544303018005,0.23105964943135296,0.2873357808799849,0.2422042202924255,0.29554765682982403,0.23710168105794158,0.27273860105849584,0.22118664339647948,0.27498946568887705,0.2501383453781894,0.22283001106503228,0.25419530826286274,0.26583769042983907,0.2754552968418203,0.3194405103175184,0.27341212618567023,0.28266996616473095,0.26983253569585447,0.2857624232366549,0.23852302534539505,0.19710724000680374,0.25278150578019587,0.25487213952162435,0.33215878462852105,0.27732739639356785,0.23651697236402744,0.24170521404535902,0.2793419888791581,0.2685425756306033,0.2525846707139134,0.22291451412267627,0.27878499339046525,0.20254221643048817,0.21602628707020557,0.3182051491409338,0.2550190003392776,0.27599072323576984,0.27732641888875564,0.2810231227117082,0.28692743125210335,0.23494361236974945,0.2667113653485692,0.28941590823885305,0.284749263161398,0.260794902613797,0.23781584107326495,0.24649486601227155,0.21403693688349448,0.2896117983418463,0.26959030204264256,0.3125646484597973,0.2726416415434385,0.29018275762976403,0.25500071116019857,0.30116689843904165,0.25769020743287563,0.23595510703688743,0.2395826941423319,0.3392757790621998,0.2741304216731847,0.2425761943813751,0.26191161218297987,0.2759159026843584,0.23072588933957558,0.22580772553025583,0.24333728176376795,0.34500795845652504,0.2689357512393627,0.2734857926621179,0.29269292069825487,0.288279400070718,0.28503092273263275,0.2136381062439816,0.26789028320843283,0.2574071011608357,0.2555666937719056,0.2336705754679841,0.27937312311956153,0.2417417920108525,0.2957467567431266,0.2125011632384369,0.2735242412578529,0.2863133815475272,0.2785092550121935,0.24377148043757646,0.2362929217738532,0.2863704984289747,0.27830435210084636,0.2614507877312409,0.26229090247564807,0.3281489082335115,0.24185618915998217,0.26287257119286406,0.295436663129573,0.21935753931703353,0.257268126179428,0.3008838774479739,0.2567890341845488,0.28680804855061165,0.3193373015509376,0.2651336751570637,0.2786421169688361,0.20449300649917662,0.2342297412554878,0.25949766019298076,0.26505471382664375,0.25705203735477006,0.23840176098860016,0.134279585540796,0.20828187741914359,0.27485297521778934,0.25573715285209087,0.29401073244011555,0.25584853600444946,0.2894028073649472,0.23773795633320802,0.2983938583883832,0.23565100813106477,0.21564604039952323,0.26545860284536194,0.2552910556915369,0.26775131636879457,0.29912917553205837,0.3217001987068557,0.2688531685434091,0.18272781739175664,0.2447846305552989,0.24963533505035357,0.2785279508391647,0.31598647445563666,0.25344547676499474,0.2437338745522791,0.3108837943091145,0.20532376556515422,0.20697154467245613,0.24003184627977883,0.2716442063105599,0.28915291581329283,0.27237882975200095,0.26663495393066966,0.25463797804011856,0.2867933256372961,0.23058334581437512,0.2668610214946307,0.24450509061798112,0.24478997859442542,0.27153747513156146,0.28536858012769584,0.26555807439229046,0.23605213649694934,0.2434113882481594,0.30790282644702965,0.2896452507243443,0.2886148610898532,0.26164790784573966,0.23060141739550796,0.3063060992683516,0.26141376207409345,0.24587161110375222,0.28309277097045965,0.2828012893071454,0.2609951145639555,0.18431366724941717,0.26829084962932404,0.2707310782129718,0.22213550256625086,0.2088845006016559,0.255687283821269,0.27419714459422134,0.3112522425842456,0.3223557516406767,0.29844725286339735,0.29812215988865176,0.24340959952720306,0.29682216523731464,0.3050711525563089,0.2691420992465412,0.26810369433433673,0.30055186205647993,0.2233972196357946,0.2627533085577748,0.25581256417490694,0.25851069169692553,0.2445402097597474,0.314449604296585,0.27912170878405457,0.2472386110261504,0.2572190017452772,0.26041076169655675,0.2329935406237547,0.2690774874251557,0.2229467338257258,0.26071004337077713,0.26734810549767696,0.24867136013247593,0.24125975149410783,0.2438398564082669,0.2783288710592407,0.27035736064551896,0.23524061722932602,0.28478345994223864,0.23560367128856669,0.2334252145208297,0.28026816676639554,0.21354272953859516,0.2772116591185118,0.2344362378529283,0.278603219823727,0.22936605709358815,0.21969799158529335,0.26130585306410786,0.2351191640872824,0.2622446197336078,0.2584143345962665,0.2766582369583937,0.3003731084797379,0.176844715709478,0.2808904264859002,0.2471936160288037,0.25622664284277785,0.23702850133820327,0.24017995559930558,0.2774469766867848,0.21936691839633432,0.2736440340874821,0.2586537590114686,0.2553861359779468,0.2363364086485339,0.23400623255902833,0.2697851443968366,0.3019268874938107,0.24816819796711242,0.2686793005616402,0.2832201615556262,0.2622490444880013,0.25423771464615147,0.2599892703856143,0.2962122641180727,0.24763906941165098,0.2536112518705897,0.26663936364770635,0.17823412243894174,0.2522140026964004,0.2446518614176497,0.24680979916039733,0.23042067345247272,0.24923011095981232,0.25300910392590487,0.28841487791638937,0.2393809497120332,0.2298608786615859,0.2626803147835199,0.21779506246274133,0.26913712121133593,0.22608595600078157,0.289733547300168,0.20383741761904575,0.19698094535947935,0.26595265155674874,0.26793308303704216,0.25870625561941674,0.27474944770350196,0.2545446396451152,0.2802457886605508,0.25561114158457854,0.17485696403290785,0.20830180500788292,0.28680235670758153,0.270925026531499,0.24280724437382323,0.2681529041666952,0.29778195692620746,0.25080263594225866,0.29127270948230727,0.28867363790556366,0.27076120722166575,0.24986785711678897,0.2442453792530114,0.28409461307263567,0.24400638755362855,0.32248456308168777,0.2712228662046809,0.23178294626650747,0.2530231005324475,0.2823510226142265,0.2358181430527819,0.24772552815278623,0.27505553989877773,0.2287062682742706,0.2064663858711387,0.23372945507175696,0.2707315416741218,0.28213185607168506,0.2813128926048207,0.22735453949273438,0.25338652726874417,0.2826319214664899,0.3085363348159849,0.26007074014498976,0.26535530797985496,0.2929097139568889,0.27796796395161455,0.23538908285326582,0.30808956092940437,0.24323880171989995,0.25585623180570033,0.2344617298478712,0.2459339416147086,0.30487633773816414,0.2663959583907478,0.27202272468347044,0.2633286509658661,0.19076957803214856,0.25392653339526167,0.24064462177218093,0.2786377881256472,0.25261427302240264,0.23711874200773506,0.1929297796469942,0.2681887574138539,0.248940638082162,0.23093224968650009,0.2581299186561739,0.29428107156225913,0.3158575796139341,0.29886021728988216,0.303657768281545,0.23108903035411896,0.2741642147807266,0.23141153427263483,0.2612754678083005,0.2958453233368083,0.2324089319752343,0.23475580673603424,0.23200891895221593,0.29596265034537345,0.2214849604555801,0.2674724780268316,0.22888390389117924,0.22847617600405146,0.2840089133866632,0.2167950237193537,0.24265021911190535,0.24345518366943156,0.2730608610369037,0.26537851743850194,0.2788383348238017,0.28404331979897574,0.28346404011700804,0.2755049955229003,0.2815078461397321,0.2581078757612266,0.2713673050689713,0.29503102741295656,0.2233977658993264,0.2268765801355013,0.26203537912615876,0.23143860259621266,0.26000564892729205,0.24319169676508212,0.24104145349011372,0.27894207850489633,0.24567101692878518,0.25292633114621277,0.2672445364613446,0.24839525647459493,0.3125798596420601,0.2423352927019927,0.2302306421130624,0.25608761986982387,0.2767256271131516,0.2736180004899235,0.28802419546994795,0.234954419707992,0.2684076844124609,0.24962191923503016,0.24751425010674089,0.24102282031308647,0.25450647022087947,0.2480180436957436,0.24655081759130348,0.25607260212644456,0.25224653109201034,0.26507976354938934,0.2967015321740887,0.18671439557422634,0.25957304079927296,0.2727407312623796,0.2389646189594735,0.21786567304648857,0.28000890499102793,0.2797206178963694,0.2531492315957253,0.28448300479908695,0.26179043248548833,0.29550977141825824,0.2642649453502545,0.28220031621843056,0.2855291443933795,0.29372652246342196,0.23656893355901812,0.2942022402895486,0.24376918387718546,0.2514923040249859,0.24513223332602632,0.27903332924912105,0.2621718997675927,0.2687717185677578,0.2783567839559376,0.24922987862420976,0.27680869538489106,0.21436981960491847,0.2200081487505789,0.23383822604226462,0.316437761733426,0.22482252922799079,0.2782338391282444,0.25527855827208296,0.2012670098852738,0.2641003062556528,0.2674672744839267,0.24362891208081666,0.23047904633541955,0.2732262940480135,0.27791257229103833,0.2803985198031444,0.27151355048672404,0.2674064749173471,0.2661527003368698,0.26835420153723055,0.2541007172435237,0.31554827659219337,0.26507977781640274,0.32136977732010275,0.2518179570762311,0.24087881876632145,0.27995490598432715,0.26945800327767855,0.3126099856374971,0.3081138471659253,0.2823013882301057,0.2609188009989316,0.28806701728805706,0.24336857703880976,0.25942555225339525,0.24701400623065037,0.2591385439882274,0.2957641988043919,0.2303279787315854,0.24809682499796562,0.28810735613011595,0.2093685971148728,0.21802101279396666,0.23800770713346972,0.2098987763530052,0.2545089204394682,0.2425109654678403,0.25507211168906047,0.2431570363561377,0.228726911177086,0.2777278473345037,0.25844329666853166,0.25053894365910184,0.25020076160387666,0.1980311408979482,0.2585349927555226,0.26245512410718497,0.2814658722174263,0.2623164856474574,0.28113543773742244,0.2423308153220799,0.26215093306867226,0.2681338977222837,0.25865229698394016,0.30855276609805826,0.27555951822560065,0.2569568714183117,0.31598528710979473,0.2745097203842384,0.26504036357250493,0.2844361330736628,0.2950010154918441,0.2709563337949949,0.2612561510425306,0.1939934439497788,0.29803684256219865,0.2861900360117733,0.2580604489940122,0.24545080495622038,0.2355948233093802,0.3062719239762931,0.2538064537217892,0.180090483522674,0.27514397965166343,0.2141170290442183,0.2682643761475071,0.23585266952094167,0.29242818784773167,0.2783063151550492,0.23874545237682865,0.2610385452751389,0.29023995085605037,0.2309904821805348,0.23512773098159437,0.20756020494950927,0.25626609814328627,0.29012806804926794,0.27759461391695084,0.2755708632847971,0.26636223061377495,0.2760818793204234,0.18842564085344013,0.28021492768878437,0.2906282598908998,0.26765928784237863,0.24342058816393564,0.22271469262391172,0.15474377057994282,0.30682752354933807,0.25526818695577747,0.2799424456230179,0.25512321703591845,0.3059950482267735,0.22331096608467615,0.2750246595735618,0.25535913870954163,0.26951214950157154,0.2289952275320037,0.25173702984404706,0.24349578836560798,0.29870656263651557,0.26073392653784805,0.2957329719296291,0.24638383298100447,0.3107564850462842,0.2511759153354402,0.23851241498700343,0.21127182422370183,0.27717426825898206,0.30251795921032476,0.24500681188202975,0.23231790104248243,0.2976383467071665,0.23378085210068064,0.24002836858951687,0.24714330835038012,0.23424052479134702,0.22636257108852342,0.2529083579723678,0.23997600371479738,0.23361495609534808,0.27559886877228784,0.2562161342634602,0.2342865635364115,0.2823413994832587,0.2741817332532951,0.22804934228813412,0.29277187374426344,0.2981696026126125,0.3008249863084387,0.2665940145608236,0.27668748811499616,0.24246292735949562,0.165738634693376,0.2795231324989598,0.2771534907938233,0.222152384273966,0.24371356570365676,0.23552010041546415,0.30368353717233104,0.33703482483981106,0.3201195171858973,0.21953570989581572,0.28123309031604815,0.23134991158560891,0.29334193838883194,0.25645043312200544,0.23170821972810013,0.29970569234122924,0.2493218762005517,0.21036046869814876,0.23559742786135046,0.2384405527765115,0.2885679467881228,0.3234226947400327,0.2766418621912115,0.23778117710885632,0.3224638125625419,0.22302162124311722,0.27020694077121377,0.28952121339396236,0.33758995422496973,0.24582625847563955,0.2362813367293727,0.22920019928263496,0.2976544933790576,0.31325262658576336,0.2631919987591564,0.21826249555999963,0.2371192015051491,0.23946551072641364,0.2773678693113503,0.23036188481499395,0.23645611308682554,0.21519000113237885,0.300617688939403,0.24727488113872775,0.2769125892995034,0.29135191596401955,0.26142487840217976,0.24352890016719902,0.2283172795603654,0.27326445555799056,0.31186447222817554,0.2760528602676357,0.2871975971010422,0.29546889284519784,0.2639053634038445,0.25894323821443016,0.289367130334774,0.29069790958709296,0.2243733411675775,0.2480765207285347,0.3066502396051467,0.2476474466213122,0.2217732672251158,0.3016344489363042,0.2676753135776395,0.27162664071727477,0.283813846579173,0.27225093362307246,0.2838216096092183,0.2846873503677289,0.23375848320423848,0.25575612637094425,0.23408568248320588,0.28896168494982144,0.3002486750754397,0.27946259888208896,0.2699959443216705,0.2355158625530716,0.27339738530818086,0.3036140490126366,0.26898135274978935,0.23561508624581626,0.2466322183635436,0.2611940471675638,0.2610167291664844,0.2799573543831033,0.3212933146328055,0.2551673606884946,0.32338318303850405,0.2539409013524862,0.24983170096663604,0.3194115119503506,0.3138936961098172,0.3048212401712253,0.2982533484398126,0.23696391191790625,0.3123760588156395,0.288349385770853,0.264217068701591,0.27551602886650095,0.27123046708875387,0.2575949300460644,0.2654960792158343,0.27692828472459285,0.25840838971288665,0.23545791971872096,0.2511657367925597,0.2882167333360774,0.2601137705282928,0.25354505599803967,0.2742522356595502,0.27274597292326924,0.2996537254112482,0.2990419918416699,0.24944925502940238,0.21237933863793157,0.2884903224930594,0.2971123214696394,0.2650347334990621,0.22331677501671995,0.2664591154415176,0.27182429458312635,0.23715558488072955,0.2593926256055423,0.25095251335214047,0.2395785880746735,0.3170105361889642,0.23905981176558175,0.31038272386687693,0.3063441921078546,0.26683724779851775,0.25271678449217744,0.27912243386116553,0.263627321577798,0.2862100912230016,0.24772999482321145,0.31152022391717443,0.28867710088638493,0.23429480172733766,0.29006037666298795,0.2687776006327336,0.24019481289021002,0.2609829344553778,0.25438856926866554,0.24800544131083968,0.25757015791782517,0.24518303869579022,0.30365518131344665,0.2274865945055512,0.27027912784505426,0.26969007895127406,0.2406895601924801,0.2674771947975518,0.3017129815961695,0.26065940857834446,0.31785747374454343,0.22664075966365843,0.24645645528680094,0.2670169931976339,0.2685455354891361,0.2342374370443111,0.2852411759931785,0.2935570074179859,0.24449568814540737,0.3097676158875289,0.2869761702243748,0.260100549883142,0.2512264125023774,0.2643622014172532,0.3132711962556636,0.27316610090352156,0.29847106449387056,0.24860231908512043,0.2520117556177295,0.2768884626699572,0.28804685891854254,0.2419996897827739,0.31799317792616083,0.3342345480987508,0.23092716579848005,0.27851835843827755,0.26731884843940035,0.26407492374528885,0.2846125585001687,0.2889346420699234,0.2660204289877283,0.2839966198527011,0.23609564948421327,0.2442689416504557,0.2827724865912412,0.25590017118098385,0.3097342124805387,0.2561414409895186,0.26050585897972695,0.30819143276378824,0.2439973019115708,0.2448597757683203,0.26006181974776427,0.24724981107605717,0.2371870895651586,0.26114853377778957,0.22231607180670507,0.24844017498730428,0.2389004061205907,0.2539702980178805,0.2570312413135523,0.253275696865334,0.28805720241825766,0.2728533149860909,0.2844606274467101,0.22705771198736824,0.23350849447911934,0.24075322800704435,0.27163611719275194,0.29001882508787946,0.24591767568919173,0.30357496171282233,0.26662694701286366,0.22405751636711044,0.27900870560212093,0.28610571543498353,0.2779601371318946,0.2345551411243182,0.2624086931465076,0.24905751978433793,0.25725521877689844,0.2892317150017759,0.2620390267587814,0.22704035402689923,0.2392913923621879,0.28161582574928246,0.2912406030086575,0.24597213674323273,0.2830313044710814,0.21985363583826525,0.28463384203846953,0.2554834740836416,0.2110229884620384,0.2429822507169893,0.2639571519734057,0.30458606104348196,0.19593941383747157,0.2699002592284269,0.26805472187983015,0.25468147654508044,0.31928889536313987,0.3214476527367495,0.2611643852327242,0.2148995769729793,0.2448690830305386,0.26878740940770895,0.2628634550302034,0.2609946375504519,0.2501098322573997,0.2549260850660506,0.18666780631565202,0.24801349376136053,0.2520125985938351,0.29915368963256844,0.23430038648339324,0.25997509416217435,0.2577913169448523,0.2933398175552449,0.2524117595134719,0.28665335983127577,0.2701352509286843,0.2546507274997059,0.23677317262137854,0.270161449188074,0.20767507262107435,0.2986526314537023,0.2917434387658041,0.2919068055314211,0.2758527960842032,0.23326729995554737,0.2376423702641649,0.23390573676640247,0.28620903263025826,0.27125312586912975,0.27601562568979265,0.2007262242072095,0.23550998893158362,0.2813123607868141,0.2721062812889227,0.2470433832411678,0.26312261759190425,0.24493083401880222,0.2749642164610706,0.23984425354475564,0.27828182887560166,0.2785821000627545,0.2668902383012181,0.22322438773575715,0.2716800325314873,0.27869993709111823,0.30653855133437,0.3050620960175088,0.31175467531467466,0.2909366751045189,0.24603387598845808,0.27127581843310516,0.2687861167053407,0.2745147492492769,0.24707756645053594,0.2879715662867461,0.28165731558160106,0.2059408015543934,0.22602823918378304,0.2318349164589944,0.23161034687230087,0.24716900779334333,0.2678684837546076,0.30224951569148106,0.283284273793044,0.27230167305308156,0.25185320361488983,0.24564286565028323,0.2616887676082368,0.30471355720942755,0.23137706891355395,0.30038535317209386,0.24299036802500376,0.2041450471382288,0.24207438019878869,0.29566095636691914,0.23193877284496042,0.2828891512397033,0.2754554202066185,0.23905504881431283,0.2488524030861267,0.25769483738409915,0.24990186386659108,0.2519242925201454,0.24563329452458765,0.2950385663086684,0.23779417108142498,0.2702311752241865,0.26128217401879394,0.3114828482121889,0.297875406272641,0.28173372342656683,0.2153452860352885,0.2646250957212302,0.27601068311202565,0.25210730181307894,0.2811065092409943,0.29770784837814823,0.2615280893315333,0.2537535882095446,0.24305176768308018,0.2840169631155462,0.30055200597191417,0.27454662284929654,0.317610543809902,0.23146608508799715,0.2653081598610508,0.2958691430914607,0.30899167629585506,0.2830337948703865,0.23901621787027752,0.27254435395219834,0.252942038215588,0.32936126410629574,0.274868064464535,0.2107078072746934,0.2743692798119427,0.27846795621992554,0.2280436897390753,0.2711183159972141,0.3026880558149872,0.2835905672302337,0.2798443230518221,0.3129760178372324,0.28209845137580564,0.22533093010293087,0.2576767904730385,0.28630291755591875,0.29948401097796074,0.30559463348137766,0.23877772533615732,0.24786541528983486,0.2931886322496733,0.2808420739923928,0.2202647334511907,0.2236557745259373,0.29764086295180414,0.2522607148740306,0.31060482746628254,0.2541711906582795,0.29355785403661394,0.2450658494577906,0.27590116672197224,0.3093703222265665,0.3058525456971785,0.27075186119693073,0.28114328245481496,0.28364241628245673,0.3113109158630384,0.26654265437649277,0.27611347721822144,0.1966258400040589,0.248942612209486,0.1726169826400135,0.28794430416682476,0.15094385669086416,0.25751191782848903,0.2845565760361282,0.29350365764632697,0.28820593003580686,0.3060626646096368,0.2460788075046506,0.19234098180333556,0.22515868554825824,0.32128025330340304,0.2915323796437035,0.2405618098007553,0.25276358228772233,0.29910286508636164,0.23323700161290145,0.26880022175886964,0.22711396434052136,0.2407223865151555,0.2649899150678858,0.2691063516965614,0.25839014538520383,0.2531875053885515,0.2694900146668552,0.22450276910732575,0.25692441214634126,0.32201675356835174,0.2698207785798348,0.2687029485303283,0.30297671294794476,0.266180835960641,0.24524681491088807,0.23723796626353422,0.26698872284805064,0.2275500536334111,0.29918447395721126,0.19882215066180206,0.2867779990010129,0.26476955164180177,0.24999272562588662,0.238375130325803,0.2092609168867508,0.2531945178125679,0.24830323250054503,0.24414703703974183,0.26753248936243307,0.29023626221524923,0.25875751432622035,0.23749692055960475,0.23011834054557131,0.234310081831264,0.2837239891290071,0.2239946669435766,0.2306120561583451,0.2849893805439291,0.26583248746479077,0.2774011614638131,0.2666369061513171,0.21623796202428405,0.2734443250965821,0.32595758816426584,0.2681260856919679,0.27024945072508166,0.2750075681566918,0.22561833120643274,0.22009056766009844,0.31194532818361603,0.25307322264033333,0.28037000372201876,0.30029394630215156,0.3179420468372448,0.2473023923384665,0.23021251578441168,0.25312398360749505,0.2466561587537528,0.2406973253519948,0.28382872110514223,0.30091267127656857,0.23934798454808814,0.3061350423743239,0.2859943245676614,0.29290923472292135,0.26997235913555373,0.21151022655460486,0.2509991366868578,0.24662154098342232,0.25017545145651043,0.25038226588388246,0.22572011373720594,0.2684468997410851,0.285416792452541,0.26595462194071046,0.3001260804867717,0.2633339168812599,0.30729979516683065,0.2838715381893362,0.2155947933704336,0.25769192478760944,0.24831649402375236,0.2881475341510309,0.26563766488703977,0.2765052664443732,0.2480540954384797,0.3021605347582511,0.2850727044504728,0.30005133831577835,0.26482531032510004,0.2511419943374141,0.251208939111144,0.2932610988238363,0.27009360078689926,0.2878861359451135,0.2506234450383457,0.24401309954124067,0.23492056141878803,0.2563476501724129,0.2987150700898201,0.24875807859247986,0.2059605585230049,0.23499712982719345,0.24661653856321714,0.28833416148991065,0.26173628114144376,0.23655076343564288,0.30746510631929125,0.30232029479271344,0.25427881292635857,0.23861937067748146,0.2524732607942284,0.26399931984838976,0.2612458264849498,0.27828461849830083,0.285473775441222,0.23894314959779897,0.23837588033805007,0.2950626220035934,0.21305460338438895,0.26121693975300825,0.21164172908916212,0.2585367115595153,0.2561380098582198,0.2973411112516235,0.2874247426884496,0.2621170066836172,0.2604103027779044,0.2005874668260711,0.26924127910333334,0.2695528539570536,0.24334011167486794,0.23839663269667397,0.29198258531583404,0.26501172892341057,0.2637679659966009,0.27368634156940547,0.2699845083473807,0.2512503040040072,0.3337576030158063,0.2462246070698283,0.2651643357575267,0.28098328954072443,0.21540723002253695,0.20363682093371666,0.26060287182592806,0.2602423640697604,0.20980308936087155,0.2625208714001579,0.21332990283917233,0.28665073553594805,0.31521449873773283,0.3024410444346122,0.23244177967018867,0.20676068864709213,0.20437106655473658,0.322164588734844,0.2591493286669154,0.2879607768144098,0.2851249757448586,0.23619717040676735,0.23754737378698607,0.29682653063895703,0.2263823765156827,0.25854468262306746,0.27939667116536665,0.3056660753118148,0.27799199405008423,0.2922070296101627,0.20696345621797252,0.24297079816525996,0.2413837348129132,0.25902117055407314,0.27093837615566096,0.26264901702575894,0.2570795984343459,0.2261543179505772,0.2780527566630303,0.2593788827588326,0.2676323843118246,0.28508610520812666,0.24229550975362646,0.2720346218517286,0.27635363175221095,0.26028045239666114,0.3077835736605788,0.2578974347218077,0.2507379375551658,0.28673686536359505,0.24397831708627235,0.2370437523198729,0.29688421113971963,0.24253293489598698,0.25264448786200894,0.29946764855868857,0.2700760630775277,0.24767185363921182,0.28852448148916493,0.25737088058430135,0.229151766790835,0.2473062410411441,0.21168666608417241,0.2683344433990195,0.26429578186297703,0.2303617099382505,0.2167297317969042,0.2707934319176271,0.29305749183088203,0.25409265064856923,0.2889500956206995,0.2718701388125612,0.284041673884857,0.24450652716557641,0.23456969314073842,0.27412295197840203,0.33051347495885597,0.21170418912675726,0.32027737226258174,0.27961914290231843,0.23244472159957213,0.24320475629959837,0.23616861101934197,0.22724843467085454,0.264633949185937,0.23380790566714355,0.22715354749946287,0.301444046624635,0.2751001883470086,0.24398593241313296,0.3157855996914371,0.25335165836955936,0.2870004820908493,0.25952006809132566,0.2811798055860062,0.274298511823187,0.27831755385510015,0.25925268998051404,0.2820695292752407,0.2660256021706611,0.2497611403317429,0.2046205291006518,0.2528349784042473,0.23157439811081315,0.25362779454824946,0.2497681583865189,0.25181835485679,0.23133461810556297,0.3292064046565864,0.200596099195227,0.246796862458938,0.23894722462878815,0.2647516348207301,0.24415764459205508,0.24051822545526003,0.2257049999614662,0.28858552974694696,0.25996469389951965,0.2618008487710042,0.2645239826531905,0.2188745884918297,0.20581596866840457,0.2292265143222139,0.2975286067303467,0.2943162961626864,0.32486896156162787,0.300912227530189,0.30322958359674096,0.22772100379713245,0.26392957292240543,0.2440544353084864,0.2730812014348317,0.2291415623783037,0.25712161222843744,0.2604903169516329,0.2356961785535145,0.28616790269175163,0.2798568965832931,0.277785836568275,0.28242515698027376,0.2919822333712879,0.292750087943356,0.2835943612848326,0.2544061407274085,0.24112249896550383,0.32191055478346897,0.22302637045981855,0.2719412026544239,0.21890026154776354,0.33184552036536635,0.25032356050142657,0.2584037530621521,0.2455577890575531,0.22390598527689884,0.29541550261887806,0.21461583173984175,0.3037706643123566,0.271200839777716,0.3090403385191358,0.2640475190441559,0.23281300554585835,0.23197305302878746,0.2598000666149142,0.309233312357304,0.22014875494725394,0.30519436911346487,0.26416533950022136,0.2260240058428708,0.29111472590778387,0.3169834036758831,0.2946129951831431,0.23165211999917792,0.27874839209739494,0.2574177859644999,0.29639202211531046,0.22650483207504768,0.23201767005550453,0.2868270920302257,0.3344338813904655,0.28454375322617875,0.2982985292561021,0.2605290640671811,0.26271102628999204,0.27570013187151715,0.23487190249158185,0.2407622638971458,0.27878323030430435,0.2513558461776963,0.2449424169325292,0.2511697224802557,0.2173207371385032,0.25794601272822515,0.28808683527682144,0.28497180036097486,0.2526238147365803,0.27456167962457434,0.2886247624666546,0.2284725456034745,0.23507278249641606,0.28924463193450717,0.24655255820891325,0.24049582974811476,0.257511951900528,0.27113004651206635,0.22500833278358848,0.33159537228940184,0.23910322051934912,0.2714721145433968,0.19585659477905448,0.27047426188069223,0.31302169206119135,0.2986059830178354,0.2873000656555929,0.2891459505350033,0.2902382184080606,0.24802148457124107,0.21546224895992117,0.2147088859341324,0.25381884388634585,0.285587061978937,0.2928160074030946,0.2847036252467885,0.2365738924578257,0.27146669197076706,0.2512387244892766,0.2779343477916895,0.2289326121746389,0.24030584538098276,0.26417779199709535,0.25514454408390613,0.2655339692399802,0.21294477251682678,0.229000311818729,0.2739842081062074,0.2512832146742663,0.2510378178154215,0.26148055532991404,0.21089574557803042,0.28177233466492696,0.22235595715004283,0.24270043112480397,0.301114305091299,0.2560148666734024,0.2625609928895057,0.31982925278595514,0.2396204428034046,0.30327052481933797,0.2686745166269336,0.2901668486005054,0.32859166635095116,0.2736375835946958,0.19466484928561467,0.22397590387786975,0.2642340246139256,0.23601995275086515,0.3037561586875434,0.2667011246117083,0.2985114116086328,0.24371045804311814,0.2752849708308041,0.277789787273137,0.27076374619037824,0.2528336699480353,0.2790707697181264,0.24185213699168023,0.3099522685517305,0.2810582869648016,0.2864014283048099,0.2722359586108887,0.2837096570529305,0.2766921474924157,0.22316036264058056,0.30567228123043233,0.32692289997367413,0.22852832000611295,0.2500188555143079,0.24152527538603552,0.3215119294017396,0.26356417722934006,0.25764182455467094,0.27225999724367683,0.2539731398255619,0.3000264115673715,0.21557225011093095,0.25964759367345674,0.2641166420055372,0.31906703371628775,0.22585010055702873,0.25514089972712584,0.2105509993177058,0.2672784929903517,0.320951664803417,0.25978308906409725,0.2717880424251891,0.29695079837692895,0.26633280584069235,0.2244997245042797,0.28774667938176646,0.19306992248807509,0.2666773529177883,0.24402553090572116,0.2881076815778689,0.3061758773824649,0.254047032313306,0.22979905542601758,0.2953619958817082,0.23925649557869397,0.23735359751085933,0.21702093154902335,0.28810582542155166,0.2904501564504891,0.2535566359846731,0.3032153383283436,0.2847274400116232,0.20748307561603888,0.22820721438357894,0.28180351405636234,0.272430403766955,0.21028629281323796,0.26041025704176957,0.2226174762189499,0.2690444795866122,0.2475294943964208,0.282220223016497,0.3079728404229973,0.23809650727395368,0.23749566013996462,0.2289626608766433,0.24576278757648445,0.22461496203798023,0.2806596035015419,0.17888634653543498,0.24604695762695541,0.2320888342371405,0.26094278701133417,0.30512141077442323,0.24234675620785334,0.28947514800895885,0.25584310933099813,0.27945689452771577,0.28130502666352997,0.2543937851798792,0.24936459731457786,0.28406023838275035,0.23711123988147462,0.2868964165950807,0.2670952882225767,0.26233296466229317,0.28765377442529544,0.28077505061646507,0.26366440095328775,0.27429735581318043,0.2664026810905709,0.27886235431891016,0.2526923469976288,0.27709968052576534,0.25348283881586864,0.2790184288002806,0.2741852862112313,0.20983998367160067,0.2940777282513576,0.2498046864755466,0.2776881920175814,0.22960096135453686,0.2442520331142299,0.23044932979509006,0.29236946621143756,0.3438690776135981,0.22866033763685245,0.2688173259307235,0.24730723233493238,0.27245599852246905,0.24953602067942215,0.20850427528719487,0.25656530104118463,0.27018973496066256,0.2889663887956827,0.27269225186840235,0.2333488146810045,0.21906162592571762,0.2702359270606759,0.2744755927327957,0.2922496565961018,0.2934196945921479,0.2431585939314219,0.23070834590947165,0.22847971305939535,0.22665369930568474,0.30659565758224344,0.23940685233441292,0.21387147792448105,0.22887712560982143,0.22069580350198365,0.26844416465780335,0.32725116383286385,0.29910196768874503,0.23631800520197296,0.25288750256939085,0.2725941128845726,0.30545603377861397,0.26420678302570905,0.30272233849835617,0.2912841485739326,0.2593008884402974,0.2972675328894169,0.2389584691130334,0.3001107429653766,0.25947277690753373,0.2099063606132887,0.2378607834470658,0.2990223090010904,0.256279391432494,0.23361211884013006,0.25930301017554735,0.315109807423773,0.286496297107438,0.23357268588718083,0.2523808756715989,0.2823326126978099,0.25218644450046424,0.3015882133674241,0.29213764444040213,0.29226092275424415,0.2806367128081195,0.22707128478641542,0.24598355696438637,0.22578263356724484,0.2512152910201528,0.3217584205735388,0.2984717632827855,0.235562922996938,0.30840240959284165,0.27793376287688243,0.26842242059463794,0.2516657743658513,0.28821324346517035,0.28964160978277426,0.25704338486854816,0.2840682480328315,0.2913872891437366,0.2512962921784099,0.20699985901527548,0.263276402482781,0.20539168265024735,0.2505896655692476,0.30211599050935883,0.2276129646606057,0.20250072729053575,0.26044830619117326,0.1971628075587457,0.19276015762299392,0.17644400407647554,0.2756655856536307,0.27256570335400004,0.32627189059831757,0.31152127651426126,0.23052051543341737,0.20461620491485966,0.22103565790994517,0.1994091841735554,0.2553401067217101,0.2767865520182514,0.30289972558355954,0.24053487168724885,0.23560859523727426,0.26428299999278154,0.2625081428788928,0.2925086076862456,0.26483866562661496,0.2823455803385432,0.24183415506189432,0.24872313957264874,0.2280653624359667,0.30337019425146816,0.25922970451773886,0.2149445448757734,0.2606617268950979,0.18426310050952938,0.3083626309038585,0.2591189977889437,0.22673954021503015,0.24865152561234913,0.3035204544435589,0.24241208816781906,0.30750193725312935,0.24287083526559383,0.259210775163343,0.24315593407457317,0.22050977971134242,0.26091716880205373,0.2987127267502087,0.2734388656493014,0.31774603568079707,0.2821564839371149,0.22992898902121633,0.26659991728704363,0.25898726846863135,0.2410824834115001,0.21367085370567274,0.28822904199276644,0.2771813701089062,0.25042288950107083,0.24706162903986378,0.21664446104454674,0.2626748656740015,0.3201394672557304,0.28850721271802343,0.23282145495224268,0.26959086506449836,0.2708535222667272,0.2952090722184852,0.2385930233404557,0.32700523284749267,0.3002720008940105,0.2309518039070099,0.28619038251457496,0.2881321683504377,0.26709834458192755,0.2603386258463571,0.2563442979699919,0.24525037436492733,0.23810898185416704,0.26136449814221024,0.28616993099539095,0.2269337905433237,0.2262338094773865,0.30352287503506165,0.3194174608338681,0.26254156863280764,0.2744006602011465,0.251423240805709,0.27220270499343285,0.2216913341991735,0.3119399064794963,0.2458255565001972,0.23592452382696852,0.25650145687984083,0.26144568102471616,0.29566162720174244,0.27655313517758956,0.2562566697784161,0.26271105053294685,0.25766922862416847,0.215986314803548,0.23251295614312587,0.2688815926573835,0.3072156380156192,0.23358841637355504,0.2781939678911944,0.2949528408312109,0.27237496184923793,0.2387004287089938,0.28042351946834726,0.2547229550028629,0.2878677230255278,0.26187767429286585,0.2966003669289027,0.23769944974233226,0.2468096355707865,0.23612556715873445,0.31207797476982685,0.290044096308002,0.29733681383332483,0.2885470980999562,0.3285691252226775,0.278663314426189,0.2952096819453546,0.25061994593189835,0.2655667734024972,0.24260390277629065,0.25511564597204456,0.2701557233160376,0.28494506748881393,0.3270525681884069,0.21279187515008902,0.275958886468599,0.3195014779153198,0.2980888369537558,0.27080372143545667,0.2509586750046041,0.24488717013585132,0.29073458110780487,0.2879412221965543,0.26933430413335285,0.22562485200295326,0.2592542339985979,0.26470008027486114,0.21891933260532084,0.24683462941644793,0.2330415026677529,0.23805937008937605,0.2531158761822172,0.2576607273508822,0.2868858864296136,0.2655764191530376,0.2277861099907955,0.2781645439250401,0.2672578402161238,0.28142158957943425,0.2880420461729339,0.2746907223467434,0.25942805040892464,0.28202761586057995,0.1926059335720857,0.24601618535404207,0.23399558040360555,0.25994078434495477,0.27739844410507797,0.28929874621391233,0.26610947843153177,0.24246804825988008,0.26066962525790804,0.2617248252984533,0.31461060687654047,0.23187651764840808,0.2376221414776506,0.3117324652476304,0.2860970203748053,0.2772751160000981,0.27580960315408165,0.24206814626963857,0.2997609095103682,0.24798706475605098,0.27176285454945404,0.24309458162394146,0.2878328842475077,0.2503188749650209,0.23275425963634258,0.2936468285209641,0.28210339760071357,0.3129791065557244,0.2380001579984881,0.2737868431966737,0.2734989710079646,0.24434009114418634,0.21482320532716015,0.30929023040541814,0.27125414061663583,0.26285244295791915,0.27403478172558193,0.26387315405870965,0.2973298400469556,0.2552803318309676,0.22636412131620487,0.2682552301308561,0.2958068970516381,0.2963009901122938,0.18539684314149554,0.3210900844638522,0.2700448983066082,0.27034220949111243,0.2424831572639875,0.20524706574149285,0.24828514725972448,0.24906048223944938,0.2908207860662086,0.27672511868274724,0.2396394890143468,0.2635069402497747,0.2966912117358055,0.2265807345550209,0.2736883956271802,0.24805772191310177,0.30140786838848743,0.2397165132681764,0.1801525218594007,0.24346511335527965,0.298613324863757,0.29073253699116924,0.25490090288164563,0.25628417116753055,0.29486898877293755,0.2549816677941857,0.26949457575955965,0.29666438633588743,0.2727568402676428,0.2655884802627747,0.2435285211480579,0.28438770825043375,0.23081930489148894,0.3024178871154947,0.25959164161997006,0.2240002549778786,0.23036000107741056,0.2379635385001385,0.29605566300524994,0.28916750449404116,0.24961357903842776,0.2524973716420501,0.2612217062579931,0.18876645038496254,0.28508025690626126,0.2706329526778134,0.2981078305156329,0.2559764256519034,0.2607294176280525,0.23501736238094847,0.19499693597480575,0.2820715805781083,0.25170052099710394,0.28185975992472406,0.2716091352082385,0.2668428742329392,0.17572047734964655,0.2589242691393264,0.24452769158625687,0.25837451368863146,0.2642209333196408,0.2504124405213038,0.1944811630754251,0.24835952596048363,0.24491146788799098,0.27289522308499575,0.28357552321166596,0.2564464477234315,0.22925099212928274,0.22563923084376036,0.2872096488273551,0.2717425228484394,0.2614353437435345,0.25047410114166996,0.22887460059107112,0.302566175602031,0.2913502145913463,0.3241502456465288,0.2835880145830705,0.24850348814120027,0.28535942254678837,0.2957359769445371,0.2799903458248407,0.18908067384673732,0.26343030547387064,0.24674369949397718,0.255560860984912,0.2724511611831988,0.26591790718246083,0.27330004717966033,0.267543393168515,0.2745366240513327,0.28009949959955943,0.26855231215105013,0.23198721959865035,0.2607377291597514,0.23953005332719082,0.3011833261679163,0.24107619440657663,0.28958329770246194,0.23144558732497708,0.2584626678156755,0.27496130166844207,0.28656225959238424,0.24591601448041264,0.21380685086534487,0.28148086568949804,0.27703093988509786,0.2637432791009507,0.2781575677005478,0.2614086874860446,0.2676658398931953,0.24191073381041486,0.2182780272622662,0.2487996983083378,0.24502563677979908,0.256530610693287,0.24604618499686368,0.26152402229914196,0.24749321248264963,0.2636827857328878,0.24130672257196759,0.25258401314247586,0.2586546544248158,0.2405414837249919,0.2244633129371247,0.3426254972131828,0.25607318109467675,0.30703532119292104,0.19925798458099506,0.23862104935536546,0.2783226158667382,0.3149012779223688,0.33121149483358786,0.3063010917516068,0.239491285057667,0.30536086128839407,0.25225065852050416,0.1792441180089054,0.2619158870211009,0.27513072687279827,0.2512521462612769,0.22312315946609582,0.20603749474385677,0.28652927778250603,0.27940383216000547,0.25011771772153696,0.271224335395702,0.2385055978088192,0.22888002315771216,0.25253314234239077,0.21235856357392413,0.24925301644246725,0.24330489270745745,0.25411053612397083,0.24369916833274954,0.2565279365871412,0.2822509056591395,0.2878102117871441,0.29552511574178086,0.25702755396967136,0.27197198665690003,0.3100724887677189,0.25652852084045796,0.25635856897202114,0.28779200710566755,0.2561975899959642,0.22359281131104686,0.23441404296317794,0.26645163869666244,0.22558747674751747,0.26844770802505913,0.26505304330156093,0.2955507121844203,0.24437714303974759,0.25081692518468207,0.2713087742874335,0.22947000319356478,0.22643503582957825,0.25810314883891033,0.2852305141242814,0.28831139049065596,0.2627011670845728,0.26354861409940455,0.2588313585008406,0.25607257285483065,0.29095316007321853,0.26915281098508076,0.2545838565652107,0.25952791086650756,0.23765166285645437,0.22717840643598694,0.28165374745365845,0.2744653742630312,0.3041224404657033,0.25316873626371816,0.3159143131895092,0.26662176867376813,0.2990567706307596,0.2547603497666936,0.26473449192386334,0.22357362352275745,0.2647097116116286,0.2749454607871001,0.32183343851845936,0.23083106803097342,0.28034909347050735,0.2573291691663221,0.2889885964542806,0.25725980241732394,0.25801685654527934,0.28642319657472015,0.3037656274889953,0.2756601459961255,0.2838765574469266,0.24690703793801427,0.2872026721741342,0.26471260816058884,0.26064294354225187,0.254124035424355,0.26665304904059317,0.23055342139192098,0.27899880994627435,0.1936679543377027,0.266546149183819,0.23532154250923185,0.19452708466805166,0.31435306443220684,0.2984866563450517,0.2949007957870769,0.25049885758101637,0.28112515906002494,0.27111171626236985,0.2837574995873953,0.28481991745940627,0.2760238467730182,0.22417110092286366,0.3275681616865395,0.25671718316627795,0.26941419878059353,0.22676313750297333,0.24759035597663495,0.24266957285038807,0.25770106889916294,0.25462644461184863,0.3148670033726515,0.24628604154204262,0.24873085864472705,0.21910477717231197,0.22842649946808016,0.27651765863061595,0.2519092274084757,0.2514765764714865,0.2709988234337492,0.27879077802594204,0.24655495445975512,0.24967950685567755,0.2909961700140299,0.29787776755725864,0.2892631650849726,0.2785953594917845,0.22089791621356622,0.2957111104307281,0.30113130773887514,0.25466116074851797,0.23577619325872248,0.23355205486866146,0.3120296219998056,0.2738742419572662,0.27929282084643026,0.30851795647459224,0.20714300790328863,0.28329242347944733,0.28575327298529923,0.3019671769738477,0.26286464648816366,0.22799328360070018,0.22515683807335585,0.2973713198951109,0.323239072234223,0.23964331211232176,0.24744865960337034,0.3028153626414107,0.272484243627023,0.24919716671258546,0.31248673633719937,0.27763320349555914,0.23001298927627145,0.3172798241440746,0.20192726377235656,0.2688560047717689,0.32017733876731347,0.28091778682575635,0.2618433493286626,0.27951128851467133,0.25386539404509767,0.26981813092043677,0.2406772103671804,0.2544747103309675,0.3143966464965908,0.2883848722952611,0.21929101376786186,0.26306062386627416,0.27475940569063534,0.32351286792465755,0.24759002142948763,0.2768578159227606,0.2729214720645599,0.23811925215082677,0.3126544604502549,0.23126822583351522,0.31424453677868164,0.30597358267814156,0.21761898564561627,0.23588924798820846,0.26959369084398915,0.22736462700326146,0.2574243280073059,0.2711375418144969,0.2796275888974774,0.30019974326465265,0.2582035853829417,0.2591179626315976,0.2977825861232469,0.2470819025939216,0.24560289804451868,0.22041672588974223,0.23182859728629618,0.24418249085175725,0.2568258895974067,0.28082686619871744,0.26020437479737374,0.2642864648671693,0.2535180084564173,0.2434775147751851,0.2309284442527677,0.28127027330839444,0.27552707534482407,0.2774296292610466,0.182078827587549,0.287446266414876,0.2179946019350567,0.24124476637600573,0.19813343152298396,0.2344601914906174,0.2651122207919741,0.2736833635944436,0.2622918114294341,0.26812201596737995,0.2559472873222129,0.24390606808292736,0.244283015690812,0.25925133034469316,0.18885736760296432,0.24101875086441596,0.30180121127637016,0.2625317372487689,0.2580726520861921,0.2686215488938471,0.2786521882316627,0.2132652052484612,0.27601396080946755,0.21918707320416977,0.2913796895634615,0.2953739273131024,0.3013368408129618,0.26740770261516156,0.22641184594998767,0.29124609052905787,0.24859009325291725,0.26494985659515774,0.20858973070002212,0.2590001493032251,0.25005080791949597,0.23999724322712837,0.3318243231300526,0.24448310464110126,0.31601671257040503,0.2845939970635106,0.2626872109063865,0.2699674416622006,0.28500857988401473,0.2542924533807638,0.24306870644355785,0.2641142110982361,0.20344572770045746,0.2523140081191043,0.3198799737739794,0.2598214186370432,0.25931870357701614,0.2757300617359903,0.2545760898218453,0.30988704275975737,0.2953018155690498,0.2725980536783114,0.3001208346991322,0.18778051917419758,0.2555685744907375,0.2693294746165612,0.2508787761215381,0.2650613331210451,0.2861168983656844,0.2497704648010995,0.266996731875646,0.27121783596919036,0.22560541470481285,0.21952035071416567,0.2685784457512263,0.2118754539244643,0.2346271028039689,0.24908988728869308,0.29291546674423674,0.26219827198694917,0.309560719807492,0.25567352842154606,0.27906257992435046,0.2488092711828457,0.30868996024060547,0.2407203020829323,0.25531226749073654,0.23167006490267206,0.2134382263688116,0.2539419554481287,0.2939725396920054,0.2802780790998951,0.2808832354332335,0.22927336910642793,0.2141356376237872,0.2987265130555467,0.23945340919345118,0.2820468219040798,0.254002059321563,0.24854561539605471,0.2788289579300564,0.2372227766121035,0.27996898018023614,0.24453412968215724,0.2618291668024431,0.2601560732067746,0.2121615667635016,0.25650756076034054,0.26445833215699716,0.27911575077680173,0.24091307204309007,0.26435090398532396,0.20928931996887432,0.1925276231261801,0.23810216289298938,0.29695188734296707,0.27091834970434814,0.2650502082050315,0.2870368828766237,0.2799633964508234,0.21036950576333263,0.27826711211686794,0.24710787520568006,0.2745571123604952,0.2401220348717331,0.2989145346560547,0.25064825555704306,0.2708688439913736,0.27445425750662894,0.2769578915549751,0.23670426596180083,0.2952391797899231,0.23535917362381034,0.23486259054717346,0.2953744550495798,0.29204250277297783,0.24896356617322593,0.3207036402474811,0.2634758579942044,0.22110722535798427,0.2307290426255232,0.23957710577537328,0.26486870932484585,0.2622652383366873,0.2668143684551786,0.3113834098640565,0.2538418441573553,0.30081504533393694,0.23614963431933503,0.27071955087132177,0.26859702406288394,0.2587785936531383,0.22722784279645214,0.24973241236912433,0.2970104551468601,0.3213185295501728,0.2680581007747677,0.18413982899771575,0.2544661655093564,0.27549412430700715,0.2430798595531134,0.26264851229027636,0.17955084254935647,0.2863286443350314,0.259307515926465,0.26642197990066785,0.24925888317588588,0.26481978854422505,0.29580565324643765,0.2707376846527148,0.2394179132136042,0.27612058317377647,0.2352257897396581,0.3058292340658589,0.31077657549175114,0.22392973078193326,0.23060427426432167,0.28081512145868154,0.26112815645158693,0.26146975188780586,0.29166389869753045,0.23102887103344477,0.2280257823523818,0.279262526564916,0.2441874411963724,0.21781521503500362,0.30330278742867206,0.22076714009967088,0.28257882476810753,0.2757191636905186,0.26138756677611447,0.20425590306409014,0.23575889324139032,0.25269569549378834,0.29236222184176497,0.2706292975619657,0.29229846634785067,0.23885442973512006,0.27794676256651274,0.24483319166524234,0.2397832508702555,0.27719743793251944,0.2498418956956218,0.24592987902466945,0.25167425002592897,0.24935161880014028,0.1966515591059415,0.23637308850615796,0.2664836049381404,0.22364235412888447,0.23204830554751643,0.23711046003218852,0.26738954631256595,0.3299206054758054,0.2147434595196148,0.28526977877458587,0.2876750123145921,0.306009918030249,0.249968022962968,0.25866657868943976,0.2977284795862057,0.2067546947326285,0.2980725078271508,0.23288721118968295,0.2660112625804577,0.21941924552270997,0.27482406993542413,0.26134515303656686,0.2911019770275876,0.25602593405800433,0.27586040478895585,0.2378230149626563,0.31736152198964873,0.2919080283758035,0.23517811137204847,0.20626023961045747,0.3119285519081513,0.24422504066966966,0.26864128013127997,0.17738025498304158,0.2261102632776169,0.2850359147613288,0.32883803601002887,0.2554190322574905,0.28819896650477506,0.2956347133912849,0.2923250289732298,0.24475658554372132,0.30947126554692683,0.2764012297585387,0.31056645975462893,0.2546900059811663,0.23703912829594553,0.2958803212301301,0.2594746126369401,0.22072693409116162,0.2532589571658756,0.29520529182067984,0.24126214168033502,0.28539800025665196,0.2494645660360285,0.2381825631596884,0.2183975925279609,0.25918885107112327,0.2752964102034451,0.26593057498440115,0.26303038310156845,0.21982328066420387,0.23427609612841344,0.23040121682109294,0.29589387890464525,0.29350680017099784,0.30481205137027695,0.2489975159413684,0.24344499821489607,0.22505886262693076,0.26673122414924727,0.24218102991230364,0.24879875092466402,0.25140175793158775,0.31937691737356394,0.24753752758530476,0.23466047690440103,0.27304887486249346,0.25915005570778055,0.26535938525750963,0.27186607359628095,0.24305829326736642,0.23632766856343929,0.2542982424984198,0.2365993177953076,0.26143252035671655,0.3019463080896284,0.27184080301489727,0.26190000238655886,0.25484422936545215,0.22042523179632117,0.23174727310342413,0.20294055437762104,0.26720483596172107,0.253245110217145,0.2323751590285773,0.24853995620284627,0.28772647311139526,0.28352613532220255,0.28160614432459297,0.27848674268362583,0.22327805922378602,0.2592511394565809,0.2315847893870392,0.2721483847827886,0.19099283597422417,0.26735534531827704,0.20656141448623372,0.22931109218392912,0.2743834379403422,0.26752956922066773,0.267046716113238,0.33041691512192806,0.26678336779415934,0.28489229287200635,0.23139742801992558,0.29375739164698916,0.28846242829242164,0.2576205982436093,0.23765275391789303,0.2667585546610417,0.2568354734759853,0.23666140813429437,0.2823193175406483,0.2686647629027922,0.2801723749636604,0.2937332104521844,0.311824752495276,0.3038611875526458,0.24831691107167106,0.266725752849117,0.25114473160305584,0.2776714158880409,0.22391181188357206,0.24393938627542547,0.30456593029450063,0.26957592210699294,0.28064507587735255,0.25740555737370285,0.30762979337615404,0.28814045013339395,0.26612939921764267,0.2445637437815866,0.30229093621029596,0.24749902972411583,0.2793450359018278,0.24171596669558298,0.2699158219947484,0.32257818340020356,0.2869925705506499,0.3097090710242491,0.25171638883769903,0.2541926914473472,0.2882733118597472,0.2923633003613212,0.26899189839098775,0.22946312728051127,0.26562185173314046,0.22847098954375017,0.2687621810067052,0.28284581024140304,0.3091394966627312,0.25802520524185674,0.27925938549724827,0.26298961552606115,0.24423576489279453,0.25159981477395205,0.2686311102085995,0.2373476588127505,0.24666270633610612,0.2404332088077375,0.3099421457371234,0.22916578394537176,0.2887165747262983,0.29487175033198126,0.2461966604062379,0.24417784900827616,0.2777062009030956,0.2838107035771727,0.2613659072559086,0.2504875713142306,0.20449015854070246,0.25279954077136063,0.22860677692483355,0.3050941842981474,0.3187886441019177,0.252325452837578,0.26693142736984593,0.2733657651076013,0.2829734044298445,0.2649662249698585,0.2513315327355655,0.27325945628254544,0.30184816792973557,0.27761359213642695,0.24439419793170303,0.2551818212625008,0.31057810305283806,0.22348753206404823,0.23400817097519547,0.21506315354657912,0.26540727432438327,0.28351093968766605,0.28409270701880457,0.2662582350928411,0.3133569267011274,0.3027955892174625,0.21467949120201313,0.25484788058068825,0.273661416426679,0.2784583946795353,0.24192354317383025,0.2600560929238077,0.2093765454767151,0.2955843750729454,0.3202003984475044,0.2358803529519963,0.28313808364007276,0.22005775677074962,0.2782490974603733,0.28186227915032347,0.22639576848916862,0.2687757562683731,0.27085150262892427,0.271214541826475,0.25566158979425607,0.26503901311725325,0.27421681620021526,0.21617919138564748,0.29366255147529424,0.2916052596142666,0.22751947441775097,0.22933693218656373,0.21594521903395547,0.29947045152063545,0.2821814844094795,0.2994238327205722,0.24009343678016468,0.24529286376054252,0.2352663466143828,0.22145777023113136,0.23322395347152852,0.23862241039055243,0.2602150275824883,0.2656028753085573,0.29257559155323953,0.31512538224866093,0.2777788667396873,0.30329728653551485,0.17551988718572298,0.3064708862893281,0.25551660979279517,0.28099211704791843,0.2471369389919917,0.24390364118791916,0.2615093736333055,0.18569818890849132,0.31347147050765156,0.28234416422634406,0.27163057684318287,0.2721550495289061,0.30067219564930014,0.2779848459787849,0.2639585296855323,0.27429797506250214,0.24884295386842348,0.28132276524521593,0.3034505542658949,0.2536743669446074,0.27407082045327846,0.22178414336473204,0.2203093254524001,0.2662708922412012,0.25995158927995404,0.29593738204808634,0.29270488441969966,0.2726644173033882,0.2895920529430336,0.23575395928233636,0.27053521989033624,0.260302822610576,0.24997924837760413,0.23797896318318032,0.32979933395332234,0.27472962558768554,0.23973373985092242,0.2697833386641332,0.3195198989411524,0.23571669734463838,0.22788308116104958,0.2589692857874463,0.27456611212279314,0.25092078726013883,0.29403481299679257,0.27454538065403233,0.2529434597671016,0.2351213001081688,0.24571966524066538,0.2699254420083236,0.25463885086984417,0.29245748613816375,0.2484699075337328,0.2373676822113667,0.268201628168957,0.21499029507373318,0.2947430069759347,0.27915782802405775,0.2612471690745824,0.2289816395582323,0.24418127802264245,0.2439647702729912,0.25915068627478605,0.27295614207375507,0.2760621114010544,0.26987652303494075,0.2669158857782738,0.2845656997762072,0.24983281776625138,0.2914597464768914,0.26580699538275343,0.24535411460852496,0.269254736959788,0.27448453686812047,0.2650025725092675,0.2715682503261496,0.2799401835239665,0.21382028782504817,0.2767251436050233,0.269022956798247,0.2348588896827911,0.23719268461747808,0.26315175592288625,0.2421599299352147,0.26696583444493155,0.25109969896208867,0.26517059021908895,0.24303147326943356,0.28567361232589833,0.3036802309810839,0.2806281136115227,0.2959946318250573,0.25886667036295957,0.2553318590951622,0.20116731808614322,0.23939251861813096,0.3131898261961764,0.3019635454996451,0.26976124099938226,0.1968770731517192,0.25120020603943893,0.20698441650556415,0.27256377259316167,0.24676244813350479,0.21803055766072504,0.2576306895795718,0.2732442107607682,0.3138313099634011,0.21983261482110772,0.2681545246011793,0.303954865987347,0.27613571715214585,0.23925247028492885,0.22073882275798398,0.27928816466521594,0.28284697674191184,0.27996438740376756,0.2666197049876988,0.30238469829224524,0.26571148690362645,0.250556019141247,0.2619678411632172,0.29567546161016517,0.2503044107022887,0.2319483173481319,0.240457745257908,0.277779595920306,0.25405356102007826,0.2618776977546128,0.23872597441915916,0.3106342245092281,0.27389393758739994,0.19974000581159546,0.3154304019729014,0.2993393072129882,0.2768640450346222,0.2538757488441169,0.279980592380237,0.25763400456044266,0.2457249906079704,0.24621705847363942,0.24577171345338367,0.2777098972718346,0.28818584564079996,0.2668751185251736,0.252009605689508,0.23938983790501697,0.2610969119949852,0.2548417407732077,0.23424714969379043,0.24478000748796136,0.2712683849010933,0.2037929952232515,0.23082607978884964,0.24021457641123553,0.25639048706680245,0.2713622120798466,0.23581059136394902,0.2802486885731635,0.2642274220789487,0.24508777940655044,0.2658983729640155,0.24803605382762908,0.2547420020663247,0.2600367896742782,0.28261943716180665,0.24752321618575038,0.30746808515433094,0.2699861668611638,0.3154176782458695,0.3090530757933103,0.2192149005340962,0.2158805355032888,0.28127071979648555,0.2751835834087941,0.2163094637212857,0.2617002557645825,0.21416501395732435,0.27979997433155707,0.3422468745985382,0.2594453786415814,0.2979747531279618,0.24615385011134422,0.2813093501410715,0.2784563211056389,0.28357402250896346,0.25763698868664603,0.25652875610647924,0.2752001383621907,0.26058248008382623,0.28626645370563153,0.2655959116996932,0.28308064738657646,0.26857786822704793,0.32138677672052307,0.23853920820116523,0.27712103356082074,0.2899341488796759,0.2756160370501058,0.25138799870078804,0.25346196411876415,0.29487289736926864,0.19077317256369278,0.2633383183292749,0.20824291510572873,0.2894390455775014,0.2720636693976123,0.23181704221451824,0.25128838202682563,0.19121014209445797,0.228560214180003,0.23754816587939576,0.2959086828960008,0.2609142986056503,0.25708495494764527,0.26594921600417676,0.28890151776449463,0.24195801751728427,0.2780467294792456,0.25965542408543446,0.22726024846667894,0.20644434938350548,0.2584449358858442,0.20447715362949725,0.25891051347644284,0.2176894603624005,0.24767514633698554,0.23444174306381724,0.23092249546586419,0.23783153703652316,0.23531915687816884,0.2691599625243249,0.1613248261401014,0.29649537297986167,0.22501842225142804,0.24981091832479918,0.2946844216003998,0.23683558640974017,0.19787788230931216,0.26386173346963343,0.25506629286502025,0.21888052804602512,0.23826940201291455,0.2265558978090648,0.25264356260731624,0.3223261340146246,0.24676492418951398,0.3213563207756175,0.26944538523815537,0.23834635066126023,0.2791735044796612,0.28315085740388046,0.23423790085121698,0.23900079656080742,0.2938586952908587,0.30635161125108834,0.2779662613575339,0.2556963382489368,0.268100043856201,0.2828974233889746,0.2733060566798447,0.2576935981596486,0.2593169484373366,0.25589516331481,0.2676388631946788,0.28508833633272923,0.2802881635831733,0.2664760711657367,0.2354633918847232,0.24868308484909663,0.24380009603959893,0.24799876746014754,0.3013110662566741,0.231537447469792,0.19021108367840317,0.2566025336030781,0.22783176444749761,0.29281178042928185,0.29316071356197654,0.2528709672466652,0.2759403530800551,0.2834426945884346,0.2842131297019546,0.30594819240904997,0.26217894279469306,0.32439117973432946,0.2951533811369772,0.246312331734224,0.2612686136768696,0.24236149171943305,0.24487345557979084,0.2937091761148873,0.23988949098706028,0.25346094905632865,0.2837513178565643,0.2543968493991045,0.2459728828264433,0.3439401958945078,0.31571364073407726,0.19715661506208154,0.2739420176055183,0.2890615579867792,0.23190059441737096,0.2419598151215651,0.24392195677435474,0.2502083523207272,0.2764803076592592,0.2801447293812474,0.19518265351945857,0.3330109853225871,0.27281768145205915,0.31593667707143414,0.24429792526867708,0.22677537739034648,0.25626217954770286,0.25365483300085945,0.2822656525989093,0.2719293905468714,0.24747248556450938,0.22840702516847783,0.19087750658811584,0.27060446199268284,0.26843007262719887,0.2528723133309676,0.2706751849035537,0.2713812975449265,0.3085934648363653,0.2739524084901788,0.22905786206242632,0.2545500709556026,0.2728700348097989,0.2609590700024284,0.25399515494098013,0.2545096157783689,0.23626021951489098,0.30296828848884455,0.2383438701217941,0.29927652678875316,0.26485368281093774,0.29812579525997146,0.2604437881712503,0.30920289316352595,0.21993825447643606,0.27097383468160463,0.23465854172154244,0.25466516328805283,0.30908255964155595,0.29150104024353524,0.2007658759121433,0.2860308015065791,0.22888651334724924,0.25726136958687146,0.26092934746007324,0.28213957871163586,0.2047179374594514,0.24620543374069603,0.19777852010306465,0.2338408164121715,0.27852552526519864,0.26763168334624854,0.23227783757797332,0.2887899726411443,0.22463453435486289,0.33599908145484625,0.24198259764984945,0.2730438168490901,0.22395390653374256,0.2525019637257235,0.25248943733760987,0.30362665970547054,0.2913709707550806,0.24164634718557096,0.2852110330903789,0.26514204159811705,0.24518766765900496,0.23290481413594585,0.13750570898871353,0.32492447364253235,0.25700988927357743,0.2595763760809927,0.2815441024546923,0.24102427738375806,0.25635966372375557,0.2616182290114752,0.2676536593124915,0.2625350290231662,0.22762908326010897,0.2503330196401177,0.26969908790896296,0.2649043531325969,0.2694998309356253,0.25674497973591764,0.2344580779929671,0.23598874065601239,0.271156539509169,0.2943976000975236,0.21140648521086466,0.21903786344589574,0.29897460013478466,0.25466037016646,0.20632709839875973,0.27966378469319925,0.2707381828420018,0.2802320779958665,0.2074137235039309,0.24565521062179085,0.23340722262242508,0.24418596752941982,0.24626912213839533,0.198321213082825,0.30354181919107476,0.27122182311848514,0.2468264876771367,0.26281605338521247,0.24889958393968314,0.24903672162015567,0.27073992030378463,0.266220009739937,0.2931239362680133,0.2679070611622512,0.2335758811114322,0.17047229745004844,0.2931657172896442,0.2658886089227729,0.2774907268738719,0.27377989137787156,0.28157324956851565,0.30148038935697075,0.30093537539536636,0.2337197178005452,0.2674602966615987,0.21142454920602,0.23277724511039433,0.24366927255835003,0.24482039796546368,0.2703746638172638,0.24177614838898126,0.24495325802757686,0.2609346465549388,0.28115556718016255,0.2522394950518981,0.28391657603095416,0.24165485603987374,0.3061022704916131,0.3133326410885245,0.31891583576624943,0.2573356119975594,0.25459856785991797,0.28404400311089706,0.28336680068382736,0.25249466906419415,0.21786801724769547,0.26455449371849304,0.2511921028601942,0.2668872506061494,0.27282408644825484,0.25380093486039246,0.32548669763288324,0.22665852757814575,0.23707243647104043,0.2440792453163841,0.24947178879469906,0.2359483477959008,0.290222535191799,0.32228498220925356,0.2657784988567641,0.27437549652064414,0.2521214705309892,0.2634722931385597,0.25573736697124705,0.23825496205267171,0.20922905545651216,0.2247700353265844,0.23506387846959875,0.2667560825392379,0.26034000973006044,0.2841358680788854,0.2611965733513427,0.27269598342825396,0.2691931763122178,0.24532467262173896,0.28830310149172955,0.2778082487753743,0.2855038067216993,0.32546754246832293,0.21498873118253856,0.26796861002928757,0.2914875093170181,0.29347833097925324,0.29126171788052796,0.21526772167848918,0.23051913868845872,0.2680005995117264,0.2902316664161766,0.22910712846877565,0.24585319788720178,0.23716082912515898,0.28993315113755097,0.22073985401200594,0.2174774491947152,0.2784698706305867,0.2541410107443923,0.2611147899617524,0.20842979576896412,0.29832041244693547,0.220785035475925,0.3127487221670374,0.29172009523137893,0.24084362788927433,0.27353236760505756,0.24464022699622262,0.23048110217377732,0.26222507629216263,0.29967400514268466,0.2803367617663646,0.26633234259675603,0.2808691457044911,0.26308740890997545,0.21456403325896717,0.2981111222317255,0.23343265652312428,0.21154087937240462,0.24558595276505488,0.28783382279176417,0.2937553328851562,0.29857927003992735,0.25685042283623916,0.2928106853860688,0.25197535284419764,0.2772991528721798,0.26636656161620803,0.2527795131528891,0.28201518045798457,0.17646680737348194,0.27161026030750374,0.24427908228130413,0.2450662213368765,0.2422581110461448,0.29767948027046903,0.29183616897602915,0.2628233333633901,0.26116041114095834,0.2069865071297949,0.20101162458357896,0.22054240785248186,0.2579103768745353,0.27413111916761346,0.2458785446277807,0.2561106112869417,0.26606502181107683,0.23017774344343467,0.2744965736461638,0.284446575637752,0.2351037674360623,0.27573089411917223,0.26377809424855014,0.25972280706612977,0.2768384768877056,0.27123960895816934,0.27296230979298935,0.28671726900704775,0.18641051127783692,0.264353247445965,0.30504443844800017,0.27136583580047124,0.20779759431022288,0.30578961326499565,0.25773596628318224,0.2695114362026059,0.2556143790148928,0.2410133629656551,0.23244483202646768,0.313639970696865,0.2938887373475902,0.2524762535986683,0.31780273637808615,0.2701992635251276,0.247714686763183,0.2437386430972201,0.28658714991827733,0.2782358754715313,0.25866702897737825,0.2815444144600338,0.2802026084828465,0.31359930912534567,0.25422816105457907,0.319767681703853,0.2775802197046745,0.29177260256919385,0.19383790998925554,0.19919165025434102,0.30428318997414905,0.23005402975400438,0.2694709808861907,0.28678697264480585,0.2604076231480272,0.23472759838592294,0.276936829036275,0.25490923263173415,0.2595166490052039,0.29854514384378256,0.2615114184667545,0.24192658923186464,0.2120811481679339,0.2966996519750419,0.29699438298727704,0.2597697771828679,0.24775856470693686,0.3499900912811934,0.311125138250043,0.27242748375336423,0.25564400082754923,0.28207914831619463,0.25826885832720975,0.23381598912528134,0.28383003913204863,0.1964138846664603,0.2618505142372786,0.26029990598108166,0.2851243794111312,0.22893787583687142,0.22622229349519196,0.30427338966789613,0.2581747572058525,0.2508819282987597,0.25595210611656044,0.30897697895640797,0.20881512539147518,0.20496977498227084,0.23680095376187196,0.2608033237768496,0.2821553808885255,0.29859143720833164,0.24167142958522517,0.28588299143576856,0.294834715712375,0.24522441167597495,0.24366840549844393,0.233499364258342,0.22006719440235473,0.29920895847714446,0.3053915310319307,0.22873738708187275,0.21591121298132868,0.33411468349160234,0.28928025974323085,0.274586218465724,0.2557280163100978,0.23175054100396353,0.2847549183942448,0.2670413123371198,0.2781990856398361,0.270945830937541,0.22158674202652184,0.2768303517523013,0.2699379273684063,0.30024701359016626,0.24937506196872944,0.2406150228307998,0.2972672430154081,0.27378265549676417,0.3324522082161623,0.2591550339531844,0.2498825486635659,0.26979830139974365,0.29014396227637695,0.2536983473717665,0.26881551370284357,0.2730346167047632,0.2726120216685475,0.25467144655893614,0.2892738066641715,0.28882635770058507,0.25623977556471306,0.23201641762923533,0.28483849795601934,0.23991543825149445,0.2992030386074456,0.23125434221465496,0.292091189205644,0.29713686037443066,0.25617926465887725,0.2351034572580471,0.27119413147318544,0.27896544818646096,0.2364466821370404,0.2976886206278289,0.2619520824935922,0.2682895513226955,0.24543326298349732,0.29844470229263387,0.2194819007039653,0.2716224964844072,0.2747291622937407,0.20988290349519115,0.2261573922439001,0.2847303981543158,0.22971919176214844,0.25719283567340323,0.2251936940301263,0.2567151051355665,0.2541414202596321,0.2666899364841438,0.30218404706292185,0.22958787664179936,0.24608088355123942,0.2821921906250523,0.24885910234715314,0.2471017948559957,0.15308845896493442,0.2354738588407047,0.2914651136115183,0.25072105475520223,0.2947443203866171,0.2527165732579362,0.2010491129076153,0.2941972643190508,0.29397382468173994,0.25546004435390485,0.2351430086675045,0.2523067943922333,0.2634602375407107,0.29326955991306813,0.24075981674866181,0.3174396764619947,0.26812434418613756,0.2917867703087145,0.2639620389452918,0.26503695245453257,0.2834852611582667,0.237311354453925,0.2555684617154255,0.3040622923833879,0.21368282991580723,0.15526558978212507,0.23606330850510493,0.3034513170509039,0.3024422094088783,0.26321909983046626,0.26302720422329423,0.2702317368254002,0.2915755732296402,0.28309576097356687,0.2315488194640899,0.21800825141753652,0.25287236497151855,0.21887802626846586,0.3010441345395788,0.23225609725568003,0.25543257831972405,0.2708151247295784,0.31064596140234807,0.26358258486252145,0.2543924632594371,0.27374104518362263,0.21093388416280268,0.255986716661591,0.242598415794953,0.30366560507984963,0.29744720262658114,0.2561339667612369,0.25651538805899443,0.28935410615906904,0.2575485793725939,0.24726720174996555,0.27371356785842066,0.27097641292220553,0.2695347957879081,0.2710494786838588,0.2825162426582126,0.25064549577087847,0.2762333897775398,0.24516346189417804,0.1819079351908927,0.28099392923553984,0.22602755593832474,0.31441351566130343,0.2799391799460689,0.27182709046283177,0.3005282319515068,0.24197388933462954,0.28126187548907067,0.21036280534308185,0.2981383486654101,0.31109317313237583,0.285565640097502,0.2046034405897825,0.25528742498536394,0.26581192191140857,0.29033275041978973,0.24749537545594333,0.25762203019015245,0.2908191935187016,0.22422435837368715,0.25587771886573263,0.25276058797435386,0.2541898192108444,0.2634370042995523,0.27222701361904855,0.25253579205234367,0.23866871885661028,0.2743879722991363,0.30982167314969467,0.21895071148303077,0.25524778607453014,0.18264684420581093,0.24508833626982504,0.25331965991200406,0.2575560643757722,0.2876111605986574,0.27169017500367104,0.26151538415468284,0.2599128777730546,0.33043343494462185,0.2522829668675905,0.2715471229878611,0.2885744602242823,0.25506038595628944,0.2483819419355096,0.261213384268002,0.23570849034102873,0.26417948530698937,0.23352066540372662,0.2190043823023421,0.24951396513960164,0.28784620688100604,0.2743040770122516,0.26675806168150373,0.23592756620892122,0.2700576606123923,0.27014357201441064,0.23432213882605749,0.259775542147205,0.22883353593023248,0.24593088679904382,0.2417353203996755,0.28993444603905594,0.27094727014089165,0.30795901919900653,0.2553343572739028,0.2794831926290201,0.24879941939655575,0.18143611179026242,0.2577811185401256,0.2588858180818522,0.24249923457356026,0.3302040307220436,0.2679757554042312,0.29435894749709174,0.23465251878430535,0.3249770180416277,0.2501020600472569,0.2561761151199764,0.24691535203704584,0.25166130851237584,0.23994884658299198,0.31080543979557224,0.302024618649138,0.2956897160978764,0.2631272884231924,0.2898865093992571,0.23711343384364453,0.2003136146370308,0.2350269819822712,0.3074297845325048,0.2613201217550554,0.20366583532881602,0.28776055085120406,0.29400966557418085,0.2822616251953841,0.22805453301753875,0.28465978649996837,0.2588660740440833,0.2590153765515211,0.29275098959504936,0.2580496474508113,0.21394650244026286,0.2744304943820462,0.25754733271704505,0.24526131744720225,0.20842470077286018,0.2824324069717259,0.23028709891390464,0.23278271747843915,0.26311239620816124,0.24782413232192382,0.21117254533523638,0.27377692437785806,0.2847329225949311,0.2548957053384935,0.29046128170563956,0.21872300062087066,0.2567912292561751,0.23635731916822383,0.3223455512510774,0.264021583827309,0.2415479695129593,0.2504204692723947,0.318147766651418,0.23712456069043952,0.3041991361670986,0.2627165636427484,0.2645135142324118,0.31892819413927576,0.30591397396301273,0.23894567251820878,0.2859384887796714,0.2399011293919434,0.2321772135323124,0.3053699037401619,0.2801270043686188,0.2771768391949392,0.2551456421679348,0.261431190248208,0.26000294973870147,0.2662375462208563,0.2400105233135614,0.29009951549159824,0.23173426600198332,0.3135688365220795,0.29030115011097996,0.20184726429541086,0.287025692887032,0.24856506432257083,0.267441671927206,0.28694478648559635,0.2940653429487395,0.2915882289259963,0.25848156547588674,0.2666612671652169,0.2926828009767529,0.27058839539664836,0.26193897534126326,0.2819750261806741,0.25588734915861067,0.34427040926029223,0.22496083950131668,0.34142596556740545,0.33174666426408944,0.22851744675313537,0.34474771746768557,0.30022908936668025,0.27090497211927256,0.20417050178130913,0.24404097709372688,0.2658319376112268,0.26679920260441703,0.2643699017307623,0.2851066202783972,0.257749348126331,0.25579999135984544,0.2939994361749818,0.3088523712797891,0.31309438998718403,0.2641947956052948,0.2333533393831769,0.2565953377031873,0.2946751138003857,0.2303773330133755,0.3215611216426484,0.2254048046941434,0.2471508684598366,0.22286613844227418,0.23719867849311824,0.2417106704111558,0.22574570537890418,0.2803627682141663,0.2432769836154287,0.2500773210588257,0.2279164487244151,0.2677159264311708,0.2598695604171815,0.2478740614211121,0.2515957292290249,0.296374460413008,0.24460103097627048,0.28552763045394786,0.20693954502037012,0.3132347318230456,0.2537506952134518,0.2535729263123263,0.30782128560413197,0.17014771171878312,0.17430960315104363,0.20907828243015422,0.2633166226983499,0.23349143936115202,0.2096483532229838,0.24775229114083008,0.25615793357347666,0.22340367833692737,0.2848714940826605,0.23833396427827355,0.2321301552277948,0.2942253336473953,0.2780589365606149,0.2534725498009105,0.2578409311874048,0.2506021325905964,0.2660593468132448,0.3223332364107894,0.2438233662034551,0.24085029535821414,0.25356077992293863,0.24580614032850404,0.3114693916537239,0.24952956425060227,0.3194859015049411,0.2742793253731276,0.26143078258219005,0.2749714054818083,0.2722952786229987,0.22332126317923678,0.24807256831602223,0.21708917726577584,0.2666989570700341,0.2631671319127932,0.23513054610763845,0.2614344684193735,0.30065453813888376,0.2276257427357798,0.25014813503981076,0.24636808940290073,0.23745650783194944,0.23005718293874072,0.2387392432082682,0.2532159227621908,0.2939309035280129,0.2655133714640348,0.2717346787417158,0.29258512394525593,0.2934767116701201,0.2471182742502027,0.28014660648892403,0.21839646584779968,0.2599263731684634,0.249641081296899,0.22478847085360545,0.22645357700063032,0.2642211075442201,0.25928965184850006,0.2453263341177729,0.26446063458539054,0.2923679985043795,0.267724495512911,0.2433406892288754,0.26606362689007207,0.24912321507455318,0.3089758037263469,0.2739259259580167,0.26996620316548225,0.24568864132465595,0.24932761479442286,0.28476386540781873,0.23872101614414554,0.2652245658900754,0.2597194816571904,0.2858335085345247,0.289028862389247,0.21376033971182862,0.23928541687890925,0.2640245740920525,0.23804387971072702,0.23235806745956503,0.2030709222599763,0.3185571528828966,0.2553098909067719,0.32167028000467657,0.26604848595165087,0.21977878958017788,0.24408247276690806,0.284705169708073,0.23725738913292255,0.2808893560781599,0.25616274578394316,0.24841211276944486,0.3561874988517501,0.2844384958956042,0.20716775070016802,0.2329690856946402,0.248869391800863,0.32616808839885153,0.2642340836783532,0.25057860560934114,0.25617138353084856,0.25359437555037095,0.3399574658800694,0.30034286972863167,0.24583963766198422,0.21863294476137587,0.23685692653227478,0.3192860016423301,0.30405609319438337,0.30833382796903813,0.27172799376514273,0.29396937467064793,0.2824022519110234,0.2404839479437484,0.2793253137282628,0.2661457765306907,0.228965718372026,0.2106454928007892,0.30418571073928957,0.25347280684927864,0.27010448503573165,0.2605555171133688,0.301234095965556,0.31834979149387693,0.26097644585747304,0.2544342147709948,0.21861979371439977,0.21474433360789524,0.25918961240859606,0.2538662651255593,0.2522474309685548,0.28627266017407593,0.2763207588871277,0.24158790659765697,0.30349553782205635,0.2388604927442314,0.25986122264274275,0.2598356341134924,0.25667882025648514,0.2654630490467977,0.31403432859215286,0.2512844908168048,0.2511772824418054,0.24633755734250354,0.3174879524463145,0.24174861839269554,0.26049484235292025,0.24374879530016863,0.25515977157472497,0.23539963968878294,0.23803600007531142,0.3077281287558535,0.2741660808573837,0.29003209525407875,0.2916956540833818,0.220647686530555,0.259630571484275,0.2880054502965147,0.2576029822651631,0.27484391190493096,0.2562947924362416,0.252311814698717,0.3054487425396296,0.24754914730958372,0.24925075050366524,0.2575912069508958,0.2648227961499342,0.2676831944525162,0.2955040022624728,0.2760408550700775,0.2312836841892708,0.25277133869588164,0.26366920200398014,0.27478580597894103,0.24607528588072453,0.24057904136787153,0.24755234892470993,0.2753754584907783,0.20346570589510862,0.2690216035882984,0.24276119824780634,0.3210771158867962,0.23981160942364693,0.2625535881613453,0.28998695660184903,0.25625337871269077,0.2763295447591118,0.25695570677971064,0.2734617450752138,0.2898924112728648,0.3256050403426604,0.2362028028874497,0.26492331002284253,0.20778467395905487,0.3412687928536952,0.2713006615141632,0.3034401481062514,0.2836482822987608,0.30212853115049354,0.24484999206419328,0.3258692607864759,0.31543301165067616,0.22962117304609037,0.2629377088566406,0.2625102622790435,0.23284007300063408,0.29750055639369055,0.24578560790709944,0.2410536020483927,0.2693651709671759,0.24434312505140207,0.23415467860140005,0.2484033757554216,0.2391596011686996,0.26115977265250084,0.20778427685801854,0.27003028586996075,0.2486350196950289,0.25459773381700657,0.25866776657509555,0.20639885845213587,0.25496468984720744,0.2349530629163397,0.2559527799037127,0.25118562031293645,0.2780574635708316,0.26413527289959027,0.2785113973681879,0.2542641881978236,0.2854598698229798,0.2637849165674066,0.26469656580692275,0.22598279440334,0.23795828441396832,0.28971184101757447,0.20443574981676707,0.23018621133327635,0.26144598623355836,0.23999202611976542,0.25975228065432165,0.27705114437782874,0.31574588497869815,0.251099877471653,0.2996746261395287,0.2873676149570268,0.2373526489905725,0.2479276938491788,0.25173861885022225,0.251781568356662,0.2295553704095123,0.2727939932747646,0.2487400153188593,0.22502866236890162,0.25800681427797306,0.2819476149056337,0.30409741036802057,0.3147386602666731,0.2626394888199184,0.23506178741118205,0.27814250821448067,0.29026292706307344,0.2616636766016952,0.2026656327093291,0.25005786603266833,0.25259005356387554,0.2597788977555152,0.26402857335828483,0.32692214945557324,0.3044165960803136,0.2415142678379343,0.2709769109081456,0.2708832872909977,0.24071744620636265,0.267169036503838,0.2863694682072238,0.24727575356084933,0.24660658748569605,0.2577667325848848,0.241546419705213,0.27918801138891863,0.24269811352394755,0.290069930878745,0.24994689472193024,0.23636862412562892,0.2790147042411124,0.23278111534724988,0.25321183048109025,0.22652859746964854,0.26647227187751127,0.23323042395523932,0.2842449964601482,0.20782495162602635,0.3097621118729046,0.30824717037417865,0.29156084846691427,0.23588036342890265,0.2507374629534435,0.2702148988596814,0.2529536829422216,0.3019301875335393,0.21843859257265255,0.23505320380421113,0.2001135945847663,0.26143692787115735,0.24675440587106887,0.2106980012872826,0.26523655909829147,0.20253379307717354,0.30775093358207756,0.2857025086378905,0.2611658022182926,0.269113594056538,0.22289254761772756,0.30955110482054365,0.27313462088782253,0.29338282720824854,0.2952837659143954,0.20822261413491763,0.2610335119549249,0.2758836057913908,0.20088710170372948,0.2482512195001177,0.23419793783881093,0.26836515962180596,0.2793023833932163,0.28245047612529195,0.28916411752960924,0.16264071610155023,0.3063817987995813,0.23353457558619595,0.2627837381311745,0.2464998800932593,0.2676369619930468,0.26871203959490547,0.24666670865109142,0.29166711035509696,0.32341416620249963,0.22561665711816134,0.2528551548291226,0.24957282956474122,0.2843301491351638,0.2616409913780214,0.2613516489145315,0.2756140123780114,0.19713025049168542,0.24302008202720946,0.23819608785972465,0.23969517239813334,0.27607441796068904,0.2771681008990892,0.3085379154336755,0.23707976298528335,0.3021971650233361,0.27911123606328037,0.3051428136107248,0.2686007192738794,0.24183006401817778,0.25743562984454804,0.2205492918822713,0.21491249715271862,0.2667208033837358,0.3084432707210592,0.2894094758735477,0.31724123941679266,0.2086213104198408,0.2731171296222006,0.26926239356704845,0.2897813636382975,0.25337036567730403,0.2865056784558695,0.20871844934360625,0.24696508810182194,0.26331692161235853,0.23893592079984502,0.17716394306892394,0.25525795830404485,0.26688750412705714,0.2287560321345165,0.2597538132026703,0.2823800601199121,0.2756620090895457,0.2966918342129975,0.2927005028895734,0.2626490308361823,0.2748126264039948,0.3074302660416563,0.2566304354229704,0.2849949690671413,0.22836631569326812,0.28741579333883566,0.25009447734000345,0.2704048824082144,0.31528959718611477,0.3008735912436943,0.26725412134905,0.2731379617216759,0.20131491814368574,0.29219730047544196,0.3097096223645324,0.28832158077982234,0.24473717070548248,0.26640430110710467,0.22473342475479094,0.25486990098625895,0.24955713986336228,0.23695534183119393,0.26441223058744934,0.2800765989080235,0.23874826052085366,0.2949607128034218,0.24082392222982726,0.26483492800006136,0.31153502258323035,0.2562679965895276,0.259405303907282,0.26225540913658485,0.19542265920921625,0.249758394456706,0.2397359289485581,0.2660357461541376,0.262979598719816,0.25666165632045934,0.24631956226698373,0.2692461462589799,0.27870705644456745,0.2987025740684986,0.24977702893496345,0.2470918978440084,0.2894702174616614,0.27408323196025736,0.26826984382032315,0.3006890461039994,0.24977195333054095,0.29116498927821327,0.27321056312613545,0.2417279070074826,0.28063101771075816,0.24423340861089649,0.20064096066263487,0.29203701220457157,0.24369907551957765,0.25647802573472267,0.26389533421227374,0.2833465543478294,0.2561624032382347,0.25578652162458915,0.23477021761140354,0.2701587286121208,0.32689799213849585,0.2668398048213377,0.22257563687395404,0.28319561570709983,0.2947272477532655,0.28309870809197063,0.27722374769015634,0.3150362817723998,0.3029529151113703,0.24504614483622914,0.2788204157397237,0.22795963754135473,0.30915499839649985,0.31181304853151204,0.3177863954286393,0.2327901653130662,0.24132268301570836,0.23750358867456592,0.22182109817794085,0.26467437499809415,0.2688190318939655,0.27735889384661905,0.24798720837724955,0.2987185167690214,0.30656302100782323,0.27509958996401357,0.22485519827420414,0.25907718436526855,0.23267647126209187,0.2799861274473571,0.2760920899571206,0.2771973315481093,0.23828438977228608,0.28190851442092446,0.25613628536614186,0.245785127096426,0.3081594328265755,0.2872745885281253,0.23498964474915404,0.27804729263761874,0.2574070097596863,0.28866629251262427,0.28459368985683453,0.2947233778780473,0.28114694539815277,0.30494099983014333,0.27314687739756355,0.25755991753355956,0.23145882982783195,0.3025344150055142,0.3018957705310694,0.2823619712934645,0.3090281180727226,0.23000042778303426,0.2718577618528766,0.28889107458161445,0.19992940831411374,0.2641550128196437,0.2692095029923089,0.2716415285430066,0.2996888490482615,0.2710183759586912,0.2657448616734274,0.24378140234477874,0.205138871406525,0.3060810528623201,0.25123608347839177,0.2657826506473407,0.27484299220273806,0.24550055582913788,0.31916307954374273,0.2025155157864595,0.26937916852958804,0.25165790772785823,0.2982922031845876,0.2563690382674556,0.2603824853254146,0.26640084361785615,0.29467358872456184,0.24452142651646677,0.25603342700522186,0.26427326529855133,0.273703712780537,0.2783348063872688,0.2506942937100752,0.2656517983770129,0.237033096199553,0.23521491283134205,0.26359162397049524,0.22976130724231708,0.292371786486312,0.24501022724081647,0.27266947764804983,0.25998345106842474,0.24726253287017153,0.289758675586704,0.2986281029652765,0.20350621241991432,0.27653723496236365,0.24925180999881058,0.25110142705646815,0.24535439251842556,0.283078189924647,0.2755510175872336,0.25211344421580534,0.2541288657962083,0.28335173552967985,0.26105535255633866,0.29000755052652344,0.2274984119469438,0.21190305153693617,0.2627554999934707,0.24707971678651294,0.24921598947454826,0.3023349237334016,0.3105569958117675,0.27270571796296145,0.23820099330688654,0.25193528844387747,0.24384646784026695,0.2451686602848849,0.22152245101843462,0.2765831449812379,0.2259585195343889,0.2948368631272272,0.23991779220458687,0.22050382635866778,0.252072431888483,0.27122219354934496,0.28424946268750095,0.24741534798568743,0.2774138658634216,0.2657462015967072,0.2521692144467531,0.2557799841275028,0.2633116318932032,0.23745773129583997,0.27493745534949404,0.3073139764845907,0.28373649500541165,0.27306511955415624,0.25979633320574025,0.25285423909558724,0.3314110527323956,0.2852590633269148,0.21338754631961698,0.26950928950005676,0.2611143099771089,0.2902004050924526,0.2681372500513198,0.22375450779678285,0.21636862881927316,0.229049169234644,0.2838821411015087,0.20437365862144638,0.2977986605020707,0.2848986430723596,0.30169916028966093,0.30694247465244706,0.16561167287257755,0.2229094914327152,0.3068339867931748,0.21569504112410182,0.22649360937776547,0.26634612797381374,0.29899051281301525,0.2614481054648225,0.2949950239690299,0.21591551254972147,0.25100713468522445,0.19830138128628894,0.2619828156294349,0.256675323502711,0.2704890623107568,0.27779026475173274,0.2555459227366086,0.2508519246626714,0.24907126577833663,0.24054284077879698,0.2302954032041781,0.2827342629385931,0.2727647600871345,0.27008154030105325,0.29322280724032435,0.2685174628144361,0.24495504090862835,0.2640123395211702,0.21133172160385788,0.2259632694416175,0.26292446997645497,0.3036293742377736,0.2941589148663854,0.32523556099751993,0.21693455683477808,0.2581111493742238,0.27818235569932015,0.252391800868629,0.2594743353411304,0.2936944820678769,0.22558855399362765,0.23452137617643998,0.23091723593426516,0.2866335887613756,0.23344541321463527,0.25258426804365947,0.2600235255452894,0.23096570349589202,0.2477707537900275,0.27348611025732694,0.23926892666393562,0.21052881781073995,0.2660703662774303,0.26229376749650585,0.26186108521701845,0.2524538679784505,0.2409111686262873,0.27666964347201484,0.29847560913348126,0.28807926883918034,0.25855904267157126,0.2465732746838008,0.294501382826789,0.27386590505545544,0.30928947517554306,0.2671583326957297,0.24402564962954265,0.27821089943691596,0.2439951127721179,0.21535431244945438,0.21697163134919825,0.2443958760113961,0.23957503191567778,0.2623856847107612,0.26354319968030565,0.2691401643093076,0.2989139649523305,0.19442751497122518,0.24897161893645972,0.29883847098011396,0.24556212593933888,0.2529474513746056,0.28985692861064,0.28034942831069765,0.225205204795272,0.2787733364625292,0.1816526500885088,0.2179452819234472,0.19219762326599021,0.2287071544815835,0.28398303079791004,0.22639863876118202,0.21194309001125397,0.2581471082792655,0.28670279570705276,0.22848511522165116,0.2802613308006349,0.23979719289678883,0.2961516304965383,0.1869039083332811,0.24109052074173407,0.2618327555769001,0.27784256876254876,0.23594854150787964,0.28520054161910147,0.2695512777300689,0.28956960771151063,0.23703414440059734,0.25658127195242836,0.26087527960028073,0.2573371517387923,0.27713413479425836,0.2501145219571297,0.28559970591455264,0.23851789268045298,0.21272218036172838,0.22007819026372757,0.27043975236780265,0.24991798961204162,0.2629292163845297,0.2404835822580747,0.22671019824117622,0.20230363055205203,0.28247559287436974,0.23696233330649655,0.28340689276975445,0.2607055632368238,0.22057801149572484,0.19765527901721874,0.3095627898808057,0.23568635864838539,0.27308709119461066,0.2608039987213461,0.3234101715561701,0.21632383584093828,0.25514274543412413,0.2313744111362175,0.23057574763797367,0.26324197721927883,0.22660664519070603,0.22739227181061686,0.2807099871439836,0.2611195474263937,0.24709056540686028,0.2253892397976434,0.26840961715918177,0.2633300556510015,0.23935918380293875,0.27480960510297886,0.2853552517990123,0.291345124941409,0.22787170485435243,0.22103879192125514,0.2075583219251647,0.23715566546331068,0.2748220393498313,0.2936957751493368,0.2578010221059921,0.25974425718625166,0.2349964361211847,0.2810375057916648,0.2978503493507066,0.25006755304924666,0.30126980407751186,0.21596516924841008,0.2571048243004317,0.29177330707174576,0.3132303755786689,0.20254200606111394,0.25732164874235863,0.3115885376789801,0.23854483915953562,0.30235332529014625,0.1925636468130178,0.2201581960119596,0.26563744403627704,0.2584446643179085,0.227771958832716,0.2684734988998822,0.29805466317403034,0.23419945025356212,0.24781160057789972,0.2732754841964949,0.2724161964321315,0.25496763179683746,0.30087526086126504,0.22840120491325375,0.23171902432606978,0.30870601669790354,0.24615955765295877,0.2635850344238778,0.2335072044133069,0.2544353326728729,0.21167083797501907,0.27821263438460986,0.3045962419215638,0.2739568565743208,0.27960217295322043,0.2534107194055111,0.22688368764979924,0.18245585339649945,0.292508334676417,0.2757320315069101,0.2418699480080056,0.25660989026858017,0.22162913422334776,0.21156346845141766,0.30021016307002596,0.26921681021041316,0.19888773923941286,0.3046066967569426,0.2622306921458173,0.22912687448168112,0.29411487391175395,0.24703851017755693,0.2540875152911065,0.3028911904469234,0.23630612672549622,0.2375044244718653,0.29929522120276864,0.2819951393484391,0.25749114340650864,0.23315010746403805,0.2373401402904192,0.24674544254928893,0.27072233239672694,0.2712288157713399,0.2577944207775286,0.2861202602140386,0.284582329867808,0.2646172589247595,0.29322221434914303,0.30366710832257404,0.28213699073848947,0.29047678789894515,0.27004131135220355,0.24354523424820412,0.25929850058045273,0.26898968411113144,0.2288795251840969,0.28955520729279954,0.26784330608262136,0.2862065970471787,0.28600039713190223,0.2821401212154724,0.2705304429612341,0.28425535350517267,0.23485534017457016,0.3257486039245042,0.17629310463930528,0.24130701002677551,0.2722155281301904,0.20083994792866078,0.2900676956845673,0.3074834737787155,0.2022889445371043,0.28250047454724475,0.3028056052765953,0.2751718098451917,0.24734712013354512,0.2344268134365036,0.29139807563099984,0.21965487140282636,0.26424117295682276,0.2782455470040544,0.2715042364542818,0.2645000063243214,0.2570848280279154,0.3027821800745908,0.2758576559227651,0.26471402484065404,0.2625850987519198,0.2342529272255128,0.23440213631400406,0.2516202034907941,0.26843172820620775,0.2493187716496649,0.25420822496349393,0.24703550510266564,0.2538162558596052,0.23280520773646157,0.23685211203506398,0.2558974915646367,0.23478293771479902,0.23038759635220477,0.2404787744336091,0.34761243954506854,0.26911736284814336,0.21519188185080043,0.20446227639463047,0.22893582917378485,0.25868025375726333,0.29854715925269737,0.2686770958656819,0.2582374314309012,0.2845327150569858,0.2919884498394816,0.2724869612250085,0.2718670242018657,0.22143347830794086,0.26449981605830913,0.29509045868688516,0.24903297079797548,0.2558504035901136,0.2875983853823712,0.25436421058023023,0.24565934747518628,0.2554801545858529,0.2528272474758197,0.22917442619279946,0.2910309322914677,0.21119511043580447,0.2821628018552555,0.30706114426093,0.2548260874649697,0.23807592276894157,0.27164624777589935,0.23549252298437726,0.2810681602114288,0.30146558309477584,0.1890915933112587,0.2856025369482208,0.2701485665427213,0.2313903812014251,0.2658029457925456,0.27360325162474475,0.2706255149615425,0.285487417354029,0.2638786876603817,0.24119618894713357,0.23602603293372565,0.2709113661595543,0.28140627422066533,0.2714463312012674,0.2964617541626996,0.19751604436188147,0.2565245987236181,0.2847443318072963,0.2648917446874409,0.29713181408042194,0.26067614561294533,0.32285535070832183,0.25274450945602484,0.27532372802086946,0.2578558133387481,0.18361151840337547,0.24171765049364383,0.27669533963735965,0.2684376457476423,0.3069152430422532,0.2548953030781258,0.265851089764446,0.25146680282460904,0.25716681875707365,0.2733539934628372,0.2659408661184759,0.28006607862938576,0.2902799839582079,0.26573230243322565,0.25444959902056496,0.26691393174604205,0.2862430560459546,0.22404090546994496,0.3000725840989005,0.2950141937873903,0.28087177473615155,0.25078366131710816,0.23203295872822832,0.2822287828083521,0.23675544359582323,0.23253818330368553,0.29420224455820704,0.2859741934219352,0.2887772254657525,0.28970001721218386,0.2368310211705912,0.21790710443031414,0.24859938337200493,0.23323199418494253,0.290214322582832,0.22241472232063358,0.22742860198749296,0.2279103740977559,0.28140189581332203,0.23802629592417227,0.21391879697557914,0.2550667092477822,0.2860009758606394,0.2541993066098537,0.25948101855280264,0.29545179447485337,0.2470385682914507,0.25895862904995803,0.27507510745148983,0.26873885683551435,0.23782393940199414,0.30127899913800843,0.2514801853109324,0.259191514308145,0.2670479958484286,0.3122476323736908,0.22990039155198816,0.32644893326448277,0.275598003785332,0.20878900420866306,0.22261572863359924,0.2342246072631742,0.24574874883349246,0.24178178933250266,0.24564321843688758,0.25075233480775255,0.22501385893426487,0.16116716587353322,0.2983904669237648,0.24818543084918127,0.2668087983676065,0.2752144504434461,0.2634861581594824,0.2717520634336283,0.24247699851628707,0.23326324847308852,0.2934679129034784,0.22028984293455103,0.3144257449414084,0.2429436180183801,0.3049184569033833,0.25367587078788084,0.21894232767823105,0.2786790928809179,0.25587510927015505,0.25255837164754646,0.1953974947324663,0.2179210770622832,0.2608867296155972,0.2624545026244842,0.24325609763074615,0.22667208135978456,0.29620718842652216,0.2598797232118902,0.27165801408680856,0.28372186058597687,0.29564837884435696,0.2514820333895199,0.29538835182405854,0.20863740698562844,0.19760224682015992,0.20709801829630298,0.2550161545255425,0.29033938276200705,0.29667096867897,0.2874095524312938,0.27968613211857335,0.25856768285030607,0.2787218548652196,0.27053629878801655,0.2803907435087286,0.24317859731093563,0.26067527952013503,0.24602152185250908,0.2456946620097792,0.21479488782957903,0.26220170413052984,0.19326930221796085,0.2506354899909207,0.3092716117882517,0.2687491218449227,0.27095583640123344,0.2436182190200109,0.28909569697054666,0.23748167181674745,0.27561877736222035,0.21745826429051646,0.2992618183884822,0.27255654999142304,0.2884174029695047,0.2463464467808746,0.2533042076055082,0.2240246608417836,0.2633658913175684,0.32371670994728335,0.22924061075403337,0.27251286500992494,0.2955896124009564,0.24327120559628854,0.20696285378981125,0.28139944585854704,0.30981098435367,0.22618327662171578,0.25657718453291717,0.1999941499741951,0.22640857445103868,0.24015359763518498,0.30158290928255943,0.2605068656484241,0.30659446798353457,0.23605439144008214,0.28983346784552566,0.2642673304010453,0.25221935398884326,0.275580147333594,0.27262879921619354,0.2686074588911251,0.2505564902339478,0.3391754464288269,0.2222165777765096,0.22103512679645587,0.26263589857808556,0.28256776358010666,0.3110325803480746,0.25803499123561296,0.2429396524588538,0.2809483014372836,0.30363200590572825,0.2891014783154929,0.24526462493741918,0.19021344500085793,0.228925821245938,0.26416973832851104,0.23565997060080976,0.30356082484083274,0.3093437079322358,0.23003002532410644,0.2809137632908438,0.2709406497399045,0.30263839968746403,0.2997251580699385,0.33237485366006025,0.3036251299394601,0.31072655727933374,0.25209117638938205,0.241172297243392,0.27163337467429993,0.2677103702186964,0.26746684650604097,0.28697318236546987,0.2751847392902608,0.2946953525278718,0.22679469498473595,0.22391455108591177,0.24401437123933611,0.33216563669302873,0.25149489603757236,0.2495229191054242,0.28082190612717417,0.23611546555765733,0.25844814112786235,0.28675740744082207,0.2812377329666038,0.2565307731443806,0.2874250775619822,0.25975507371118084,0.23748043372887861,0.19506504448120632,0.2389589644926201,0.23558604070837566,0.2293507238230157,0.2782519974740588,0.2677722882597203,0.2583448980486719,0.23610302900326352,0.24697736192741898,0.23604969396249922,0.2619147099460214,0.3409111225682642,0.23238808151684032,0.2402225226756524,0.29756168499596136,0.2201520781615092,0.20837129685333136,0.3146462063076903,0.21383347923528745,0.25139350144934003,0.2775613851527412,0.2595908954396042,0.2672667048162582,0.25269974709546383,0.2740549062830258,0.2404513400922415,0.25312385884030425,0.25976703404205503,0.2635139414080516,0.24194815738083814,0.2716334455379451,0.2553743173178128,0.23140016781162248,0.28587658331489757,0.1849711700661162,0.27805834192912693,0.2834431316952303,0.2666493603061121,0.2192945585802053,0.250549983608502,0.21607978534384578,0.23304577431842988,0.25031309737527807,0.2429476075342533,0.26745541493184516,0.21976041663839058,0.23490398967780043,0.26694242955654485,0.3265683524677855,0.30035325153814885,0.29453595541117805,0.29170848237184577,0.2484904881221198,0.2565333441281669,0.26239136517896783,0.2527927234027389,0.2152542530482065,0.2608240569728702,0.2476204193422521,0.21258095133158667,0.30735259954627037,0.27641814326615965,0.24797173525343566,0.2909575222169369,0.2633547231261823,0.27422118180824984,0.22764034364777955,0.25999282619594727,0.27071209141027797,0.18693803944197723,0.21817165191947419,0.27806851625846757,0.24896576465307077,0.27799225281556206,0.3091277306668597,0.26843166208155167,0.2673236530749167,0.24356131170914455,0.2583028107362739,0.25633364797501884,0.3086485241426735,0.23612708225809229,0.20982391322941288,0.21582258161952203,0.2895205336292926,0.25702504137472043,0.20344865371178478,0.21734585694818784,0.28039680399891026,0.2302340678423033],\"type\":\"scatter\"}],                        {\"height\":600,\"legend\":{\"bgcolor\":\"#E2E2E2\",\"bordercolor\":\"black\",\"borderwidth\":2,\"traceorder\":\"normal\",\"x\":0.75,\"y\":0},\"showlegend\":true,\"title\":{\"text\":\"Portfolio Optimisation with the Efficient Frontier\"},\"width\":800,\"xaxis\":{\"title\":{\"text\":\"Annualised Volatility\"}},\"yaxis\":{\"title\":{\"text\":\"Annualised Return\"}},\"template\":{\"data\":{\"bar\":[{\"error_x\":{\"color\":\"#2a3f5f\"},\"error_y\":{\"color\":\"#2a3f5f\"},\"marker\":{\"line\":{\"color\":\"#E5ECF6\",\"width\":0.5},\"pattern\":{\"fillmode\":\"overlay\",\"size\":10,\"solidity\":0.2}},\"type\":\"bar\"}],\"barpolar\":[{\"marker\":{\"line\":{\"color\":\"#E5ECF6\",\"width\":0.5},\"pattern\":{\"fillmode\":\"overlay\",\"size\":10,\"solidity\":0.2}},\"type\":\"barpolar\"}],\"carpet\":[{\"aaxis\":{\"endlinecolor\":\"#2a3f5f\",\"gridcolor\":\"white\",\"linecolor\":\"white\",\"minorgridcolor\":\"white\",\"startlinecolor\":\"#2a3f5f\"},\"baxis\":{\"endlinecolor\":\"#2a3f5f\",\"gridcolor\":\"white\",\"linecolor\":\"white\",\"minorgridcolor\":\"white\",\"startlinecolor\":\"#2a3f5f\"},\"type\":\"carpet\"}],\"choropleth\":[{\"colorbar\":{\"outlinewidth\":0,\"ticks\":\"\"},\"type\":\"choropleth\"}],\"contour\":[{\"colorbar\":{\"outlinewidth\":0,\"ticks\":\"\"},\"colorscale\":[[0.0,\"#0d0887\"],[0.1111111111111111,\"#46039f\"],[0.2222222222222222,\"#7201a8\"],[0.3333333333333333,\"#9c179e\"],[0.4444444444444444,\"#bd3786\"],[0.5555555555555556,\"#d8576b\"],[0.6666666666666666,\"#ed7953\"],[0.7777777777777778,\"#fb9f3a\"],[0.8888888888888888,\"#fdca26\"],[1.0,\"#f0f921\"]],\"type\":\"contour\"}],\"contourcarpet\":[{\"colorbar\":{\"outlinewidth\":0,\"ticks\":\"\"},\"type\":\"contourcarpet\"}],\"heatmap\":[{\"colorbar\":{\"outlinewidth\":0,\"ticks\":\"\"},\"colorscale\":[[0.0,\"#0d0887\"],[0.1111111111111111,\"#46039f\"],[0.2222222222222222,\"#7201a8\"],[0.3333333333333333,\"#9c179e\"],[0.4444444444444444,\"#bd3786\"],[0.5555555555555556,\"#d8576b\"],[0.6666666666666666,\"#ed7953\"],[0.7777777777777778,\"#fb9f3a\"],[0.8888888888888888,\"#fdca26\"],[1.0,\"#f0f921\"]],\"type\":\"heatmap\"}],\"heatmapgl\":[{\"colorbar\":{\"outlinewidth\":0,\"ticks\":\"\"},\"colorscale\":[[0.0,\"#0d0887\"],[0.1111111111111111,\"#46039f\"],[0.2222222222222222,\"#7201a8\"],[0.3333333333333333,\"#9c179e\"],[0.4444444444444444,\"#bd3786\"],[0.5555555555555556,\"#d8576b\"],[0.6666666666666666,\"#ed7953\"],[0.7777777777777778,\"#fb9f3a\"],[0.8888888888888888,\"#fdca26\"],[1.0,\"#f0f921\"]],\"type\":\"heatmapgl\"}],\"histogram\":[{\"marker\":{\"pattern\":{\"fillmode\":\"overlay\",\"size\":10,\"solidity\":0.2}},\"type\":\"histogram\"}],\"histogram2d\":[{\"colorbar\":{\"outlinewidth\":0,\"ticks\":\"\"},\"colorscale\":[[0.0,\"#0d0887\"],[0.1111111111111111,\"#46039f\"],[0.2222222222222222,\"#7201a8\"],[0.3333333333333333,\"#9c179e\"],[0.4444444444444444,\"#bd3786\"],[0.5555555555555556,\"#d8576b\"],[0.6666666666666666,\"#ed7953\"],[0.7777777777777778,\"#fb9f3a\"],[0.8888888888888888,\"#fdca26\"],[1.0,\"#f0f921\"]],\"type\":\"histogram2d\"}],\"histogram2dcontour\":[{\"colorbar\":{\"outlinewidth\":0,\"ticks\":\"\"},\"colorscale\":[[0.0,\"#0d0887\"],[0.1111111111111111,\"#46039f\"],[0.2222222222222222,\"#7201a8\"],[0.3333333333333333,\"#9c179e\"],[0.4444444444444444,\"#bd3786\"],[0.5555555555555556,\"#d8576b\"],[0.6666666666666666,\"#ed7953\"],[0.7777777777777778,\"#fb9f3a\"],[0.8888888888888888,\"#fdca26\"],[1.0,\"#f0f921\"]],\"type\":\"histogram2dcontour\"}],\"mesh3d\":[{\"colorbar\":{\"outlinewidth\":0,\"ticks\":\"\"},\"type\":\"mesh3d\"}],\"parcoords\":[{\"line\":{\"colorbar\":{\"outlinewidth\":0,\"ticks\":\"\"}},\"type\":\"parcoords\"}],\"pie\":[{\"automargin\":true,\"type\":\"pie\"}],\"scatter\":[{\"marker\":{\"colorbar\":{\"outlinewidth\":0,\"ticks\":\"\"}},\"type\":\"scatter\"}],\"scatter3d\":[{\"line\":{\"colorbar\":{\"outlinewidth\":0,\"ticks\":\"\"}},\"marker\":{\"colorbar\":{\"outlinewidth\":0,\"ticks\":\"\"}},\"type\":\"scatter3d\"}],\"scattercarpet\":[{\"marker\":{\"colorbar\":{\"outlinewidth\":0,\"ticks\":\"\"}},\"type\":\"scattercarpet\"}],\"scattergeo\":[{\"marker\":{\"colorbar\":{\"outlinewidth\":0,\"ticks\":\"\"}},\"type\":\"scattergeo\"}],\"scattergl\":[{\"marker\":{\"colorbar\":{\"outlinewidth\":0,\"ticks\":\"\"}},\"type\":\"scattergl\"}],\"scattermapbox\":[{\"marker\":{\"colorbar\":{\"outlinewidth\":0,\"ticks\":\"\"}},\"type\":\"scattermapbox\"}],\"scatterpolar\":[{\"marker\":{\"colorbar\":{\"outlinewidth\":0,\"ticks\":\"\"}},\"type\":\"scatterpolar\"}],\"scatterpolargl\":[{\"marker\":{\"colorbar\":{\"outlinewidth\":0,\"ticks\":\"\"}},\"type\":\"scatterpolargl\"}],\"scatterternary\":[{\"marker\":{\"colorbar\":{\"outlinewidth\":0,\"ticks\":\"\"}},\"type\":\"scatterternary\"}],\"surface\":[{\"colorbar\":{\"outlinewidth\":0,\"ticks\":\"\"},\"colorscale\":[[0.0,\"#0d0887\"],[0.1111111111111111,\"#46039f\"],[0.2222222222222222,\"#7201a8\"],[0.3333333333333333,\"#9c179e\"],[0.4444444444444444,\"#bd3786\"],[0.5555555555555556,\"#d8576b\"],[0.6666666666666666,\"#ed7953\"],[0.7777777777777778,\"#fb9f3a\"],[0.8888888888888888,\"#fdca26\"],[1.0,\"#f0f921\"]],\"type\":\"surface\"}],\"table\":[{\"cells\":{\"fill\":{\"color\":\"#EBF0F8\"},\"line\":{\"color\":\"white\"}},\"header\":{\"fill\":{\"color\":\"#C8D4E3\"},\"line\":{\"color\":\"white\"}},\"type\":\"table\"}]},\"layout\":{\"annotationdefaults\":{\"arrowcolor\":\"#2a3f5f\",\"arrowhead\":0,\"arrowwidth\":1},\"autotypenumbers\":\"strict\",\"coloraxis\":{\"colorbar\":{\"outlinewidth\":0,\"ticks\":\"\"}},\"colorscale\":{\"diverging\":[[0,\"#8e0152\"],[0.1,\"#c51b7d\"],[0.2,\"#de77ae\"],[0.3,\"#f1b6da\"],[0.4,\"#fde0ef\"],[0.5,\"#f7f7f7\"],[0.6,\"#e6f5d0\"],[0.7,\"#b8e186\"],[0.8,\"#7fbc41\"],[0.9,\"#4d9221\"],[1,\"#276419\"]],\"sequential\":[[0.0,\"#0d0887\"],[0.1111111111111111,\"#46039f\"],[0.2222222222222222,\"#7201a8\"],[0.3333333333333333,\"#9c179e\"],[0.4444444444444444,\"#bd3786\"],[0.5555555555555556,\"#d8576b\"],[0.6666666666666666,\"#ed7953\"],[0.7777777777777778,\"#fb9f3a\"],[0.8888888888888888,\"#fdca26\"],[1.0,\"#f0f921\"]],\"sequentialminus\":[[0.0,\"#0d0887\"],[0.1111111111111111,\"#46039f\"],[0.2222222222222222,\"#7201a8\"],[0.3333333333333333,\"#9c179e\"],[0.4444444444444444,\"#bd3786\"],[0.5555555555555556,\"#d8576b\"],[0.6666666666666666,\"#ed7953\"],[0.7777777777777778,\"#fb9f3a\"],[0.8888888888888888,\"#fdca26\"],[1.0,\"#f0f921\"]]},\"colorway\":[\"#636efa\",\"#EF553B\",\"#00cc96\",\"#ab63fa\",\"#FFA15A\",\"#19d3f3\",\"#FF6692\",\"#B6E880\",\"#FF97FF\",\"#FECB52\"],\"font\":{\"color\":\"#2a3f5f\"},\"geo\":{\"bgcolor\":\"white\",\"lakecolor\":\"white\",\"landcolor\":\"#E5ECF6\",\"showlakes\":true,\"showland\":true,\"subunitcolor\":\"white\"},\"hoverlabel\":{\"align\":\"left\"},\"hovermode\":\"closest\",\"mapbox\":{\"style\":\"light\"},\"paper_bgcolor\":\"white\",\"plot_bgcolor\":\"#E5ECF6\",\"polar\":{\"angularaxis\":{\"gridcolor\":\"white\",\"linecolor\":\"white\",\"ticks\":\"\"},\"bgcolor\":\"#E5ECF6\",\"radialaxis\":{\"gridcolor\":\"white\",\"linecolor\":\"white\",\"ticks\":\"\"}},\"scene\":{\"xaxis\":{\"backgroundcolor\":\"#E5ECF6\",\"gridcolor\":\"white\",\"gridwidth\":2,\"linecolor\":\"white\",\"showbackground\":true,\"ticks\":\"\",\"zerolinecolor\":\"white\"},\"yaxis\":{\"backgroundcolor\":\"#E5ECF6\",\"gridcolor\":\"white\",\"gridwidth\":2,\"linecolor\":\"white\",\"showbackground\":true,\"ticks\":\"\",\"zerolinecolor\":\"white\"},\"zaxis\":{\"backgroundcolor\":\"#E5ECF6\",\"gridcolor\":\"white\",\"gridwidth\":2,\"linecolor\":\"white\",\"showbackground\":true,\"ticks\":\"\",\"zerolinecolor\":\"white\"}},\"shapedefaults\":{\"line\":{\"color\":\"#2a3f5f\"}},\"ternary\":{\"aaxis\":{\"gridcolor\":\"white\",\"linecolor\":\"white\",\"ticks\":\"\"},\"baxis\":{\"gridcolor\":\"white\",\"linecolor\":\"white\",\"ticks\":\"\"},\"bgcolor\":\"#E5ECF6\",\"caxis\":{\"gridcolor\":\"white\",\"linecolor\":\"white\",\"ticks\":\"\"}},\"title\":{\"x\":0.05},\"xaxis\":{\"automargin\":true,\"gridcolor\":\"white\",\"linecolor\":\"white\",\"ticks\":\"\",\"title\":{\"standoff\":15},\"zerolinecolor\":\"white\",\"zerolinewidth\":2},\"yaxis\":{\"automargin\":true,\"gridcolor\":\"white\",\"linecolor\":\"white\",\"ticks\":\"\",\"title\":{\"standoff\":15},\"zerolinecolor\":\"white\",\"zerolinewidth\":2}}}},                        {\"responsive\": true}                    ).then(function(){\n",
              "                            \n",
              "var gd = document.getElementById('8108694a-6007-4f0d-844a-27dabdbcc82c');\n",
              "var x = new MutationObserver(function (mutations, observer) {{\n",
              "        var display = window.getComputedStyle(gd).display;\n",
              "        if (!display || display === 'none') {{\n",
              "            console.log([gd, 'removed!']);\n",
              "            Plotly.purge(gd);\n",
              "            observer.disconnect();\n",
              "        }}\n",
              "}});\n",
              "\n",
              "// Listen for the removal of the full notebook cells\n",
              "var notebookContainer = gd.closest('#notebook-container');\n",
              "if (notebookContainer) {{\n",
              "    x.observe(notebookContainer, {childList: true});\n",
              "}}\n",
              "\n",
              "// Listen for the clearing of the current output cell\n",
              "var outputEl = gd.closest('.output');\n",
              "if (outputEl) {{\n",
              "    x.observe(outputEl, {childList: true});\n",
              "}}\n",
              "\n",
              "                        })                };                            </script>        </div>\n",
              "</body>\n",
              "</html>"
            ]
          },
          "metadata": {},
          "output_type": "display_data"
        }
      ],
      "source": [
        "#Max Sharpe Ratio\n",
        "MaxSharpeRatio = go.Scatter(\n",
        "    name='Maximium Return',\n",
        "    mode='markers',\n",
        "    x=[max_rvolatility],\n",
        "    y=[max_return],\n",
        "    marker=dict(color='red',size=14,line=dict(width=3, color='black'))\n",
        ")\n",
        "\n",
        "#Min Vol\n",
        "MinVol = go.Scatter(\n",
        "    name='Mininium Risk',\n",
        "    mode='markers',\n",
        "    x=[min_volatility],\n",
        "    y=[min_vreturns],\n",
        "    marker=dict(color='green',size=14,line=dict(width=3, color='black'))\n",
        ")\n",
        "\n",
        "#Random portfolio\n",
        "EF_curve = go.Scatter(\n",
        "    name='Random Portfolios',\n",
        "    mode='markers',\n",
        "    x= pfolio_volatilities,\n",
        "    y= pfolio_returns,\n",
        "    marker=dict(color='blue',size=5)\n",
        ")\n",
        "\n",
        "data = [MaxSharpeRatio, MinVol, EF_curve]\n",
        "\n",
        "layout = go.Layout(\n",
        "    title = 'Portfolio Optimisation with the Efficient Frontier',\n",
        "    yaxis = dict(title='Annualised Return'),\n",
        "    xaxis = dict(title='Annualised Volatility'),\n",
        "    showlegend = True,\n",
        "    legend = dict(\n",
        "        x = .75, y = 0, traceorder='normal',\n",
        "        bgcolor='#E2E2E2',\n",
        "        bordercolor='black',\n",
        "        borderwidth=2),\n",
        "    width=800,\n",
        "    height=600)\n",
        "\n",
        "fig = go.Figure(data=data, layout=layout)\n",
        "fig.show()"
      ]
    },
    {
      "cell_type": "markdown",
      "metadata": {
        "id": "XJoQiApqRW7x"
      },
      "source": [
        "### Max Sharpe ratio and Min volatility table with required weights of stocks"
      ]
    },
    {
      "cell_type": "code",
      "execution_count": null,
      "metadata": {
        "colab": {
          "background_save": true
        },
        "id": "l9DzP3V8RW7x"
      },
      "outputs": [],
      "source": [
        "col = []\n",
        "col =  ['Returns', 'Volatility']\n",
        "for i in range(num_assets):\n",
        "    col.append(pf_data.columns[i])"
      ]
    },
    {
      "cell_type": "code",
      "execution_count": null,
      "metadata": {
        "colab": {
          "background_save": true
        },
        "id": "bBZvXhHkRW7y"
      },
      "outputs": [],
      "source": [
        "result_table = pd.DataFrame(columns  = [col], index=['maximum Return', 'minimun risk'])\n",
        "result_table.iloc[0] = max_sr\n",
        "result_table.iloc[1] = min_vol"
      ]
    },
    {
      "cell_type": "code",
      "execution_count": null,
      "metadata": {
        "colab": {
          "background_save": true
        },
        "id": "GpQbZqQnRW7y",
        "outputId": "c97ea65d-323c-48f9-a055-8fac3b0a7bcf"
      },
      "outputs": [
        {
          "data": {
            "text/html": [
              "\n",
              "  <div id=\"df-4a064846-c9a2-4eeb-87a7-c0eab688530c\">\n",
              "    <div class=\"colab-df-container\">\n",
              "      <div>\n",
              "<style scoped>\n",
              "    .dataframe tbody tr th:only-of-type {\n",
              "        vertical-align: middle;\n",
              "    }\n",
              "\n",
              "    .dataframe tbody tr th {\n",
              "        vertical-align: top;\n",
              "    }\n",
              "\n",
              "    .dataframe thead tr th {\n",
              "        text-align: left;\n",
              "    }\n",
              "</style>\n",
              "<table border=\"1\" class=\"dataframe\">\n",
              "  <thead>\n",
              "    <tr>\n",
              "      <th></th>\n",
              "      <th>Returns</th>\n",
              "      <th>Volatility</th>\n",
              "      <th>ASIANPAINT.NS</th>\n",
              "      <th>INFY.NS</th>\n",
              "      <th>ITC.NS</th>\n",
              "      <th>KOTAKBANK.NS</th>\n",
              "      <th>RELIANCE.NS</th>\n",
              "      <th>TITAN.NS</th>\n",
              "    </tr>\n",
              "  </thead>\n",
              "  <tbody>\n",
              "    <tr>\n",
              "      <th>maximum Return</th>\n",
              "      <td>35.619%</td>\n",
              "      <td>22.747%</td>\n",
              "      <td>3.973%</td>\n",
              "      <td>48.584%</td>\n",
              "      <td>0.29%</td>\n",
              "      <td>3.368%</td>\n",
              "      <td>0.022%</td>\n",
              "      <td>43.763%</td>\n",
              "    </tr>\n",
              "    <tr>\n",
              "      <th>minimun risk</th>\n",
              "      <td>23.588%</td>\n",
              "      <td>18.137%</td>\n",
              "      <td>23.719%</td>\n",
              "      <td>26.407%</td>\n",
              "      <td>25.948%</td>\n",
              "      <td>8.74%</td>\n",
              "      <td>5.712%</td>\n",
              "      <td>9.474%</td>\n",
              "    </tr>\n",
              "  </tbody>\n",
              "</table>\n",
              "</div>\n",
              "      <button class=\"colab-df-convert\" onclick=\"convertToInteractive('df-4a064846-c9a2-4eeb-87a7-c0eab688530c')\"\n",
              "              title=\"Convert this dataframe to an interactive table.\"\n",
              "              style=\"display:none;\">\n",
              "        \n",
              "  <svg xmlns=\"http://www.w3.org/2000/svg\" height=\"24px\"viewBox=\"0 0 24 24\"\n",
              "       width=\"24px\">\n",
              "    <path d=\"M0 0h24v24H0V0z\" fill=\"none\"/>\n",
              "    <path d=\"M18.56 5.44l.94 2.06.94-2.06 2.06-.94-2.06-.94-.94-2.06-.94 2.06-2.06.94zm-11 1L8.5 8.5l.94-2.06 2.06-.94-2.06-.94L8.5 2.5l-.94 2.06-2.06.94zm10 10l.94 2.06.94-2.06 2.06-.94-2.06-.94-.94-2.06-.94 2.06-2.06.94z\"/><path d=\"M17.41 7.96l-1.37-1.37c-.4-.4-.92-.59-1.43-.59-.52 0-1.04.2-1.43.59L10.3 9.45l-7.72 7.72c-.78.78-.78 2.05 0 2.83L4 21.41c.39.39.9.59 1.41.59.51 0 1.02-.2 1.41-.59l7.78-7.78 2.81-2.81c.8-.78.8-2.07 0-2.86zM5.41 20L4 18.59l7.72-7.72 1.47 1.35L5.41 20z\"/>\n",
              "  </svg>\n",
              "      </button>\n",
              "      \n",
              "  <style>\n",
              "    .colab-df-container {\n",
              "      display:flex;\n",
              "      flex-wrap:wrap;\n",
              "      gap: 12px;\n",
              "    }\n",
              "\n",
              "    .colab-df-convert {\n",
              "      background-color: #E8F0FE;\n",
              "      border: none;\n",
              "      border-radius: 50%;\n",
              "      cursor: pointer;\n",
              "      display: none;\n",
              "      fill: #1967D2;\n",
              "      height: 32px;\n",
              "      padding: 0 0 0 0;\n",
              "      width: 32px;\n",
              "    }\n",
              "\n",
              "    .colab-df-convert:hover {\n",
              "      background-color: #E2EBFA;\n",
              "      box-shadow: 0px 1px 2px rgba(60, 64, 67, 0.3), 0px 1px 3px 1px rgba(60, 64, 67, 0.15);\n",
              "      fill: #174EA6;\n",
              "    }\n",
              "\n",
              "    [theme=dark] .colab-df-convert {\n",
              "      background-color: #3B4455;\n",
              "      fill: #D2E3FC;\n",
              "    }\n",
              "\n",
              "    [theme=dark] .colab-df-convert:hover {\n",
              "      background-color: #434B5C;\n",
              "      box-shadow: 0px 1px 3px 1px rgba(0, 0, 0, 0.15);\n",
              "      filter: drop-shadow(0px 1px 2px rgba(0, 0, 0, 0.3));\n",
              "      fill: #FFFFFF;\n",
              "    }\n",
              "  </style>\n",
              "\n",
              "      <script>\n",
              "        const buttonEl =\n",
              "          document.querySelector('#df-4a064846-c9a2-4eeb-87a7-c0eab688530c button.colab-df-convert');\n",
              "        buttonEl.style.display =\n",
              "          google.colab.kernel.accessAllowed ? 'block' : 'none';\n",
              "\n",
              "        async function convertToInteractive(key) {\n",
              "          const element = document.querySelector('#df-4a064846-c9a2-4eeb-87a7-c0eab688530c');\n",
              "          const dataTable =\n",
              "            await google.colab.kernel.invokeFunction('convertToInteractive',\n",
              "                                                     [key], {});\n",
              "          if (!dataTable) return;\n",
              "\n",
              "          const docLinkHtml = 'Like what you see? Visit the ' +\n",
              "            '<a target=\"_blank\" href=https://colab.research.google.com/notebooks/data_table.ipynb>data table notebook</a>'\n",
              "            + ' to learn more about interactive tables.';\n",
              "          element.innerHTML = '';\n",
              "          dataTable['output_type'] = 'display_data';\n",
              "          await google.colab.output.renderOutput(dataTable, element);\n",
              "          const docLink = document.createElement('div');\n",
              "          docLink.innerHTML = docLinkHtml;\n",
              "          element.appendChild(docLink);\n",
              "        }\n",
              "      </script>\n",
              "    </div>\n",
              "  </div>\n",
              "  "
            ],
            "text/plain": [
              "                Returns Volatility ASIANPAINT.NS  INFY.NS   ITC.NS  \\\n",
              "maximum Return  35.619%    22.747%        3.973%  48.584%    0.29%   \n",
              "minimun risk    23.588%    18.137%       23.719%  26.407%  25.948%   \n",
              "\n",
              "               KOTAKBANK.NS RELIANCE.NS TITAN.NS  \n",
              "maximum Return       3.368%      0.022%  43.763%  \n",
              "minimun risk          8.74%      5.712%   9.474%  "
            ]
          },
          "execution_count": null,
          "metadata": {},
          "output_type": "execute_result"
        }
      ],
      "source": [
        "result_table"
      ]
    },
    {
      "cell_type": "markdown",
      "metadata": {
        "id": "8Hv4QlpaRW7z"
      },
      "source": [
        "### Correlation Graph"
      ]
    },
    {
      "cell_type": "code",
      "execution_count": null,
      "metadata": {
        "colab": {
          "background_save": true
        },
        "id": "SOXC3QjRRW7z",
        "outputId": "6182e575-5c0f-4a96-fac9-fc900ed2e80a"
      },
      "outputs": [
        {
          "data": {
            "image/png": "[encoded data removed]",
            "text/plain": [
              "<Figure size 432x288 with 2 Axes>"
            ]
          },
          "metadata": {},
          "output_type": "display_data"
        }
      ],
      "source": [
        "sn.heatmap(corr_matrix, annot=True)\n",
        "plt.show()"
      ]
    },
    {
      "cell_type": "code",
      "execution_count": null,
      "metadata": {
        "id": "XH_rWIeKRW70"
      },
      "outputs": [],
      "source": [
        "trace = go.Heatmap(\n",
        "   x = assets,\n",
        "   y = assets,\n",
        "   z = corr_matrix,\n",
        "   type = 'heatmap',\n",
        "   colorscale = 'Viridis',\n",
        "   hovertemplate = \"%{z}\"\n",
        ")\n",
        "layout = go.Layout(\n",
        "    title = 'Correlation',\n",
        "    yaxis = dict(title='Stocks'),\n",
        "    xaxis = dict(title='Stocks'),\n",
        "    showlegend = False,\n",
        "    width=500,\n",
        "    height=500)\n",
        "data = [trace]\n",
        "fig = go.Figure(data = data, layout = layout)\n",
        "fig.show()"
      ]
    }
  ],
  "metadata": {
    "colab": {
      "collapsed_sections": [],
      "name": "Stock Portfolio Optimization LSTM",
      "toc_visible": true,
      "provenance": []
    },
    "kernelspec": {
      "display_name": "Python 3 (ipykernel)",
      "language": "python",
      "name": "python3"
    },
    "language_info": {
      "codemirror_mode": {
        "name": "ipython",
        "version": 3
      },
      "file_extension": ".py",
      "mimetype": "text/x-python",
      "name": "python",
      "nbconvert_exporter": "python",
      "pygments_lexer": "ipython3",
      "version": "3.9.7"
    }
  },
  "nbformat": 4,
  "nbformat_minor": 0
}